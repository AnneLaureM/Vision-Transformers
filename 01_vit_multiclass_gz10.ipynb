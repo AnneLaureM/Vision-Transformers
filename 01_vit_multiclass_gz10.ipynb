{
 "cells": [
  {
   "cell_type": "markdown",
   "id": "9bb58d95",
   "metadata": {},
   "source": [
    "# ViT — Multiclass Classification on GZ10 (Enhanced)\n",
    "\n",
    "This notebook trains a Vision Transformer on **MultimodalUniverse/gz10** with:\n",
    "- Demo vs Full training toggle\n",
    "- Progress bars\n",
    "- Confusion matrix + metric curves\n",
    "- Best checkpoint save & reload\n",
    "- Mixed precision (AMP) when CUDA is available\n",
    "- Robust validation split creation\n",
    "- Batch-aware transforms for Hugging Face Datasets\n"
   ]
  },
  {
   "cell_type": "markdown",
   "id": "37a73181",
   "metadata": {},
   "source": [
    "## 0) Install dependencies (once per environment)"
   ]
  },
  {
   "cell_type": "code",
   "execution_count": 44,
   "id": "e0e5bd2f",
   "metadata": {},
   "outputs": [],
   "source": [
    "# %pip install -U datasets timm torch torchvision transformers accelerate scikit-learn tqdm matplotlib numpy --quiet"
   ]
  },
  {
   "cell_type": "markdown",
   "id": "822f0143",
   "metadata": {},
   "source": [
    "## 1) Imports & configuration"
   ]
  },
  {
   "cell_type": "code",
   "execution_count": 45,
   "id": "cc2b5927",
   "metadata": {},
   "outputs": [
    {
     "name": "stdout",
     "output_type": "stream",
     "text": [
      "Device: cuda | AMP: True | Epochs: 100\n"
     ]
    }
   ],
   "source": [
    "import os, math, json, time, numpy as np\n",
    "import torch\n",
    "from torch import nn\n",
    "from torch.utils.data import DataLoader\n",
    "from torchvision import transforms\n",
    "import timm\n",
    "from datasets import load_dataset, DatasetDict\n",
    "from sklearn.model_selection import StratifiedShuffleSplit\n",
    "from sklearn.metrics import accuracy_score, confusion_matrix, classification_report\n",
    "import matplotlib.pyplot as plt\n",
    "from tqdm.auto import tqdm\n",
    "from pathlib import Path\n",
    "\n",
    "SEED = 42\n",
    "torch.manual_seed(SEED); np.random.seed(SEED)\n",
    "if torch.cuda.is_available():\n",
    "    torch.cuda.manual_seed_all(SEED)\n",
    "\n",
    "DEMO = False\n",
    "EPOCHS = 3 if DEMO else 100\n",
    "BATCH_TRAIN = 32 if DEMO else 64\n",
    "BATCH_VAL = 64 if DEMO else 128\n",
    "\n",
    "USE_AMP = torch.cuda.is_available()\n",
    "DEVICE = 'cuda' if torch.cuda.is_available() else 'cpu'\n",
    "print('Device:', DEVICE, '| AMP:', USE_AMP, '| Epochs:', EPOCHS)\n"
   ]
  },
  {
   "cell_type": "markdown",
   "id": "62c4b3da",
   "metadata": {},
   "source": [
    "## 2) Load GZ10 and create a validation split (if missing)\n",
    "We use the `datasets` library. The dataset has images under `rgb_image` and labels under `gz10_label`."
   ]
  },
  {
   "cell_type": "code",
   "execution_count": 46,
   "id": "6546f5bb",
   "metadata": {},
   "outputs": [
    {
     "name": "stdout",
     "output_type": "stream",
     "text": [
      "DatasetDict({\n",
      "    train: Dataset({\n",
      "        features: ['gz10_label', 'redshift', 'object_id', 'rgb_image', 'rgb_pixel_scale'],\n",
      "        num_rows: 17736\n",
      "    })\n",
      "})\n",
      "DatasetDict({\n",
      "    train: Dataset({\n",
      "        features: ['gz10_label', 'redshift', 'object_id', 'rgb_image', 'rgb_pixel_scale'],\n",
      "        num_rows: 15962\n",
      "    })\n",
      "    validation: Dataset({\n",
      "        features: ['gz10_label', 'redshift', 'object_id', 'rgb_image', 'rgb_pixel_scale'],\n",
      "        num_rows: 1774\n",
      "    })\n",
      "})\n"
     ]
    }
   ],
   "source": [
    "ds = load_dataset('MultimodalUniverse/gz10')\n",
    "print(ds)\n",
    "\n",
    "if 'validation' not in ds:\n",
    "    from datasets import DatasetDict\n",
    "    labels = np.array(ds['train']['gz10_label'])\n",
    "    sss = StratifiedShuffleSplit(n_splits=1, test_size=0.10, random_state=42)\n",
    "    (train_idx, val_idx), = sss.split(np.zeros(len(labels)), labels)\n",
    "    ds = DatasetDict({\n",
    "        'train': ds['train'].select(train_idx.tolist()),\n",
    "        'validation': ds['train'].select(val_idx.tolist()),\n",
    "        **({'test': ds['test']} if 'test' in ds else {})\n",
    "    })\n",
    "print(ds)\n"
   ]
  },
  {
   "cell_type": "markdown",
   "id": "0230586b",
   "metadata": {},
   "source": [
    "## 3) Transforms and dataset wrappers (batch-aware)"
   ]
  },
  {
   "cell_type": "code",
   "execution_count": 47,
   "id": "9cd4edf3",
   "metadata": {},
   "outputs": [],
   "source": [
    "IMG_SIZE = 224\n",
    "from torchvision import transforms\n",
    "train_tf = transforms.Compose([\n",
    "    transforms.Resize((IMG_SIZE, IMG_SIZE)),\n",
    "    transforms.RandomHorizontalFlip(),\n",
    "    transforms.ToTensor()\n",
    "])\n",
    "val_tf = transforms.Compose([\n",
    "    transforms.Resize((IMG_SIZE, IMG_SIZE)),\n",
    "    transforms.ToTensor()\n",
    "])\n",
    "\n",
    "def make_transform(split):\n",
    "    tfm = train_tf if split == 'train' else val_tf\n",
    "    def _apply(batch):\n",
    "        imgs = [tfm(img) for img in batch['rgb_image']]\n",
    "        labels = [int(y) for y in batch['gz10_label']]\n",
    "        return {'pixel_values': imgs, 'label': labels}\n",
    "    return _apply\n",
    "\n",
    "for sp in ['train', 'validation', 'test']:\n",
    "    if sp in ds:\n",
    "        ds[sp] = ds[sp].with_transform(make_transform(sp))\n"
   ]
  },
  {
   "cell_type": "markdown",
   "id": "75957730",
   "metadata": {},
   "source": [
    "## 4) DataLoaders"
   ]
  },
  {
   "cell_type": "code",
   "execution_count": 48,
   "id": "994b1579",
   "metadata": {},
   "outputs": [
    {
     "name": "stdout",
     "output_type": "stream",
     "text": [
      "Batches | train: 250 val: 14\n"
     ]
    }
   ],
   "source": [
    "from torch.utils.data import DataLoader\n",
    "train_loader = DataLoader(ds['train'], batch_size=BATCH_TRAIN, shuffle=True)\n",
    "val_loader = DataLoader(ds['validation'], batch_size=BATCH_VAL, shuffle=False)\n",
    "print('Batches | train:', len(train_loader), 'val:', len(val_loader))\n"
   ]
  },
  {
   "cell_type": "markdown",
   "id": "1501002d",
   "metadata": {},
   "source": [
    "## 5) Model, optimizer, scheduler, and AMP scaler"
   ]
  },
  {
   "cell_type": "code",
   "execution_count": 49,
   "id": "47aab518",
   "metadata": {},
   "outputs": [
    {
     "name": "stderr",
     "output_type": "stream",
     "text": [
      "/tmp/ipykernel_3794604/3395360783.py:9: FutureWarning: `torch.cuda.amp.GradScaler(args...)` is deprecated. Please use `torch.amp.GradScaler('cuda', args...)` instead.\n",
      "  scaler = torch.cuda.amp.GradScaler(enabled=USE_AMP)\n"
     ]
    }
   ],
   "source": [
    "NUM_CLASSES = 10\n",
    "model_name = 'vit_base_patch16_224'\n",
    "model = timm.create_model(model_name, pretrained=True, num_classes=NUM_CLASSES)\n",
    "model.to(DEVICE)\n",
    "\n",
    "opt = torch.optim.AdamW(model.parameters(), lr=5e-4, weight_decay=0.05)\n",
    "sched = torch.optim.lr_scheduler.CosineAnnealingLR(opt, T_max=EPOCHS)\n",
    "loss_fn = nn.CrossEntropyLoss()\n",
    "scaler = torch.cuda.amp.GradScaler(enabled=USE_AMP)\n",
    "\n",
    "ckpt_dir = Path('checkpoints'); ckpt_dir.mkdir(exist_ok=True)\n",
    "best_path = ckpt_dir / 'best_vit_gz10.pth'\n",
    "best_acc = -1.0\n"
   ]
  },
  {
   "cell_type": "markdown",
   "id": "8f6fa712",
   "metadata": {},
   "source": [
    "## 6) Training & validation loops with progress bars"
   ]
  },
  {
   "cell_type": "code",
   "execution_count": 50,
   "id": "195b690c",
   "metadata": {},
   "outputs": [
    {
     "name": "stderr",
     "output_type": "stream",
     "text": [
      "Epoch 1/100 [train]:   0%|          | 0/250 [00:00<?, ?it/s]/tmp/ipykernel_3794604/1896974608.py:13: FutureWarning: `torch.cuda.amp.autocast(args...)` is deprecated. Please use `torch.amp.autocast('cuda', args...)` instead.\n",
      "  with torch.cuda.amp.autocast(enabled=USE_AMP):\n",
      "Epoch 1/100 [train]: 100%|██████████| 250/250 [01:26<00:00,  2.88it/s, loss=2.2564]\n",
      "Epoch 1/100 [val]:   0%|          | 0/14 [00:00<?, ?it/s]/tmp/ipykernel_3794604/1896974608.py:33: FutureWarning: `torch.cuda.amp.autocast(args...)` is deprecated. Please use `torch.amp.autocast('cuda', args...)` instead.\n",
      "  with torch.cuda.amp.autocast(enabled=USE_AMP):\n",
      "Epoch 1/100 [val]: 100%|██████████| 14/14 [00:09<00:00,  1.44it/s]\n"
     ]
    },
    {
     "name": "stdout",
     "output_type": "stream",
     "text": [
      "Epoch 1: train_loss=2.2474 | val_acc=0.2576\n",
      "Saved new best checkpoint: val_acc=0.2576 -> checkpoints/best_vit_gz10.pth\n"
     ]
    },
    {
     "name": "stderr",
     "output_type": "stream",
     "text": [
      "Epoch 2/100 [train]:   0%|          | 0/250 [00:00<?, ?it/s]/tmp/ipykernel_3794604/1896974608.py:13: FutureWarning: `torch.cuda.amp.autocast(args...)` is deprecated. Please use `torch.amp.autocast('cuda', args...)` instead.\n",
      "  with torch.cuda.amp.autocast(enabled=USE_AMP):\n",
      "Epoch 2/100 [train]: 100%|██████████| 250/250 [01:40<00:00,  2.49it/s, loss=1.6940]\n",
      "Epoch 2/100 [val]:   0%|          | 0/14 [00:00<?, ?it/s]/tmp/ipykernel_3794604/1896974608.py:33: FutureWarning: `torch.cuda.amp.autocast(args...)` is deprecated. Please use `torch.amp.autocast('cuda', args...)` instead.\n",
      "  with torch.cuda.amp.autocast(enabled=USE_AMP):\n",
      "Epoch 2/100 [val]: 100%|██████████| 14/14 [00:09<00:00,  1.41it/s]\n"
     ]
    },
    {
     "name": "stdout",
     "output_type": "stream",
     "text": [
      "Epoch 2: train_loss=1.6872 | val_acc=0.4391\n",
      "Saved new best checkpoint: val_acc=0.4391 -> checkpoints/best_vit_gz10.pth\n"
     ]
    },
    {
     "name": "stderr",
     "output_type": "stream",
     "text": [
      "Epoch 3/100 [train]:   0%|          | 0/250 [00:00<?, ?it/s]/tmp/ipykernel_3794604/1896974608.py:13: FutureWarning: `torch.cuda.amp.autocast(args...)` is deprecated. Please use `torch.amp.autocast('cuda', args...)` instead.\n",
      "  with torch.cuda.amp.autocast(enabled=USE_AMP):\n",
      "Epoch 3/100 [train]: 100%|██████████| 250/250 [01:35<00:00,  2.62it/s, loss=1.3869]\n",
      "Epoch 3/100 [val]:   0%|          | 0/14 [00:00<?, ?it/s]/tmp/ipykernel_3794604/1896974608.py:33: FutureWarning: `torch.cuda.amp.autocast(args...)` is deprecated. Please use `torch.amp.autocast('cuda', args...)` instead.\n",
      "  with torch.cuda.amp.autocast(enabled=USE_AMP):\n",
      "Epoch 3/100 [val]: 100%|██████████| 14/14 [00:08<00:00,  1.56it/s]\n"
     ]
    },
    {
     "name": "stdout",
     "output_type": "stream",
     "text": [
      "Epoch 3: train_loss=1.3814 | val_acc=0.4899\n",
      "Saved new best checkpoint: val_acc=0.4899 -> checkpoints/best_vit_gz10.pth\n"
     ]
    },
    {
     "name": "stderr",
     "output_type": "stream",
     "text": [
      "Epoch 4/100 [train]:   0%|          | 0/250 [00:00<?, ?it/s]/tmp/ipykernel_3794604/1896974608.py:13: FutureWarning: `torch.cuda.amp.autocast(args...)` is deprecated. Please use `torch.amp.autocast('cuda', args...)` instead.\n",
      "  with torch.cuda.amp.autocast(enabled=USE_AMP):\n",
      "Epoch 4/100 [train]: 100%|██████████| 250/250 [01:30<00:00,  2.75it/s, loss=1.2717]\n",
      "Epoch 4/100 [val]:   0%|          | 0/14 [00:00<?, ?it/s]/tmp/ipykernel_3794604/1896974608.py:33: FutureWarning: `torch.cuda.amp.autocast(args...)` is deprecated. Please use `torch.amp.autocast('cuda', args...)` instead.\n",
      "  with torch.cuda.amp.autocast(enabled=USE_AMP):\n",
      "Epoch 4/100 [val]: 100%|██████████| 14/14 [00:07<00:00,  1.82it/s]\n"
     ]
    },
    {
     "name": "stdout",
     "output_type": "stream",
     "text": [
      "Epoch 4: train_loss=1.2667 | val_acc=0.5338\n",
      "Saved new best checkpoint: val_acc=0.5338 -> checkpoints/best_vit_gz10.pth\n"
     ]
    },
    {
     "name": "stderr",
     "output_type": "stream",
     "text": [
      "Epoch 5/100 [train]:   0%|          | 0/250 [00:00<?, ?it/s]/tmp/ipykernel_3794604/1896974608.py:13: FutureWarning: `torch.cuda.amp.autocast(args...)` is deprecated. Please use `torch.amp.autocast('cuda', args...)` instead.\n",
      "  with torch.cuda.amp.autocast(enabled=USE_AMP):\n",
      "Epoch 5/100 [train]: 100%|██████████| 250/250 [01:36<00:00,  2.59it/s, loss=1.1956]\n",
      "Epoch 5/100 [val]:   0%|          | 0/14 [00:00<?, ?it/s]/tmp/ipykernel_3794604/1896974608.py:33: FutureWarning: `torch.cuda.amp.autocast(args...)` is deprecated. Please use `torch.amp.autocast('cuda', args...)` instead.\n",
      "  with torch.cuda.amp.autocast(enabled=USE_AMP):\n",
      "Epoch 5/100 [val]: 100%|██████████| 14/14 [00:08<00:00,  1.64it/s]\n"
     ]
    },
    {
     "name": "stdout",
     "output_type": "stream",
     "text": [
      "Epoch 5: train_loss=1.1908 | val_acc=0.5761\n",
      "Saved new best checkpoint: val_acc=0.5761 -> checkpoints/best_vit_gz10.pth\n"
     ]
    },
    {
     "name": "stderr",
     "output_type": "stream",
     "text": [
      "Epoch 6/100 [train]:   0%|          | 0/250 [00:00<?, ?it/s]/tmp/ipykernel_3794604/1896974608.py:13: FutureWarning: `torch.cuda.amp.autocast(args...)` is deprecated. Please use `torch.amp.autocast('cuda', args...)` instead.\n",
      "  with torch.cuda.amp.autocast(enabled=USE_AMP):\n",
      "Epoch 6/100 [train]: 100%|██████████| 250/250 [01:35<00:00,  2.61it/s, loss=1.1356]\n",
      "Epoch 6/100 [val]:   0%|          | 0/14 [00:00<?, ?it/s]/tmp/ipykernel_3794604/1896974608.py:33: FutureWarning: `torch.cuda.amp.autocast(args...)` is deprecated. Please use `torch.amp.autocast('cuda', args...)` instead.\n",
      "  with torch.cuda.amp.autocast(enabled=USE_AMP):\n",
      "Epoch 6/100 [val]: 100%|██████████| 14/14 [00:07<00:00,  1.80it/s]\n"
     ]
    },
    {
     "name": "stdout",
     "output_type": "stream",
     "text": [
      "Epoch 6: train_loss=1.1310 | val_acc=0.6048\n",
      "Saved new best checkpoint: val_acc=0.6048 -> checkpoints/best_vit_gz10.pth\n"
     ]
    },
    {
     "name": "stderr",
     "output_type": "stream",
     "text": [
      "Epoch 7/100 [train]:   0%|          | 0/250 [00:00<?, ?it/s]/tmp/ipykernel_3794604/1896974608.py:13: FutureWarning: `torch.cuda.amp.autocast(args...)` is deprecated. Please use `torch.amp.autocast('cuda', args...)` instead.\n",
      "  with torch.cuda.amp.autocast(enabled=USE_AMP):\n",
      "Epoch 7/100 [train]: 100%|██████████| 250/250 [01:37<00:00,  2.56it/s, loss=1.0667]\n",
      "Epoch 7/100 [val]:   0%|          | 0/14 [00:00<?, ?it/s]/tmp/ipykernel_3794604/1896974608.py:33: FutureWarning: `torch.cuda.amp.autocast(args...)` is deprecated. Please use `torch.amp.autocast('cuda', args...)` instead.\n",
      "  with torch.cuda.amp.autocast(enabled=USE_AMP):\n",
      "Epoch 7/100 [val]: 100%|██████████| 14/14 [00:06<00:00,  2.05it/s]\n"
     ]
    },
    {
     "name": "stdout",
     "output_type": "stream",
     "text": [
      "Epoch 7: train_loss=1.0624 | val_acc=0.6364\n",
      "Saved new best checkpoint: val_acc=0.6364 -> checkpoints/best_vit_gz10.pth\n"
     ]
    },
    {
     "name": "stderr",
     "output_type": "stream",
     "text": [
      "Epoch 8/100 [train]:   0%|          | 0/250 [00:00<?, ?it/s]/tmp/ipykernel_3794604/1896974608.py:13: FutureWarning: `torch.cuda.amp.autocast(args...)` is deprecated. Please use `torch.amp.autocast('cuda', args...)` instead.\n",
      "  with torch.cuda.amp.autocast(enabled=USE_AMP):\n",
      "Epoch 8/100 [train]: 100%|██████████| 250/250 [01:42<00:00,  2.45it/s, loss=1.0212]\n",
      "Epoch 8/100 [val]:   0%|          | 0/14 [00:00<?, ?it/s]/tmp/ipykernel_3794604/1896974608.py:33: FutureWarning: `torch.cuda.amp.autocast(args...)` is deprecated. Please use `torch.amp.autocast('cuda', args...)` instead.\n",
      "  with torch.cuda.amp.autocast(enabled=USE_AMP):\n",
      "Epoch 8/100 [val]: 100%|██████████| 14/14 [00:08<00:00,  1.61it/s]\n"
     ]
    },
    {
     "name": "stdout",
     "output_type": "stream",
     "text": [
      "Epoch 8: train_loss=1.0171 | val_acc=0.6144\n"
     ]
    },
    {
     "name": "stderr",
     "output_type": "stream",
     "text": [
      "Epoch 9/100 [train]:   0%|          | 0/250 [00:00<?, ?it/s]/tmp/ipykernel_3794604/1896974608.py:13: FutureWarning: `torch.cuda.amp.autocast(args...)` is deprecated. Please use `torch.amp.autocast('cuda', args...)` instead.\n",
      "  with torch.cuda.amp.autocast(enabled=USE_AMP):\n",
      "Epoch 9/100 [train]: 100%|██████████| 250/250 [01:39<00:00,  2.51it/s, loss=0.9576]\n",
      "Epoch 9/100 [val]:   0%|          | 0/14 [00:00<?, ?it/s]/tmp/ipykernel_3794604/1896974608.py:33: FutureWarning: `torch.cuda.amp.autocast(args...)` is deprecated. Please use `torch.amp.autocast('cuda', args...)` instead.\n",
      "  with torch.cuda.amp.autocast(enabled=USE_AMP):\n",
      "Epoch 9/100 [val]: 100%|██████████| 14/14 [00:08<00:00,  1.64it/s]\n"
     ]
    },
    {
     "name": "stdout",
     "output_type": "stream",
     "text": [
      "Epoch 9: train_loss=0.9538 | val_acc=0.6657\n",
      "Saved new best checkpoint: val_acc=0.6657 -> checkpoints/best_vit_gz10.pth\n"
     ]
    },
    {
     "name": "stderr",
     "output_type": "stream",
     "text": [
      "Epoch 10/100 [train]:   0%|          | 0/250 [00:00<?, ?it/s]/tmp/ipykernel_3794604/1896974608.py:13: FutureWarning: `torch.cuda.amp.autocast(args...)` is deprecated. Please use `torch.amp.autocast('cuda', args...)` instead.\n",
      "  with torch.cuda.amp.autocast(enabled=USE_AMP):\n",
      "Epoch 10/100 [train]: 100%|██████████| 250/250 [01:42<00:00,  2.45it/s, loss=0.9346]\n",
      "Epoch 10/100 [val]:   0%|          | 0/14 [00:00<?, ?it/s]/tmp/ipykernel_3794604/1896974608.py:33: FutureWarning: `torch.cuda.amp.autocast(args...)` is deprecated. Please use `torch.amp.autocast('cuda', args...)` instead.\n",
      "  with torch.cuda.amp.autocast(enabled=USE_AMP):\n",
      "Epoch 10/100 [val]: 100%|██████████| 14/14 [00:07<00:00,  1.81it/s]\n"
     ]
    },
    {
     "name": "stdout",
     "output_type": "stream",
     "text": [
      "Epoch 10: train_loss=0.9309 | val_acc=0.6488\n"
     ]
    },
    {
     "name": "stderr",
     "output_type": "stream",
     "text": [
      "Epoch 11/100 [train]:   0%|          | 0/250 [00:00<?, ?it/s]/tmp/ipykernel_3794604/1896974608.py:13: FutureWarning: `torch.cuda.amp.autocast(args...)` is deprecated. Please use `torch.amp.autocast('cuda', args...)` instead.\n",
      "  with torch.cuda.amp.autocast(enabled=USE_AMP):\n",
      "Epoch 11/100 [train]: 100%|██████████| 250/250 [01:37<00:00,  2.56it/s, loss=0.8952]\n",
      "Epoch 11/100 [val]:   0%|          | 0/14 [00:00<?, ?it/s]/tmp/ipykernel_3794604/1896974608.py:33: FutureWarning: `torch.cuda.amp.autocast(args...)` is deprecated. Please use `torch.amp.autocast('cuda', args...)` instead.\n",
      "  with torch.cuda.amp.autocast(enabled=USE_AMP):\n",
      "Epoch 11/100 [val]: 100%|██████████| 14/14 [00:08<00:00,  1.70it/s]\n"
     ]
    },
    {
     "name": "stdout",
     "output_type": "stream",
     "text": [
      "Epoch 11: train_loss=0.8917 | val_acc=0.6578\n"
     ]
    },
    {
     "name": "stderr",
     "output_type": "stream",
     "text": [
      "Epoch 12/100 [train]:   0%|          | 0/250 [00:00<?, ?it/s]/tmp/ipykernel_3794604/1896974608.py:13: FutureWarning: `torch.cuda.amp.autocast(args...)` is deprecated. Please use `torch.amp.autocast('cuda', args...)` instead.\n",
      "  with torch.cuda.amp.autocast(enabled=USE_AMP):\n",
      "Epoch 12/100 [train]: 100%|██████████| 250/250 [01:39<00:00,  2.52it/s, loss=0.8683]\n",
      "Epoch 12/100 [val]:   0%|          | 0/14 [00:00<?, ?it/s]/tmp/ipykernel_3794604/1896974608.py:33: FutureWarning: `torch.cuda.amp.autocast(args...)` is deprecated. Please use `torch.amp.autocast('cuda', args...)` instead.\n",
      "  with torch.cuda.amp.autocast(enabled=USE_AMP):\n",
      "Epoch 12/100 [val]: 100%|██████████| 14/14 [00:08<00:00,  1.71it/s]\n"
     ]
    },
    {
     "name": "stdout",
     "output_type": "stream",
     "text": [
      "Epoch 12: train_loss=0.8649 | val_acc=0.6747\n",
      "Saved new best checkpoint: val_acc=0.6747 -> checkpoints/best_vit_gz10.pth\n"
     ]
    },
    {
     "name": "stderr",
     "output_type": "stream",
     "text": [
      "Epoch 13/100 [train]:   0%|          | 0/250 [00:00<?, ?it/s]/tmp/ipykernel_3794604/1896974608.py:13: FutureWarning: `torch.cuda.amp.autocast(args...)` is deprecated. Please use `torch.amp.autocast('cuda', args...)` instead.\n",
      "  with torch.cuda.amp.autocast(enabled=USE_AMP):\n",
      "Epoch 13/100 [train]: 100%|██████████| 250/250 [01:32<00:00,  2.69it/s, loss=0.8529]\n",
      "Epoch 13/100 [val]:   0%|          | 0/14 [00:00<?, ?it/s]/tmp/ipykernel_3794604/1896974608.py:33: FutureWarning: `torch.cuda.amp.autocast(args...)` is deprecated. Please use `torch.amp.autocast('cuda', args...)` instead.\n",
      "  with torch.cuda.amp.autocast(enabled=USE_AMP):\n",
      "Epoch 13/100 [val]: 100%|██████████| 14/14 [00:09<00:00,  1.55it/s]\n"
     ]
    },
    {
     "name": "stdout",
     "output_type": "stream",
     "text": [
      "Epoch 13: train_loss=0.8495 | val_acc=0.7041\n",
      "Saved new best checkpoint: val_acc=0.7041 -> checkpoints/best_vit_gz10.pth\n"
     ]
    },
    {
     "name": "stderr",
     "output_type": "stream",
     "text": [
      "Epoch 14/100 [train]:   0%|          | 0/250 [00:00<?, ?it/s]/tmp/ipykernel_3794604/1896974608.py:13: FutureWarning: `torch.cuda.amp.autocast(args...)` is deprecated. Please use `torch.amp.autocast('cuda', args...)` instead.\n",
      "  with torch.cuda.amp.autocast(enabled=USE_AMP):\n",
      "Epoch 14/100 [train]: 100%|██████████| 250/250 [01:34<00:00,  2.66it/s, loss=0.8269]\n",
      "Epoch 14/100 [val]:   0%|          | 0/14 [00:00<?, ?it/s]/tmp/ipykernel_3794604/1896974608.py:33: FutureWarning: `torch.cuda.amp.autocast(args...)` is deprecated. Please use `torch.amp.autocast('cuda', args...)` instead.\n",
      "  with torch.cuda.amp.autocast(enabled=USE_AMP):\n",
      "Epoch 14/100 [val]: 100%|██████████| 14/14 [00:08<00:00,  1.70it/s]\n"
     ]
    },
    {
     "name": "stdout",
     "output_type": "stream",
     "text": [
      "Epoch 14: train_loss=0.8235 | val_acc=0.6950\n"
     ]
    },
    {
     "name": "stderr",
     "output_type": "stream",
     "text": [
      "Epoch 15/100 [train]:   0%|          | 0/250 [00:00<?, ?it/s]/tmp/ipykernel_3794604/1896974608.py:13: FutureWarning: `torch.cuda.amp.autocast(args...)` is deprecated. Please use `torch.amp.autocast('cuda', args...)` instead.\n",
      "  with torch.cuda.amp.autocast(enabled=USE_AMP):\n",
      "Epoch 15/100 [train]: 100%|██████████| 250/250 [01:35<00:00,  2.62it/s, loss=0.8048]\n",
      "Epoch 15/100 [val]:   0%|          | 0/14 [00:00<?, ?it/s]/tmp/ipykernel_3794604/1896974608.py:33: FutureWarning: `torch.cuda.amp.autocast(args...)` is deprecated. Please use `torch.amp.autocast('cuda', args...)` instead.\n",
      "  with torch.cuda.amp.autocast(enabled=USE_AMP):\n",
      "Epoch 15/100 [val]: 100%|██████████| 14/14 [00:08<00:00,  1.71it/s]\n"
     ]
    },
    {
     "name": "stdout",
     "output_type": "stream",
     "text": [
      "Epoch 15: train_loss=0.8015 | val_acc=0.6984\n"
     ]
    },
    {
     "name": "stderr",
     "output_type": "stream",
     "text": [
      "Epoch 16/100 [train]:   0%|          | 0/250 [00:00<?, ?it/s]/tmp/ipykernel_3794604/1896974608.py:13: FutureWarning: `torch.cuda.amp.autocast(args...)` is deprecated. Please use `torch.amp.autocast('cuda', args...)` instead.\n",
      "  with torch.cuda.amp.autocast(enabled=USE_AMP):\n",
      "Epoch 16/100 [train]: 100%|██████████| 250/250 [01:27<00:00,  2.85it/s, loss=0.7844]\n",
      "Epoch 16/100 [val]:   0%|          | 0/14 [00:00<?, ?it/s]/tmp/ipykernel_3794604/1896974608.py:33: FutureWarning: `torch.cuda.amp.autocast(args...)` is deprecated. Please use `torch.amp.autocast('cuda', args...)` instead.\n",
      "  with torch.cuda.amp.autocast(enabled=USE_AMP):\n",
      "Epoch 16/100 [val]: 100%|██████████| 14/14 [00:09<00:00,  1.53it/s]\n"
     ]
    },
    {
     "name": "stdout",
     "output_type": "stream",
     "text": [
      "Epoch 16: train_loss=0.7813 | val_acc=0.6962\n"
     ]
    },
    {
     "name": "stderr",
     "output_type": "stream",
     "text": [
      "Epoch 17/100 [train]:   0%|          | 0/250 [00:00<?, ?it/s]/tmp/ipykernel_3794604/1896974608.py:13: FutureWarning: `torch.cuda.amp.autocast(args...)` is deprecated. Please use `torch.amp.autocast('cuda', args...)` instead.\n",
      "  with torch.cuda.amp.autocast(enabled=USE_AMP):\n",
      "Epoch 17/100 [train]: 100%|██████████| 250/250 [01:31<00:00,  2.73it/s, loss=0.7602]\n",
      "Epoch 17/100 [val]:   0%|          | 0/14 [00:00<?, ?it/s]/tmp/ipykernel_3794604/1896974608.py:33: FutureWarning: `torch.cuda.amp.autocast(args...)` is deprecated. Please use `torch.amp.autocast('cuda', args...)` instead.\n",
      "  with torch.cuda.amp.autocast(enabled=USE_AMP):\n",
      "Epoch 17/100 [val]: 100%|██████████| 14/14 [00:10<00:00,  1.35it/s]\n"
     ]
    },
    {
     "name": "stdout",
     "output_type": "stream",
     "text": [
      "Epoch 17: train_loss=0.7571 | val_acc=0.7204\n",
      "Saved new best checkpoint: val_acc=0.7204 -> checkpoints/best_vit_gz10.pth\n"
     ]
    },
    {
     "name": "stderr",
     "output_type": "stream",
     "text": [
      "Epoch 18/100 [train]:   0%|          | 0/250 [00:00<?, ?it/s]/tmp/ipykernel_3794604/1896974608.py:13: FutureWarning: `torch.cuda.amp.autocast(args...)` is deprecated. Please use `torch.amp.autocast('cuda', args...)` instead.\n",
      "  with torch.cuda.amp.autocast(enabled=USE_AMP):\n",
      "Epoch 18/100 [train]: 100%|██████████| 250/250 [01:40<00:00,  2.49it/s, loss=0.7426]\n",
      "Epoch 18/100 [val]:   0%|          | 0/14 [00:00<?, ?it/s]/tmp/ipykernel_3794604/1896974608.py:33: FutureWarning: `torch.cuda.amp.autocast(args...)` is deprecated. Please use `torch.amp.autocast('cuda', args...)` instead.\n",
      "  with torch.cuda.amp.autocast(enabled=USE_AMP):\n",
      "Epoch 18/100 [val]: 100%|██████████| 14/14 [00:08<00:00,  1.73it/s]\n"
     ]
    },
    {
     "name": "stdout",
     "output_type": "stream",
     "text": [
      "Epoch 18: train_loss=0.7396 | val_acc=0.6973\n"
     ]
    },
    {
     "name": "stderr",
     "output_type": "stream",
     "text": [
      "Epoch 19/100 [train]:   0%|          | 0/250 [00:00<?, ?it/s]/tmp/ipykernel_3794604/1896974608.py:13: FutureWarning: `torch.cuda.amp.autocast(args...)` is deprecated. Please use `torch.amp.autocast('cuda', args...)` instead.\n",
      "  with torch.cuda.amp.autocast(enabled=USE_AMP):\n",
      "Epoch 19/100 [train]: 100%|██████████| 250/250 [01:33<00:00,  2.66it/s, loss=0.7275]\n",
      "Epoch 19/100 [val]:   0%|          | 0/14 [00:00<?, ?it/s]/tmp/ipykernel_3794604/1896974608.py:33: FutureWarning: `torch.cuda.amp.autocast(args...)` is deprecated. Please use `torch.amp.autocast('cuda', args...)` instead.\n",
      "  with torch.cuda.amp.autocast(enabled=USE_AMP):\n",
      "Epoch 19/100 [val]: 100%|██████████| 14/14 [00:07<00:00,  1.80it/s]\n"
     ]
    },
    {
     "name": "stdout",
     "output_type": "stream",
     "text": [
      "Epoch 19: train_loss=0.7246 | val_acc=0.7142\n"
     ]
    },
    {
     "name": "stderr",
     "output_type": "stream",
     "text": [
      "Epoch 20/100 [train]:   0%|          | 0/250 [00:00<?, ?it/s]/tmp/ipykernel_3794604/1896974608.py:13: FutureWarning: `torch.cuda.amp.autocast(args...)` is deprecated. Please use `torch.amp.autocast('cuda', args...)` instead.\n",
      "  with torch.cuda.amp.autocast(enabled=USE_AMP):\n",
      "Epoch 20/100 [train]: 100%|██████████| 250/250 [01:32<00:00,  2.70it/s, loss=0.7097]\n",
      "Epoch 20/100 [val]:   0%|          | 0/14 [00:00<?, ?it/s]/tmp/ipykernel_3794604/1896974608.py:33: FutureWarning: `torch.cuda.amp.autocast(args...)` is deprecated. Please use `torch.amp.autocast('cuda', args...)` instead.\n",
      "  with torch.cuda.amp.autocast(enabled=USE_AMP):\n",
      "Epoch 20/100 [val]: 100%|██████████| 14/14 [00:08<00:00,  1.60it/s]\n"
     ]
    },
    {
     "name": "stdout",
     "output_type": "stream",
     "text": [
      "Epoch 20: train_loss=0.7069 | val_acc=0.7108\n"
     ]
    },
    {
     "name": "stderr",
     "output_type": "stream",
     "text": [
      "Epoch 21/100 [train]:   0%|          | 0/250 [00:00<?, ?it/s]/tmp/ipykernel_3794604/1896974608.py:13: FutureWarning: `torch.cuda.amp.autocast(args...)` is deprecated. Please use `torch.amp.autocast('cuda', args...)` instead.\n",
      "  with torch.cuda.amp.autocast(enabled=USE_AMP):\n",
      "Epoch 21/100 [train]: 100%|██████████| 250/250 [01:32<00:00,  2.69it/s, loss=0.6921]\n",
      "Epoch 21/100 [val]:   0%|          | 0/14 [00:00<?, ?it/s]/tmp/ipykernel_3794604/1896974608.py:33: FutureWarning: `torch.cuda.amp.autocast(args...)` is deprecated. Please use `torch.amp.autocast('cuda', args...)` instead.\n",
      "  with torch.cuda.amp.autocast(enabled=USE_AMP):\n",
      "Epoch 21/100 [val]: 100%|██████████| 14/14 [00:07<00:00,  1.92it/s]\n"
     ]
    },
    {
     "name": "stdout",
     "output_type": "stream",
     "text": [
      "Epoch 21: train_loss=0.6893 | val_acc=0.7018\n"
     ]
    },
    {
     "name": "stderr",
     "output_type": "stream",
     "text": [
      "Epoch 22/100 [train]:   0%|          | 0/250 [00:00<?, ?it/s]/tmp/ipykernel_3794604/1896974608.py:13: FutureWarning: `torch.cuda.amp.autocast(args...)` is deprecated. Please use `torch.amp.autocast('cuda', args...)` instead.\n",
      "  with torch.cuda.amp.autocast(enabled=USE_AMP):\n",
      "Epoch 22/100 [train]: 100%|██████████| 250/250 [01:35<00:00,  2.61it/s, loss=0.6784]\n",
      "Epoch 22/100 [val]:   0%|          | 0/14 [00:00<?, ?it/s]/tmp/ipykernel_3794604/1896974608.py:33: FutureWarning: `torch.cuda.amp.autocast(args...)` is deprecated. Please use `torch.amp.autocast('cuda', args...)` instead.\n",
      "  with torch.cuda.amp.autocast(enabled=USE_AMP):\n",
      "Epoch 22/100 [val]: 100%|██████████| 14/14 [00:09<00:00,  1.46it/s]\n"
     ]
    },
    {
     "name": "stdout",
     "output_type": "stream",
     "text": [
      "Epoch 22: train_loss=0.6756 | val_acc=0.7170\n"
     ]
    },
    {
     "name": "stderr",
     "output_type": "stream",
     "text": [
      "Epoch 23/100 [train]:   0%|          | 0/250 [00:00<?, ?it/s]/tmp/ipykernel_3794604/1896974608.py:13: FutureWarning: `torch.cuda.amp.autocast(args...)` is deprecated. Please use `torch.amp.autocast('cuda', args...)` instead.\n",
      "  with torch.cuda.amp.autocast(enabled=USE_AMP):\n",
      "Epoch 23/100 [train]: 100%|██████████| 250/250 [01:32<00:00,  2.72it/s, loss=0.6648]\n",
      "Epoch 23/100 [val]:   0%|          | 0/14 [00:00<?, ?it/s]/tmp/ipykernel_3794604/1896974608.py:33: FutureWarning: `torch.cuda.amp.autocast(args...)` is deprecated. Please use `torch.amp.autocast('cuda', args...)` instead.\n",
      "  with torch.cuda.amp.autocast(enabled=USE_AMP):\n",
      "Epoch 23/100 [val]: 100%|██████████| 14/14 [00:08<00:00,  1.56it/s]\n"
     ]
    },
    {
     "name": "stdout",
     "output_type": "stream",
     "text": [
      "Epoch 23: train_loss=0.6621 | val_acc=0.7204\n"
     ]
    },
    {
     "name": "stderr",
     "output_type": "stream",
     "text": [
      "Epoch 24/100 [train]:   0%|          | 0/250 [00:00<?, ?it/s]/tmp/ipykernel_3794604/1896974608.py:13: FutureWarning: `torch.cuda.amp.autocast(args...)` is deprecated. Please use `torch.amp.autocast('cuda', args...)` instead.\n",
      "  with torch.cuda.amp.autocast(enabled=USE_AMP):\n",
      "Epoch 24/100 [train]: 100%|██████████| 250/250 [01:37<00:00,  2.55it/s, loss=0.6362]\n",
      "Epoch 24/100 [val]:   0%|          | 0/14 [00:00<?, ?it/s]/tmp/ipykernel_3794604/1896974608.py:33: FutureWarning: `torch.cuda.amp.autocast(args...)` is deprecated. Please use `torch.amp.autocast('cuda', args...)` instead.\n",
      "  with torch.cuda.amp.autocast(enabled=USE_AMP):\n",
      "Epoch 24/100 [val]: 100%|██████████| 14/14 [00:08<00:00,  1.57it/s]\n"
     ]
    },
    {
     "name": "stdout",
     "output_type": "stream",
     "text": [
      "Epoch 24: train_loss=0.6336 | val_acc=0.7018\n"
     ]
    },
    {
     "name": "stderr",
     "output_type": "stream",
     "text": [
      "Epoch 25/100 [train]:   0%|          | 0/250 [00:00<?, ?it/s]/tmp/ipykernel_3794604/1896974608.py:13: FutureWarning: `torch.cuda.amp.autocast(args...)` is deprecated. Please use `torch.amp.autocast('cuda', args...)` instead.\n",
      "  with torch.cuda.amp.autocast(enabled=USE_AMP):\n",
      "Epoch 25/100 [train]: 100%|██████████| 250/250 [01:36<00:00,  2.59it/s, loss=0.6263]\n",
      "Epoch 25/100 [val]:   0%|          | 0/14 [00:00<?, ?it/s]/tmp/ipykernel_3794604/1896974608.py:33: FutureWarning: `torch.cuda.amp.autocast(args...)` is deprecated. Please use `torch.amp.autocast('cuda', args...)` instead.\n",
      "  with torch.cuda.amp.autocast(enabled=USE_AMP):\n",
      "Epoch 25/100 [val]: 100%|██████████| 14/14 [00:07<00:00,  1.91it/s]\n"
     ]
    },
    {
     "name": "stdout",
     "output_type": "stream",
     "text": [
      "Epoch 25: train_loss=0.6238 | val_acc=0.7300\n",
      "Saved new best checkpoint: val_acc=0.7300 -> checkpoints/best_vit_gz10.pth\n"
     ]
    },
    {
     "name": "stderr",
     "output_type": "stream",
     "text": [
      "Epoch 26/100 [train]:   0%|          | 0/250 [00:00<?, ?it/s]/tmp/ipykernel_3794604/1896974608.py:13: FutureWarning: `torch.cuda.amp.autocast(args...)` is deprecated. Please use `torch.amp.autocast('cuda', args...)` instead.\n",
      "  with torch.cuda.amp.autocast(enabled=USE_AMP):\n",
      "Epoch 26/100 [train]: 100%|██████████| 250/250 [01:35<00:00,  2.62it/s, loss=0.5929]\n",
      "Epoch 26/100 [val]:   0%|          | 0/14 [00:00<?, ?it/s]/tmp/ipykernel_3794604/1896974608.py:33: FutureWarning: `torch.cuda.amp.autocast(args...)` is deprecated. Please use `torch.amp.autocast('cuda', args...)` instead.\n",
      "  with torch.cuda.amp.autocast(enabled=USE_AMP):\n",
      "Epoch 26/100 [val]: 100%|██████████| 14/14 [00:07<00:00,  1.86it/s]\n"
     ]
    },
    {
     "name": "stdout",
     "output_type": "stream",
     "text": [
      "Epoch 26: train_loss=0.5905 | val_acc=0.7283\n"
     ]
    },
    {
     "name": "stderr",
     "output_type": "stream",
     "text": [
      "Epoch 27/100 [train]:   0%|          | 0/250 [00:00<?, ?it/s]/tmp/ipykernel_3794604/1896974608.py:13: FutureWarning: `torch.cuda.amp.autocast(args...)` is deprecated. Please use `torch.amp.autocast('cuda', args...)` instead.\n",
      "  with torch.cuda.amp.autocast(enabled=USE_AMP):\n",
      "Epoch 27/100 [train]: 100%|██████████| 250/250 [01:37<00:00,  2.56it/s, loss=0.5859]\n",
      "Epoch 27/100 [val]:   0%|          | 0/14 [00:00<?, ?it/s]/tmp/ipykernel_3794604/1896974608.py:33: FutureWarning: `torch.cuda.amp.autocast(args...)` is deprecated. Please use `torch.amp.autocast('cuda', args...)` instead.\n",
      "  with torch.cuda.amp.autocast(enabled=USE_AMP):\n",
      "Epoch 27/100 [val]: 100%|██████████| 14/14 [00:08<00:00,  1.73it/s]\n"
     ]
    },
    {
     "name": "stdout",
     "output_type": "stream",
     "text": [
      "Epoch 27: train_loss=0.5835 | val_acc=0.7266\n"
     ]
    },
    {
     "name": "stderr",
     "output_type": "stream",
     "text": [
      "Epoch 28/100 [train]:   0%|          | 0/250 [00:00<?, ?it/s]/tmp/ipykernel_3794604/1896974608.py:13: FutureWarning: `torch.cuda.amp.autocast(args...)` is deprecated. Please use `torch.amp.autocast('cuda', args...)` instead.\n",
      "  with torch.cuda.amp.autocast(enabled=USE_AMP):\n",
      "Epoch 28/100 [train]: 100%|██████████| 250/250 [01:35<00:00,  2.62it/s, loss=0.5769]\n",
      "Epoch 28/100 [val]:   0%|          | 0/14 [00:00<?, ?it/s]/tmp/ipykernel_3794604/1896974608.py:33: FutureWarning: `torch.cuda.amp.autocast(args...)` is deprecated. Please use `torch.amp.autocast('cuda', args...)` instead.\n",
      "  with torch.cuda.amp.autocast(enabled=USE_AMP):\n",
      "Epoch 28/100 [val]: 100%|██████████| 14/14 [00:09<00:00,  1.45it/s]\n"
     ]
    },
    {
     "name": "stdout",
     "output_type": "stream",
     "text": [
      "Epoch 28: train_loss=0.5746 | val_acc=0.6945\n"
     ]
    },
    {
     "name": "stderr",
     "output_type": "stream",
     "text": [
      "Epoch 29/100 [train]:   0%|          | 0/250 [00:00<?, ?it/s]/tmp/ipykernel_3794604/1896974608.py:13: FutureWarning: `torch.cuda.amp.autocast(args...)` is deprecated. Please use `torch.amp.autocast('cuda', args...)` instead.\n",
      "  with torch.cuda.amp.autocast(enabled=USE_AMP):\n",
      "Epoch 29/100 [train]: 100%|██████████| 250/250 [01:37<00:00,  2.57it/s, loss=0.5539]\n",
      "Epoch 29/100 [val]:   0%|          | 0/14 [00:00<?, ?it/s]/tmp/ipykernel_3794604/1896974608.py:33: FutureWarning: `torch.cuda.amp.autocast(args...)` is deprecated. Please use `torch.amp.autocast('cuda', args...)` instead.\n",
      "  with torch.cuda.amp.autocast(enabled=USE_AMP):\n",
      "Epoch 29/100 [val]: 100%|██████████| 14/14 [00:08<00:00,  1.74it/s]\n"
     ]
    },
    {
     "name": "stdout",
     "output_type": "stream",
     "text": [
      "Epoch 29: train_loss=0.5517 | val_acc=0.7272\n"
     ]
    },
    {
     "name": "stderr",
     "output_type": "stream",
     "text": [
      "Epoch 30/100 [train]:   0%|          | 0/250 [00:00<?, ?it/s]/tmp/ipykernel_3794604/1896974608.py:13: FutureWarning: `torch.cuda.amp.autocast(args...)` is deprecated. Please use `torch.amp.autocast('cuda', args...)` instead.\n",
      "  with torch.cuda.amp.autocast(enabled=USE_AMP):\n",
      "Epoch 30/100 [train]: 100%|██████████| 250/250 [01:37<00:00,  2.56it/s, loss=0.5298]\n",
      "Epoch 30/100 [val]:   0%|          | 0/14 [00:00<?, ?it/s]/tmp/ipykernel_3794604/1896974608.py:33: FutureWarning: `torch.cuda.amp.autocast(args...)` is deprecated. Please use `torch.amp.autocast('cuda', args...)` instead.\n",
      "  with torch.cuda.amp.autocast(enabled=USE_AMP):\n",
      "Epoch 30/100 [val]: 100%|██████████| 14/14 [00:08<00:00,  1.67it/s]\n"
     ]
    },
    {
     "name": "stdout",
     "output_type": "stream",
     "text": [
      "Epoch 30: train_loss=0.5277 | val_acc=0.7176\n"
     ]
    },
    {
     "name": "stderr",
     "output_type": "stream",
     "text": [
      "Epoch 31/100 [train]:   0%|          | 0/250 [00:00<?, ?it/s]/tmp/ipykernel_3794604/1896974608.py:13: FutureWarning: `torch.cuda.amp.autocast(args...)` is deprecated. Please use `torch.amp.autocast('cuda', args...)` instead.\n",
      "  with torch.cuda.amp.autocast(enabled=USE_AMP):\n",
      "Epoch 31/100 [train]: 100%|██████████| 250/250 [01:35<00:00,  2.61it/s, loss=0.5038]\n",
      "Epoch 31/100 [val]:   0%|          | 0/14 [00:00<?, ?it/s]/tmp/ipykernel_3794604/1896974608.py:33: FutureWarning: `torch.cuda.amp.autocast(args...)` is deprecated. Please use `torch.amp.autocast('cuda', args...)` instead.\n",
      "  with torch.cuda.amp.autocast(enabled=USE_AMP):\n",
      "Epoch 31/100 [val]: 100%|██████████| 14/14 [00:07<00:00,  1.82it/s]\n"
     ]
    },
    {
     "name": "stdout",
     "output_type": "stream",
     "text": [
      "Epoch 31: train_loss=0.5018 | val_acc=0.7300\n"
     ]
    },
    {
     "name": "stderr",
     "output_type": "stream",
     "text": [
      "Epoch 32/100 [train]:   0%|          | 0/250 [00:00<?, ?it/s]/tmp/ipykernel_3794604/1896974608.py:13: FutureWarning: `torch.cuda.amp.autocast(args...)` is deprecated. Please use `torch.amp.autocast('cuda', args...)` instead.\n",
      "  with torch.cuda.amp.autocast(enabled=USE_AMP):\n",
      "Epoch 32/100 [train]: 100%|██████████| 250/250 [01:36<00:00,  2.60it/s, loss=0.4869]\n",
      "Epoch 32/100 [val]:   0%|          | 0/14 [00:00<?, ?it/s]/tmp/ipykernel_3794604/1896974608.py:33: FutureWarning: `torch.cuda.amp.autocast(args...)` is deprecated. Please use `torch.amp.autocast('cuda', args...)` instead.\n",
      "  with torch.cuda.amp.autocast(enabled=USE_AMP):\n",
      "Epoch 32/100 [val]: 100%|██████████| 14/14 [00:08<00:00,  1.64it/s]\n"
     ]
    },
    {
     "name": "stdout",
     "output_type": "stream",
     "text": [
      "Epoch 32: train_loss=0.4849 | val_acc=0.7260\n"
     ]
    },
    {
     "name": "stderr",
     "output_type": "stream",
     "text": [
      "Epoch 33/100 [train]:   0%|          | 0/250 [00:00<?, ?it/s]/tmp/ipykernel_3794604/1896974608.py:13: FutureWarning: `torch.cuda.amp.autocast(args...)` is deprecated. Please use `torch.amp.autocast('cuda', args...)` instead.\n",
      "  with torch.cuda.amp.autocast(enabled=USE_AMP):\n",
      "Epoch 33/100 [train]: 100%|██████████| 250/250 [01:41<00:00,  2.47it/s, loss=0.4841]\n",
      "Epoch 33/100 [val]:   0%|          | 0/14 [00:00<?, ?it/s]/tmp/ipykernel_3794604/1896974608.py:33: FutureWarning: `torch.cuda.amp.autocast(args...)` is deprecated. Please use `torch.amp.autocast('cuda', args...)` instead.\n",
      "  with torch.cuda.amp.autocast(enabled=USE_AMP):\n",
      "Epoch 33/100 [val]: 100%|██████████| 14/14 [00:09<00:00,  1.45it/s]\n"
     ]
    },
    {
     "name": "stdout",
     "output_type": "stream",
     "text": [
      "Epoch 33: train_loss=0.4821 | val_acc=0.7311\n",
      "Saved new best checkpoint: val_acc=0.7311 -> checkpoints/best_vit_gz10.pth\n"
     ]
    },
    {
     "name": "stderr",
     "output_type": "stream",
     "text": [
      "Epoch 34/100 [train]:   0%|          | 0/250 [00:00<?, ?it/s]/tmp/ipykernel_3794604/1896974608.py:13: FutureWarning: `torch.cuda.amp.autocast(args...)` is deprecated. Please use `torch.amp.autocast('cuda', args...)` instead.\n",
      "  with torch.cuda.amp.autocast(enabled=USE_AMP):\n",
      "Epoch 34/100 [train]: 100%|██████████| 250/250 [01:39<00:00,  2.50it/s, loss=0.4459]\n",
      "Epoch 34/100 [val]:   0%|          | 0/14 [00:00<?, ?it/s]/tmp/ipykernel_3794604/1896974608.py:33: FutureWarning: `torch.cuda.amp.autocast(args...)` is deprecated. Please use `torch.amp.autocast('cuda', args...)` instead.\n",
      "  with torch.cuda.amp.autocast(enabled=USE_AMP):\n",
      "Epoch 34/100 [val]: 100%|██████████| 14/14 [00:09<00:00,  1.47it/s]\n"
     ]
    },
    {
     "name": "stdout",
     "output_type": "stream",
     "text": [
      "Epoch 34: train_loss=0.4441 | val_acc=0.7311\n"
     ]
    },
    {
     "name": "stderr",
     "output_type": "stream",
     "text": [
      "Epoch 35/100 [train]:   0%|          | 0/250 [00:00<?, ?it/s]/tmp/ipykernel_3794604/1896974608.py:13: FutureWarning: `torch.cuda.amp.autocast(args...)` is deprecated. Please use `torch.amp.autocast('cuda', args...)` instead.\n",
      "  with torch.cuda.amp.autocast(enabled=USE_AMP):\n",
      "Epoch 35/100 [train]: 100%|██████████| 250/250 [01:34<00:00,  2.66it/s, loss=0.4316]\n",
      "Epoch 35/100 [val]:   0%|          | 0/14 [00:00<?, ?it/s]/tmp/ipykernel_3794604/1896974608.py:33: FutureWarning: `torch.cuda.amp.autocast(args...)` is deprecated. Please use `torch.amp.autocast('cuda', args...)` instead.\n",
      "  with torch.cuda.amp.autocast(enabled=USE_AMP):\n",
      "Epoch 35/100 [val]: 100%|██████████| 14/14 [00:09<00:00,  1.40it/s]\n"
     ]
    },
    {
     "name": "stdout",
     "output_type": "stream",
     "text": [
      "Epoch 35: train_loss=0.4299 | val_acc=0.7221\n"
     ]
    },
    {
     "name": "stderr",
     "output_type": "stream",
     "text": [
      "Epoch 36/100 [train]:   0%|          | 0/250 [00:00<?, ?it/s]/tmp/ipykernel_3794604/1896974608.py:13: FutureWarning: `torch.cuda.amp.autocast(args...)` is deprecated. Please use `torch.amp.autocast('cuda', args...)` instead.\n",
      "  with torch.cuda.amp.autocast(enabled=USE_AMP):\n",
      "Epoch 36/100 [train]: 100%|██████████| 250/250 [01:33<00:00,  2.67it/s, loss=0.4148]\n",
      "Epoch 36/100 [val]:   0%|          | 0/14 [00:00<?, ?it/s]/tmp/ipykernel_3794604/1896974608.py:33: FutureWarning: `torch.cuda.amp.autocast(args...)` is deprecated. Please use `torch.amp.autocast('cuda', args...)` instead.\n",
      "  with torch.cuda.amp.autocast(enabled=USE_AMP):\n",
      "Epoch 36/100 [val]: 100%|██████████| 14/14 [00:09<00:00,  1.54it/s]\n"
     ]
    },
    {
     "name": "stdout",
     "output_type": "stream",
     "text": [
      "Epoch 36: train_loss=0.4132 | val_acc=0.7159\n"
     ]
    },
    {
     "name": "stderr",
     "output_type": "stream",
     "text": [
      "Epoch 37/100 [train]:   0%|          | 0/250 [00:00<?, ?it/s]/tmp/ipykernel_3794604/1896974608.py:13: FutureWarning: `torch.cuda.amp.autocast(args...)` is deprecated. Please use `torch.amp.autocast('cuda', args...)` instead.\n",
      "  with torch.cuda.amp.autocast(enabled=USE_AMP):\n",
      "Epoch 37/100 [train]: 100%|██████████| 250/250 [01:37<00:00,  2.58it/s, loss=0.3951]\n",
      "Epoch 37/100 [val]:   0%|          | 0/14 [00:00<?, ?it/s]/tmp/ipykernel_3794604/1896974608.py:33: FutureWarning: `torch.cuda.amp.autocast(args...)` is deprecated. Please use `torch.amp.autocast('cuda', args...)` instead.\n",
      "  with torch.cuda.amp.autocast(enabled=USE_AMP):\n",
      "Epoch 37/100 [val]: 100%|██████████| 14/14 [00:07<00:00,  1.91it/s]\n"
     ]
    },
    {
     "name": "stdout",
     "output_type": "stream",
     "text": [
      "Epoch 37: train_loss=0.3935 | val_acc=0.7204\n"
     ]
    },
    {
     "name": "stderr",
     "output_type": "stream",
     "text": [
      "Epoch 38/100 [train]:   0%|          | 0/250 [00:00<?, ?it/s]/tmp/ipykernel_3794604/1896974608.py:13: FutureWarning: `torch.cuda.amp.autocast(args...)` is deprecated. Please use `torch.amp.autocast('cuda', args...)` instead.\n",
      "  with torch.cuda.amp.autocast(enabled=USE_AMP):\n",
      "Epoch 38/100 [train]: 100%|██████████| 250/250 [01:31<00:00,  2.73it/s, loss=0.3640]\n",
      "Epoch 38/100 [val]:   0%|          | 0/14 [00:00<?, ?it/s]/tmp/ipykernel_3794604/1896974608.py:33: FutureWarning: `torch.cuda.amp.autocast(args...)` is deprecated. Please use `torch.amp.autocast('cuda', args...)` instead.\n",
      "  with torch.cuda.amp.autocast(enabled=USE_AMP):\n",
      "Epoch 38/100 [val]: 100%|██████████| 14/14 [00:08<00:00,  1.66it/s]\n"
     ]
    },
    {
     "name": "stdout",
     "output_type": "stream",
     "text": [
      "Epoch 38: train_loss=0.3625 | val_acc=0.7069\n"
     ]
    },
    {
     "name": "stderr",
     "output_type": "stream",
     "text": [
      "Epoch 39/100 [train]:   0%|          | 0/250 [00:00<?, ?it/s]/tmp/ipykernel_3794604/1896974608.py:13: FutureWarning: `torch.cuda.amp.autocast(args...)` is deprecated. Please use `torch.amp.autocast('cuda', args...)` instead.\n",
      "  with torch.cuda.amp.autocast(enabled=USE_AMP):\n",
      "Epoch 39/100 [train]: 100%|██████████| 250/250 [01:31<00:00,  2.74it/s, loss=0.3458]\n",
      "Epoch 39/100 [val]:   0%|          | 0/14 [00:00<?, ?it/s]/tmp/ipykernel_3794604/1896974608.py:33: FutureWarning: `torch.cuda.amp.autocast(args...)` is deprecated. Please use `torch.amp.autocast('cuda', args...)` instead.\n",
      "  with torch.cuda.amp.autocast(enabled=USE_AMP):\n",
      "Epoch 39/100 [val]: 100%|██████████| 14/14 [00:07<00:00,  1.93it/s]\n"
     ]
    },
    {
     "name": "stdout",
     "output_type": "stream",
     "text": [
      "Epoch 39: train_loss=0.3445 | val_acc=0.7266\n"
     ]
    },
    {
     "name": "stderr",
     "output_type": "stream",
     "text": [
      "Epoch 40/100 [train]:   0%|          | 0/250 [00:00<?, ?it/s]/tmp/ipykernel_3794604/1896974608.py:13: FutureWarning: `torch.cuda.amp.autocast(args...)` is deprecated. Please use `torch.amp.autocast('cuda', args...)` instead.\n",
      "  with torch.cuda.amp.autocast(enabled=USE_AMP):\n",
      "Epoch 40/100 [train]: 100%|██████████| 250/250 [01:35<00:00,  2.63it/s, loss=0.3187]\n",
      "Epoch 40/100 [val]:   0%|          | 0/14 [00:00<?, ?it/s]/tmp/ipykernel_3794604/1896974608.py:33: FutureWarning: `torch.cuda.amp.autocast(args...)` is deprecated. Please use `torch.amp.autocast('cuda', args...)` instead.\n",
      "  with torch.cuda.amp.autocast(enabled=USE_AMP):\n",
      "Epoch 40/100 [val]: 100%|██████████| 14/14 [00:07<00:00,  1.93it/s]\n"
     ]
    },
    {
     "name": "stdout",
     "output_type": "stream",
     "text": [
      "Epoch 40: train_loss=0.3174 | val_acc=0.7266\n"
     ]
    },
    {
     "name": "stderr",
     "output_type": "stream",
     "text": [
      "Epoch 41/100 [train]:   0%|          | 0/250 [00:00<?, ?it/s]/tmp/ipykernel_3794604/1896974608.py:13: FutureWarning: `torch.cuda.amp.autocast(args...)` is deprecated. Please use `torch.amp.autocast('cuda', args...)` instead.\n",
      "  with torch.cuda.amp.autocast(enabled=USE_AMP):\n",
      "Epoch 41/100 [train]: 100%|██████████| 250/250 [01:28<00:00,  2.82it/s, loss=0.3055]\n",
      "Epoch 41/100 [val]:   0%|          | 0/14 [00:00<?, ?it/s]/tmp/ipykernel_3794604/1896974608.py:33: FutureWarning: `torch.cuda.amp.autocast(args...)` is deprecated. Please use `torch.amp.autocast('cuda', args...)` instead.\n",
      "  with torch.cuda.amp.autocast(enabled=USE_AMP):\n",
      "Epoch 41/100 [val]: 100%|██████████| 14/14 [00:08<00:00,  1.60it/s]\n"
     ]
    },
    {
     "name": "stdout",
     "output_type": "stream",
     "text": [
      "Epoch 41: train_loss=0.3043 | val_acc=0.7069\n"
     ]
    },
    {
     "name": "stderr",
     "output_type": "stream",
     "text": [
      "Epoch 42/100 [train]:   0%|          | 0/250 [00:00<?, ?it/s]/tmp/ipykernel_3794604/1896974608.py:13: FutureWarning: `torch.cuda.amp.autocast(args...)` is deprecated. Please use `torch.amp.autocast('cuda', args...)` instead.\n",
      "  with torch.cuda.amp.autocast(enabled=USE_AMP):\n",
      "Epoch 42/100 [train]: 100%|██████████| 250/250 [01:37<00:00,  2.57it/s, loss=0.2833]\n",
      "Epoch 42/100 [val]:   0%|          | 0/14 [00:00<?, ?it/s]/tmp/ipykernel_3794604/1896974608.py:33: FutureWarning: `torch.cuda.amp.autocast(args...)` is deprecated. Please use `torch.amp.autocast('cuda', args...)` instead.\n",
      "  with torch.cuda.amp.autocast(enabled=USE_AMP):\n",
      "Epoch 42/100 [val]: 100%|██████████| 14/14 [00:08<00:00,  1.73it/s]\n"
     ]
    },
    {
     "name": "stdout",
     "output_type": "stream",
     "text": [
      "Epoch 42: train_loss=0.2822 | val_acc=0.7232\n"
     ]
    },
    {
     "name": "stderr",
     "output_type": "stream",
     "text": [
      "Epoch 43/100 [train]:   0%|          | 0/250 [00:00<?, ?it/s]/tmp/ipykernel_3794604/1896974608.py:13: FutureWarning: `torch.cuda.amp.autocast(args...)` is deprecated. Please use `torch.amp.autocast('cuda', args...)` instead.\n",
      "  with torch.cuda.amp.autocast(enabled=USE_AMP):\n",
      "Epoch 43/100 [train]: 100%|██████████| 250/250 [01:42<00:00,  2.45it/s, loss=0.2547]\n",
      "Epoch 43/100 [val]:   0%|          | 0/14 [00:00<?, ?it/s]/tmp/ipykernel_3794604/1896974608.py:33: FutureWarning: `torch.cuda.amp.autocast(args...)` is deprecated. Please use `torch.amp.autocast('cuda', args...)` instead.\n",
      "  with torch.cuda.amp.autocast(enabled=USE_AMP):\n",
      "Epoch 43/100 [val]: 100%|██████████| 14/14 [00:07<00:00,  1.98it/s]\n"
     ]
    },
    {
     "name": "stdout",
     "output_type": "stream",
     "text": [
      "Epoch 43: train_loss=0.2537 | val_acc=0.7306\n"
     ]
    },
    {
     "name": "stderr",
     "output_type": "stream",
     "text": [
      "Epoch 44/100 [train]:   0%|          | 0/250 [00:00<?, ?it/s]/tmp/ipykernel_3794604/1896974608.py:13: FutureWarning: `torch.cuda.amp.autocast(args...)` is deprecated. Please use `torch.amp.autocast('cuda', args...)` instead.\n",
      "  with torch.cuda.amp.autocast(enabled=USE_AMP):\n",
      "Epoch 44/100 [train]: 100%|██████████| 250/250 [01:35<00:00,  2.63it/s, loss=0.2232]\n",
      "Epoch 44/100 [val]:   0%|          | 0/14 [00:00<?, ?it/s]/tmp/ipykernel_3794604/1896974608.py:33: FutureWarning: `torch.cuda.amp.autocast(args...)` is deprecated. Please use `torch.amp.autocast('cuda', args...)` instead.\n",
      "  with torch.cuda.amp.autocast(enabled=USE_AMP):\n",
      "Epoch 44/100 [val]: 100%|██████████| 14/14 [00:07<00:00,  1.86it/s]\n"
     ]
    },
    {
     "name": "stdout",
     "output_type": "stream",
     "text": [
      "Epoch 44: train_loss=0.2223 | val_acc=0.7334\n",
      "Saved new best checkpoint: val_acc=0.7334 -> checkpoints/best_vit_gz10.pth\n"
     ]
    },
    {
     "name": "stderr",
     "output_type": "stream",
     "text": [
      "Epoch 45/100 [train]:   0%|          | 0/250 [00:00<?, ?it/s]/tmp/ipykernel_3794604/1896974608.py:13: FutureWarning: `torch.cuda.amp.autocast(args...)` is deprecated. Please use `torch.amp.autocast('cuda', args...)` instead.\n",
      "  with torch.cuda.amp.autocast(enabled=USE_AMP):\n",
      "Epoch 45/100 [train]: 100%|██████████| 250/250 [01:38<00:00,  2.54it/s, loss=0.2176]\n",
      "Epoch 45/100 [val]:   0%|          | 0/14 [00:00<?, ?it/s]/tmp/ipykernel_3794604/1896974608.py:33: FutureWarning: `torch.cuda.amp.autocast(args...)` is deprecated. Please use `torch.amp.autocast('cuda', args...)` instead.\n",
      "  with torch.cuda.amp.autocast(enabled=USE_AMP):\n",
      "Epoch 45/100 [val]: 100%|██████████| 14/14 [00:07<00:00,  1.85it/s]\n"
     ]
    },
    {
     "name": "stdout",
     "output_type": "stream",
     "text": [
      "Epoch 45: train_loss=0.2167 | val_acc=0.6995\n"
     ]
    },
    {
     "name": "stderr",
     "output_type": "stream",
     "text": [
      "Epoch 46/100 [train]:   0%|          | 0/250 [00:00<?, ?it/s]/tmp/ipykernel_3794604/1896974608.py:13: FutureWarning: `torch.cuda.amp.autocast(args...)` is deprecated. Please use `torch.amp.autocast('cuda', args...)` instead.\n",
      "  with torch.cuda.amp.autocast(enabled=USE_AMP):\n",
      "Epoch 46/100 [train]: 100%|██████████| 250/250 [01:38<00:00,  2.54it/s, loss=0.1957]\n",
      "Epoch 46/100 [val]:   0%|          | 0/14 [00:00<?, ?it/s]/tmp/ipykernel_3794604/1896974608.py:33: FutureWarning: `torch.cuda.amp.autocast(args...)` is deprecated. Please use `torch.amp.autocast('cuda', args...)` instead.\n",
      "  with torch.cuda.amp.autocast(enabled=USE_AMP):\n",
      "Epoch 46/100 [val]: 100%|██████████| 14/14 [00:07<00:00,  1.89it/s]\n"
     ]
    },
    {
     "name": "stdout",
     "output_type": "stream",
     "text": [
      "Epoch 46: train_loss=0.1949 | val_acc=0.7148\n"
     ]
    },
    {
     "name": "stderr",
     "output_type": "stream",
     "text": [
      "Epoch 47/100 [train]:   0%|          | 0/250 [00:00<?, ?it/s]/tmp/ipykernel_3794604/1896974608.py:13: FutureWarning: `torch.cuda.amp.autocast(args...)` is deprecated. Please use `torch.amp.autocast('cuda', args...)` instead.\n",
      "  with torch.cuda.amp.autocast(enabled=USE_AMP):\n",
      "Epoch 47/100 [train]: 100%|██████████| 250/250 [01:36<00:00,  2.58it/s, loss=0.1894]\n",
      "Epoch 47/100 [val]:   0%|          | 0/14 [00:00<?, ?it/s]/tmp/ipykernel_3794604/1896974608.py:33: FutureWarning: `torch.cuda.amp.autocast(args...)` is deprecated. Please use `torch.amp.autocast('cuda', args...)` instead.\n",
      "  with torch.cuda.amp.autocast(enabled=USE_AMP):\n",
      "Epoch 47/100 [val]: 100%|██████████| 14/14 [00:07<00:00,  1.92it/s]\n"
     ]
    },
    {
     "name": "stdout",
     "output_type": "stream",
     "text": [
      "Epoch 47: train_loss=0.1886 | val_acc=0.7221\n"
     ]
    },
    {
     "name": "stderr",
     "output_type": "stream",
     "text": [
      "Epoch 48/100 [train]:   0%|          | 0/250 [00:00<?, ?it/s]/tmp/ipykernel_3794604/1896974608.py:13: FutureWarning: `torch.cuda.amp.autocast(args...)` is deprecated. Please use `torch.amp.autocast('cuda', args...)` instead.\n",
      "  with torch.cuda.amp.autocast(enabled=USE_AMP):\n",
      "Epoch 48/100 [train]: 100%|██████████| 250/250 [01:28<00:00,  2.82it/s, loss=0.1638]\n",
      "Epoch 48/100 [val]:   0%|          | 0/14 [00:00<?, ?it/s]/tmp/ipykernel_3794604/1896974608.py:33: FutureWarning: `torch.cuda.amp.autocast(args...)` is deprecated. Please use `torch.amp.autocast('cuda', args...)` instead.\n",
      "  with torch.cuda.amp.autocast(enabled=USE_AMP):\n",
      "Epoch 48/100 [val]: 100%|██████████| 14/14 [00:07<00:00,  1.79it/s]\n"
     ]
    },
    {
     "name": "stdout",
     "output_type": "stream",
     "text": [
      "Epoch 48: train_loss=0.1632 | val_acc=0.7215\n"
     ]
    },
    {
     "name": "stderr",
     "output_type": "stream",
     "text": [
      "Epoch 49/100 [train]:   0%|          | 0/250 [00:00<?, ?it/s]/tmp/ipykernel_3794604/1896974608.py:13: FutureWarning: `torch.cuda.amp.autocast(args...)` is deprecated. Please use `torch.amp.autocast('cuda', args...)` instead.\n",
      "  with torch.cuda.amp.autocast(enabled=USE_AMP):\n",
      "Epoch 49/100 [train]: 100%|██████████| 250/250 [01:36<00:00,  2.58it/s, loss=0.1506]\n",
      "Epoch 49/100 [val]:   0%|          | 0/14 [00:00<?, ?it/s]/tmp/ipykernel_3794604/1896974608.py:33: FutureWarning: `torch.cuda.amp.autocast(args...)` is deprecated. Please use `torch.amp.autocast('cuda', args...)` instead.\n",
      "  with torch.cuda.amp.autocast(enabled=USE_AMP):\n",
      "Epoch 49/100 [val]: 100%|██████████| 14/14 [00:07<00:00,  1.76it/s]\n"
     ]
    },
    {
     "name": "stdout",
     "output_type": "stream",
     "text": [
      "Epoch 49: train_loss=0.1500 | val_acc=0.7238\n"
     ]
    },
    {
     "name": "stderr",
     "output_type": "stream",
     "text": [
      "Epoch 50/100 [train]:   0%|          | 0/250 [00:00<?, ?it/s]/tmp/ipykernel_3794604/1896974608.py:13: FutureWarning: `torch.cuda.amp.autocast(args...)` is deprecated. Please use `torch.amp.autocast('cuda', args...)` instead.\n",
      "  with torch.cuda.amp.autocast(enabled=USE_AMP):\n",
      "Epoch 50/100 [train]: 100%|██████████| 250/250 [01:31<00:00,  2.75it/s, loss=0.1342]\n",
      "Epoch 50/100 [val]:   0%|          | 0/14 [00:00<?, ?it/s]/tmp/ipykernel_3794604/1896974608.py:33: FutureWarning: `torch.cuda.amp.autocast(args...)` is deprecated. Please use `torch.amp.autocast('cuda', args...)` instead.\n",
      "  with torch.cuda.amp.autocast(enabled=USE_AMP):\n",
      "Epoch 50/100 [val]: 100%|██████████| 14/14 [00:07<00:00,  1.80it/s]\n"
     ]
    },
    {
     "name": "stdout",
     "output_type": "stream",
     "text": [
      "Epoch 50: train_loss=0.1337 | val_acc=0.7249\n"
     ]
    },
    {
     "name": "stderr",
     "output_type": "stream",
     "text": [
      "Epoch 51/100 [train]:   0%|          | 0/250 [00:00<?, ?it/s]/tmp/ipykernel_3794604/1896974608.py:13: FutureWarning: `torch.cuda.amp.autocast(args...)` is deprecated. Please use `torch.amp.autocast('cuda', args...)` instead.\n",
      "  with torch.cuda.amp.autocast(enabled=USE_AMP):\n",
      "Epoch 51/100 [train]: 100%|██████████| 250/250 [01:36<00:00,  2.58it/s, loss=0.1210]\n",
      "Epoch 51/100 [val]:   0%|          | 0/14 [00:00<?, ?it/s]/tmp/ipykernel_3794604/1896974608.py:33: FutureWarning: `torch.cuda.amp.autocast(args...)` is deprecated. Please use `torch.amp.autocast('cuda', args...)` instead.\n",
      "  with torch.cuda.amp.autocast(enabled=USE_AMP):\n",
      "Epoch 51/100 [val]: 100%|██████████| 14/14 [00:08<00:00,  1.71it/s]\n"
     ]
    },
    {
     "name": "stdout",
     "output_type": "stream",
     "text": [
      "Epoch 51: train_loss=0.1205 | val_acc=0.7277\n"
     ]
    },
    {
     "name": "stderr",
     "output_type": "stream",
     "text": [
      "Epoch 52/100 [train]:   0%|          | 0/250 [00:00<?, ?it/s]/tmp/ipykernel_3794604/1896974608.py:13: FutureWarning: `torch.cuda.amp.autocast(args...)` is deprecated. Please use `torch.amp.autocast('cuda', args...)` instead.\n",
      "  with torch.cuda.amp.autocast(enabled=USE_AMP):\n",
      "Epoch 52/100 [train]: 100%|██████████| 250/250 [01:34<00:00,  2.65it/s, loss=0.1114]\n",
      "Epoch 52/100 [val]:   0%|          | 0/14 [00:00<?, ?it/s]/tmp/ipykernel_3794604/1896974608.py:33: FutureWarning: `torch.cuda.amp.autocast(args...)` is deprecated. Please use `torch.amp.autocast('cuda', args...)` instead.\n",
      "  with torch.cuda.amp.autocast(enabled=USE_AMP):\n",
      "Epoch 52/100 [val]: 100%|██████████| 14/14 [00:09<00:00,  1.40it/s]\n"
     ]
    },
    {
     "name": "stdout",
     "output_type": "stream",
     "text": [
      "Epoch 52: train_loss=0.1109 | val_acc=0.7283\n"
     ]
    },
    {
     "name": "stderr",
     "output_type": "stream",
     "text": [
      "Epoch 53/100 [train]:   0%|          | 0/250 [00:00<?, ?it/s]/tmp/ipykernel_3794604/1896974608.py:13: FutureWarning: `torch.cuda.amp.autocast(args...)` is deprecated. Please use `torch.amp.autocast('cuda', args...)` instead.\n",
      "  with torch.cuda.amp.autocast(enabled=USE_AMP):\n",
      "Epoch 53/100 [train]: 100%|██████████| 250/250 [01:28<00:00,  2.82it/s, loss=0.1041]\n",
      "Epoch 53/100 [val]:   0%|          | 0/14 [00:00<?, ?it/s]/tmp/ipykernel_3794604/1896974608.py:33: FutureWarning: `torch.cuda.amp.autocast(args...)` is deprecated. Please use `torch.amp.autocast('cuda', args...)` instead.\n",
      "  with torch.cuda.amp.autocast(enabled=USE_AMP):\n",
      "Epoch 53/100 [val]: 100%|██████████| 14/14 [00:07<00:00,  1.99it/s]\n"
     ]
    },
    {
     "name": "stdout",
     "output_type": "stream",
     "text": [
      "Epoch 53: train_loss=0.1037 | val_acc=0.7153\n"
     ]
    },
    {
     "name": "stderr",
     "output_type": "stream",
     "text": [
      "Epoch 54/100 [train]:   0%|          | 0/250 [00:00<?, ?it/s]/tmp/ipykernel_3794604/1896974608.py:13: FutureWarning: `torch.cuda.amp.autocast(args...)` is deprecated. Please use `torch.amp.autocast('cuda', args...)` instead.\n",
      "  with torch.cuda.amp.autocast(enabled=USE_AMP):\n",
      "Epoch 54/100 [train]: 100%|██████████| 250/250 [01:28<00:00,  2.81it/s, loss=0.0862]\n",
      "Epoch 54/100 [val]:   0%|          | 0/14 [00:00<?, ?it/s]/tmp/ipykernel_3794604/1896974608.py:33: FutureWarning: `torch.cuda.amp.autocast(args...)` is deprecated. Please use `torch.amp.autocast('cuda', args...)` instead.\n",
      "  with torch.cuda.amp.autocast(enabled=USE_AMP):\n",
      "Epoch 54/100 [val]: 100%|██████████| 14/14 [00:07<00:00,  1.90it/s]\n"
     ]
    },
    {
     "name": "stdout",
     "output_type": "stream",
     "text": [
      "Epoch 54: train_loss=0.0859 | val_acc=0.7193\n"
     ]
    },
    {
     "name": "stderr",
     "output_type": "stream",
     "text": [
      "Epoch 55/100 [train]:   0%|          | 0/250 [00:00<?, ?it/s]/tmp/ipykernel_3794604/1896974608.py:13: FutureWarning: `torch.cuda.amp.autocast(args...)` is deprecated. Please use `torch.amp.autocast('cuda', args...)` instead.\n",
      "  with torch.cuda.amp.autocast(enabled=USE_AMP):\n",
      "Epoch 55/100 [train]: 100%|██████████| 250/250 [01:38<00:00,  2.54it/s, loss=0.0813]\n",
      "Epoch 55/100 [val]:   0%|          | 0/14 [00:00<?, ?it/s]/tmp/ipykernel_3794604/1896974608.py:33: FutureWarning: `torch.cuda.amp.autocast(args...)` is deprecated. Please use `torch.amp.autocast('cuda', args...)` instead.\n",
      "  with torch.cuda.amp.autocast(enabled=USE_AMP):\n",
      "Epoch 55/100 [val]: 100%|██████████| 14/14 [00:08<00:00,  1.57it/s]\n"
     ]
    },
    {
     "name": "stdout",
     "output_type": "stream",
     "text": [
      "Epoch 55: train_loss=0.0810 | val_acc=0.7413\n",
      "Saved new best checkpoint: val_acc=0.7413 -> checkpoints/best_vit_gz10.pth\n"
     ]
    },
    {
     "name": "stderr",
     "output_type": "stream",
     "text": [
      "Epoch 56/100 [train]:   0%|          | 0/250 [00:00<?, ?it/s]/tmp/ipykernel_3794604/1896974608.py:13: FutureWarning: `torch.cuda.amp.autocast(args...)` is deprecated. Please use `torch.amp.autocast('cuda', args...)` instead.\n",
      "  with torch.cuda.amp.autocast(enabled=USE_AMP):\n",
      "Epoch 56/100 [train]: 100%|██████████| 250/250 [01:29<00:00,  2.78it/s, loss=0.0707]\n",
      "Epoch 56/100 [val]:   0%|          | 0/14 [00:00<?, ?it/s]/tmp/ipykernel_3794604/1896974608.py:33: FutureWarning: `torch.cuda.amp.autocast(args...)` is deprecated. Please use `torch.amp.autocast('cuda', args...)` instead.\n",
      "  with torch.cuda.amp.autocast(enabled=USE_AMP):\n",
      "Epoch 56/100 [val]: 100%|██████████| 14/14 [00:07<00:00,  1.84it/s]\n"
     ]
    },
    {
     "name": "stdout",
     "output_type": "stream",
     "text": [
      "Epoch 56: train_loss=0.0704 | val_acc=0.7187\n"
     ]
    },
    {
     "name": "stderr",
     "output_type": "stream",
     "text": [
      "Epoch 57/100 [train]:   0%|          | 0/250 [00:00<?, ?it/s]/tmp/ipykernel_3794604/1896974608.py:13: FutureWarning: `torch.cuda.amp.autocast(args...)` is deprecated. Please use `torch.amp.autocast('cuda', args...)` instead.\n",
      "  with torch.cuda.amp.autocast(enabled=USE_AMP):\n",
      "Epoch 57/100 [train]: 100%|██████████| 250/250 [01:29<00:00,  2.79it/s, loss=0.0645]\n",
      "Epoch 57/100 [val]:   0%|          | 0/14 [00:00<?, ?it/s]/tmp/ipykernel_3794604/1896974608.py:33: FutureWarning: `torch.cuda.amp.autocast(args...)` is deprecated. Please use `torch.amp.autocast('cuda', args...)` instead.\n",
      "  with torch.cuda.amp.autocast(enabled=USE_AMP):\n",
      "Epoch 57/100 [val]: 100%|██████████| 14/14 [00:07<00:00,  1.77it/s]\n"
     ]
    },
    {
     "name": "stdout",
     "output_type": "stream",
     "text": [
      "Epoch 57: train_loss=0.0642 | val_acc=0.7148\n"
     ]
    },
    {
     "name": "stderr",
     "output_type": "stream",
     "text": [
      "Epoch 58/100 [train]:   0%|          | 0/250 [00:00<?, ?it/s]/tmp/ipykernel_3794604/1896974608.py:13: FutureWarning: `torch.cuda.amp.autocast(args...)` is deprecated. Please use `torch.amp.autocast('cuda', args...)` instead.\n",
      "  with torch.cuda.amp.autocast(enabled=USE_AMP):\n",
      "Epoch 58/100 [train]: 100%|██████████| 250/250 [01:30<00:00,  2.76it/s, loss=0.0644]\n",
      "Epoch 58/100 [val]:   0%|          | 0/14 [00:00<?, ?it/s]/tmp/ipykernel_3794604/1896974608.py:33: FutureWarning: `torch.cuda.amp.autocast(args...)` is deprecated. Please use `torch.amp.autocast('cuda', args...)` instead.\n",
      "  with torch.cuda.amp.autocast(enabled=USE_AMP):\n",
      "Epoch 58/100 [val]: 100%|██████████| 14/14 [00:09<00:00,  1.40it/s]\n"
     ]
    },
    {
     "name": "stdout",
     "output_type": "stream",
     "text": [
      "Epoch 58: train_loss=0.0641 | val_acc=0.7283\n"
     ]
    },
    {
     "name": "stderr",
     "output_type": "stream",
     "text": [
      "Epoch 59/100 [train]:   0%|          | 0/250 [00:00<?, ?it/s]/tmp/ipykernel_3794604/1896974608.py:13: FutureWarning: `torch.cuda.amp.autocast(args...)` is deprecated. Please use `torch.amp.autocast('cuda', args...)` instead.\n",
      "  with torch.cuda.amp.autocast(enabled=USE_AMP):\n",
      "Epoch 59/100 [train]: 100%|██████████| 250/250 [01:34<00:00,  2.64it/s, loss=0.0511]\n",
      "Epoch 59/100 [val]:   0%|          | 0/14 [00:00<?, ?it/s]/tmp/ipykernel_3794604/1896974608.py:33: FutureWarning: `torch.cuda.amp.autocast(args...)` is deprecated. Please use `torch.amp.autocast('cuda', args...)` instead.\n",
      "  with torch.cuda.amp.autocast(enabled=USE_AMP):\n",
      "Epoch 59/100 [val]: 100%|██████████| 14/14 [00:06<00:00,  2.00it/s]\n"
     ]
    },
    {
     "name": "stdout",
     "output_type": "stream",
     "text": [
      "Epoch 59: train_loss=0.0509 | val_acc=0.7227\n"
     ]
    },
    {
     "name": "stderr",
     "output_type": "stream",
     "text": [
      "Epoch 60/100 [train]:   0%|          | 0/250 [00:00<?, ?it/s]/tmp/ipykernel_3794604/1896974608.py:13: FutureWarning: `torch.cuda.amp.autocast(args...)` is deprecated. Please use `torch.amp.autocast('cuda', args...)` instead.\n",
      "  with torch.cuda.amp.autocast(enabled=USE_AMP):\n",
      "Epoch 60/100 [train]: 100%|██████████| 250/250 [01:37<00:00,  2.56it/s, loss=0.0501]\n",
      "Epoch 60/100 [val]:   0%|          | 0/14 [00:00<?, ?it/s]/tmp/ipykernel_3794604/1896974608.py:33: FutureWarning: `torch.cuda.amp.autocast(args...)` is deprecated. Please use `torch.amp.autocast('cuda', args...)` instead.\n",
      "  with torch.cuda.amp.autocast(enabled=USE_AMP):\n",
      "Epoch 60/100 [val]: 100%|██████████| 14/14 [00:09<00:00,  1.44it/s]\n"
     ]
    },
    {
     "name": "stdout",
     "output_type": "stream",
     "text": [
      "Epoch 60: train_loss=0.0499 | val_acc=0.7255\n"
     ]
    },
    {
     "name": "stderr",
     "output_type": "stream",
     "text": [
      "Epoch 61/100 [train]:   0%|          | 0/250 [00:00<?, ?it/s]/tmp/ipykernel_3794604/1896974608.py:13: FutureWarning: `torch.cuda.amp.autocast(args...)` is deprecated. Please use `torch.amp.autocast('cuda', args...)` instead.\n",
      "  with torch.cuda.amp.autocast(enabled=USE_AMP):\n",
      "Epoch 61/100 [train]: 100%|██████████| 250/250 [01:26<00:00,  2.88it/s, loss=0.0470]\n",
      "Epoch 61/100 [val]:   0%|          | 0/14 [00:00<?, ?it/s]/tmp/ipykernel_3794604/1896974608.py:33: FutureWarning: `torch.cuda.amp.autocast(args...)` is deprecated. Please use `torch.amp.autocast('cuda', args...)` instead.\n",
      "  with torch.cuda.amp.autocast(enabled=USE_AMP):\n",
      "Epoch 61/100 [val]: 100%|██████████| 14/14 [00:10<00:00,  1.37it/s]\n"
     ]
    },
    {
     "name": "stdout",
     "output_type": "stream",
     "text": [
      "Epoch 61: train_loss=0.0468 | val_acc=0.7294\n"
     ]
    },
    {
     "name": "stderr",
     "output_type": "stream",
     "text": [
      "Epoch 62/100 [train]:   0%|          | 0/250 [00:00<?, ?it/s]/tmp/ipykernel_3794604/1896974608.py:13: FutureWarning: `torch.cuda.amp.autocast(args...)` is deprecated. Please use `torch.amp.autocast('cuda', args...)` instead.\n",
      "  with torch.cuda.amp.autocast(enabled=USE_AMP):\n",
      "Epoch 62/100 [train]: 100%|██████████| 250/250 [01:32<00:00,  2.71it/s, loss=0.0507]\n",
      "Epoch 62/100 [val]:   0%|          | 0/14 [00:00<?, ?it/s]/tmp/ipykernel_3794604/1896974608.py:33: FutureWarning: `torch.cuda.amp.autocast(args...)` is deprecated. Please use `torch.amp.autocast('cuda', args...)` instead.\n",
      "  with torch.cuda.amp.autocast(enabled=USE_AMP):\n",
      "Epoch 62/100 [val]: 100%|██████████| 14/14 [00:07<00:00,  1.80it/s]\n"
     ]
    },
    {
     "name": "stdout",
     "output_type": "stream",
     "text": [
      "Epoch 62: train_loss=0.0505 | val_acc=0.7368\n"
     ]
    },
    {
     "name": "stderr",
     "output_type": "stream",
     "text": [
      "Epoch 63/100 [train]:   0%|          | 0/250 [00:00<?, ?it/s]/tmp/ipykernel_3794604/1896974608.py:13: FutureWarning: `torch.cuda.amp.autocast(args...)` is deprecated. Please use `torch.amp.autocast('cuda', args...)` instead.\n",
      "  with torch.cuda.amp.autocast(enabled=USE_AMP):\n",
      "Epoch 63/100 [train]: 100%|██████████| 250/250 [01:36<00:00,  2.59it/s, loss=0.0414]\n",
      "Epoch 63/100 [val]:   0%|          | 0/14 [00:00<?, ?it/s]/tmp/ipykernel_3794604/1896974608.py:33: FutureWarning: `torch.cuda.amp.autocast(args...)` is deprecated. Please use `torch.amp.autocast('cuda', args...)` instead.\n",
      "  with torch.cuda.amp.autocast(enabled=USE_AMP):\n",
      "Epoch 63/100 [val]: 100%|██████████| 14/14 [00:09<00:00,  1.52it/s]\n"
     ]
    },
    {
     "name": "stdout",
     "output_type": "stream",
     "text": [
      "Epoch 63: train_loss=0.0412 | val_acc=0.7255\n"
     ]
    },
    {
     "name": "stderr",
     "output_type": "stream",
     "text": [
      "Epoch 64/100 [train]:   0%|          | 0/250 [00:00<?, ?it/s]/tmp/ipykernel_3794604/1896974608.py:13: FutureWarning: `torch.cuda.amp.autocast(args...)` is deprecated. Please use `torch.amp.autocast('cuda', args...)` instead.\n",
      "  with torch.cuda.amp.autocast(enabled=USE_AMP):\n",
      "Epoch 64/100 [train]: 100%|██████████| 250/250 [01:35<00:00,  2.62it/s, loss=0.0360]\n",
      "Epoch 64/100 [val]:   0%|          | 0/14 [00:00<?, ?it/s]/tmp/ipykernel_3794604/1896974608.py:33: FutureWarning: `torch.cuda.amp.autocast(args...)` is deprecated. Please use `torch.amp.autocast('cuda', args...)` instead.\n",
      "  with torch.cuda.amp.autocast(enabled=USE_AMP):\n",
      "Epoch 64/100 [val]: 100%|██████████| 14/14 [00:08<00:00,  1.58it/s]\n"
     ]
    },
    {
     "name": "stdout",
     "output_type": "stream",
     "text": [
      "Epoch 64: train_loss=0.0359 | val_acc=0.7311\n"
     ]
    },
    {
     "name": "stderr",
     "output_type": "stream",
     "text": [
      "Epoch 65/100 [train]:   0%|          | 0/250 [00:00<?, ?it/s]/tmp/ipykernel_3794604/1896974608.py:13: FutureWarning: `torch.cuda.amp.autocast(args...)` is deprecated. Please use `torch.amp.autocast('cuda', args...)` instead.\n",
      "  with torch.cuda.amp.autocast(enabled=USE_AMP):\n",
      "Epoch 65/100 [train]: 100%|██████████| 250/250 [01:28<00:00,  2.81it/s, loss=0.0320]\n",
      "Epoch 65/100 [val]:   0%|          | 0/14 [00:00<?, ?it/s]/tmp/ipykernel_3794604/1896974608.py:33: FutureWarning: `torch.cuda.amp.autocast(args...)` is deprecated. Please use `torch.amp.autocast('cuda', args...)` instead.\n",
      "  with torch.cuda.amp.autocast(enabled=USE_AMP):\n",
      "Epoch 65/100 [val]: 100%|██████████| 14/14 [00:08<00:00,  1.75it/s]\n"
     ]
    },
    {
     "name": "stdout",
     "output_type": "stream",
     "text": [
      "Epoch 65: train_loss=0.0318 | val_acc=0.7306\n"
     ]
    },
    {
     "name": "stderr",
     "output_type": "stream",
     "text": [
      "Epoch 66/100 [train]:   0%|          | 0/250 [00:00<?, ?it/s]/tmp/ipykernel_3794604/1896974608.py:13: FutureWarning: `torch.cuda.amp.autocast(args...)` is deprecated. Please use `torch.amp.autocast('cuda', args...)` instead.\n",
      "  with torch.cuda.amp.autocast(enabled=USE_AMP):\n",
      "Epoch 66/100 [train]: 100%|██████████| 250/250 [01:36<00:00,  2.58it/s, loss=0.0362]\n",
      "Epoch 66/100 [val]:   0%|          | 0/14 [00:00<?, ?it/s]/tmp/ipykernel_3794604/1896974608.py:33: FutureWarning: `torch.cuda.amp.autocast(args...)` is deprecated. Please use `torch.amp.autocast('cuda', args...)` instead.\n",
      "  with torch.cuda.amp.autocast(enabled=USE_AMP):\n",
      "Epoch 66/100 [val]: 100%|██████████| 14/14 [00:07<00:00,  1.89it/s]\n"
     ]
    },
    {
     "name": "stdout",
     "output_type": "stream",
     "text": [
      "Epoch 66: train_loss=0.0361 | val_acc=0.7294\n"
     ]
    },
    {
     "name": "stderr",
     "output_type": "stream",
     "text": [
      "Epoch 67/100 [train]:   0%|          | 0/250 [00:00<?, ?it/s]/tmp/ipykernel_3794604/1896974608.py:13: FutureWarning: `torch.cuda.amp.autocast(args...)` is deprecated. Please use `torch.amp.autocast('cuda', args...)` instead.\n",
      "  with torch.cuda.amp.autocast(enabled=USE_AMP):\n",
      "Epoch 67/100 [train]: 100%|██████████| 250/250 [01:34<00:00,  2.65it/s, loss=0.0278]\n",
      "Epoch 67/100 [val]:   0%|          | 0/14 [00:00<?, ?it/s]/tmp/ipykernel_3794604/1896974608.py:33: FutureWarning: `torch.cuda.amp.autocast(args...)` is deprecated. Please use `torch.amp.autocast('cuda', args...)` instead.\n",
      "  with torch.cuda.amp.autocast(enabled=USE_AMP):\n",
      "Epoch 67/100 [val]: 100%|██████████| 14/14 [00:07<00:00,  1.88it/s]\n"
     ]
    },
    {
     "name": "stdout",
     "output_type": "stream",
     "text": [
      "Epoch 67: train_loss=0.0277 | val_acc=0.7322\n"
     ]
    },
    {
     "name": "stderr",
     "output_type": "stream",
     "text": [
      "Epoch 68/100 [train]:   0%|          | 0/250 [00:00<?, ?it/s]/tmp/ipykernel_3794604/1896974608.py:13: FutureWarning: `torch.cuda.amp.autocast(args...)` is deprecated. Please use `torch.amp.autocast('cuda', args...)` instead.\n",
      "  with torch.cuda.amp.autocast(enabled=USE_AMP):\n",
      "Epoch 68/100 [train]: 100%|██████████| 250/250 [01:33<00:00,  2.67it/s, loss=0.0273]\n",
      "Epoch 68/100 [val]:   0%|          | 0/14 [00:00<?, ?it/s]/tmp/ipykernel_3794604/1896974608.py:33: FutureWarning: `torch.cuda.amp.autocast(args...)` is deprecated. Please use `torch.amp.autocast('cuda', args...)` instead.\n",
      "  with torch.cuda.amp.autocast(enabled=USE_AMP):\n",
      "Epoch 68/100 [val]: 100%|██████████| 14/14 [00:07<00:00,  1.86it/s]\n"
     ]
    },
    {
     "name": "stdout",
     "output_type": "stream",
     "text": [
      "Epoch 68: train_loss=0.0272 | val_acc=0.7300\n"
     ]
    },
    {
     "name": "stderr",
     "output_type": "stream",
     "text": [
      "Epoch 69/100 [train]:   0%|          | 0/250 [00:00<?, ?it/s]/tmp/ipykernel_3794604/1896974608.py:13: FutureWarning: `torch.cuda.amp.autocast(args...)` is deprecated. Please use `torch.amp.autocast('cuda', args...)` instead.\n",
      "  with torch.cuda.amp.autocast(enabled=USE_AMP):\n",
      "Epoch 69/100 [train]: 100%|██████████| 250/250 [01:29<00:00,  2.79it/s, loss=0.0237]\n",
      "Epoch 69/100 [val]:   0%|          | 0/14 [00:00<?, ?it/s]/tmp/ipykernel_3794604/1896974608.py:33: FutureWarning: `torch.cuda.amp.autocast(args...)` is deprecated. Please use `torch.amp.autocast('cuda', args...)` instead.\n",
      "  with torch.cuda.amp.autocast(enabled=USE_AMP):\n",
      "Epoch 69/100 [val]: 100%|██████████| 14/14 [00:07<00:00,  1.79it/s]\n"
     ]
    },
    {
     "name": "stdout",
     "output_type": "stream",
     "text": [
      "Epoch 69: train_loss=0.0236 | val_acc=0.7334\n"
     ]
    },
    {
     "name": "stderr",
     "output_type": "stream",
     "text": [
      "Epoch 70/100 [train]:   0%|          | 0/250 [00:00<?, ?it/s]/tmp/ipykernel_3794604/1896974608.py:13: FutureWarning: `torch.cuda.amp.autocast(args...)` is deprecated. Please use `torch.amp.autocast('cuda', args...)` instead.\n",
      "  with torch.cuda.amp.autocast(enabled=USE_AMP):\n",
      "Epoch 70/100 [train]: 100%|██████████| 250/250 [01:33<00:00,  2.66it/s, loss=0.0164]\n",
      "Epoch 70/100 [val]:   0%|          | 0/14 [00:00<?, ?it/s]/tmp/ipykernel_3794604/1896974608.py:33: FutureWarning: `torch.cuda.amp.autocast(args...)` is deprecated. Please use `torch.amp.autocast('cuda', args...)` instead.\n",
      "  with torch.cuda.amp.autocast(enabled=USE_AMP):\n",
      "Epoch 70/100 [val]: 100%|██████████| 14/14 [00:08<00:00,  1.71it/s]\n"
     ]
    },
    {
     "name": "stdout",
     "output_type": "stream",
     "text": [
      "Epoch 70: train_loss=0.0163 | val_acc=0.7283\n"
     ]
    },
    {
     "name": "stderr",
     "output_type": "stream",
     "text": [
      "Epoch 71/100 [train]:   0%|          | 0/250 [00:00<?, ?it/s]/tmp/ipykernel_3794604/1896974608.py:13: FutureWarning: `torch.cuda.amp.autocast(args...)` is deprecated. Please use `torch.amp.autocast('cuda', args...)` instead.\n",
      "  with torch.cuda.amp.autocast(enabled=USE_AMP):\n",
      "Epoch 71/100 [train]: 100%|██████████| 250/250 [01:38<00:00,  2.53it/s, loss=0.0158]\n",
      "Epoch 71/100 [val]:   0%|          | 0/14 [00:00<?, ?it/s]/tmp/ipykernel_3794604/1896974608.py:33: FutureWarning: `torch.cuda.amp.autocast(args...)` is deprecated. Please use `torch.amp.autocast('cuda', args...)` instead.\n",
      "  with torch.cuda.amp.autocast(enabled=USE_AMP):\n",
      "Epoch 71/100 [val]: 100%|██████████| 14/14 [00:07<00:00,  1.90it/s]\n"
     ]
    },
    {
     "name": "stdout",
     "output_type": "stream",
     "text": [
      "Epoch 71: train_loss=0.0157 | val_acc=0.7362\n"
     ]
    },
    {
     "name": "stderr",
     "output_type": "stream",
     "text": [
      "Epoch 72/100 [train]:   0%|          | 0/250 [00:00<?, ?it/s]/tmp/ipykernel_3794604/1896974608.py:13: FutureWarning: `torch.cuda.amp.autocast(args...)` is deprecated. Please use `torch.amp.autocast('cuda', args...)` instead.\n",
      "  with torch.cuda.amp.autocast(enabled=USE_AMP):\n",
      "Epoch 72/100 [train]: 100%|██████████| 250/250 [01:26<00:00,  2.88it/s, loss=0.0198]\n",
      "Epoch 72/100 [val]:   0%|          | 0/14 [00:00<?, ?it/s]/tmp/ipykernel_3794604/1896974608.py:33: FutureWarning: `torch.cuda.amp.autocast(args...)` is deprecated. Please use `torch.amp.autocast('cuda', args...)` instead.\n",
      "  with torch.cuda.amp.autocast(enabled=USE_AMP):\n",
      "Epoch 72/100 [val]: 100%|██████████| 14/14 [00:08<00:00,  1.67it/s]\n"
     ]
    },
    {
     "name": "stdout",
     "output_type": "stream",
     "text": [
      "Epoch 72: train_loss=0.0197 | val_acc=0.7283\n"
     ]
    },
    {
     "name": "stderr",
     "output_type": "stream",
     "text": [
      "Epoch 73/100 [train]:   0%|          | 0/250 [00:00<?, ?it/s]/tmp/ipykernel_3794604/1896974608.py:13: FutureWarning: `torch.cuda.amp.autocast(args...)` is deprecated. Please use `torch.amp.autocast('cuda', args...)` instead.\n",
      "  with torch.cuda.amp.autocast(enabled=USE_AMP):\n",
      "Epoch 73/100 [train]: 100%|██████████| 250/250 [01:29<00:00,  2.80it/s, loss=0.0167]\n",
      "Epoch 73/100 [val]:   0%|          | 0/14 [00:00<?, ?it/s]/tmp/ipykernel_3794604/1896974608.py:33: FutureWarning: `torch.cuda.amp.autocast(args...)` is deprecated. Please use `torch.amp.autocast('cuda', args...)` instead.\n",
      "  with torch.cuda.amp.autocast(enabled=USE_AMP):\n",
      "Epoch 73/100 [val]: 100%|██████████| 14/14 [00:08<00:00,  1.70it/s]\n"
     ]
    },
    {
     "name": "stdout",
     "output_type": "stream",
     "text": [
      "Epoch 73: train_loss=0.0167 | val_acc=0.7351\n"
     ]
    },
    {
     "name": "stderr",
     "output_type": "stream",
     "text": [
      "Epoch 74/100 [train]:   0%|          | 0/250 [00:00<?, ?it/s]/tmp/ipykernel_3794604/1896974608.py:13: FutureWarning: `torch.cuda.amp.autocast(args...)` is deprecated. Please use `torch.amp.autocast('cuda', args...)` instead.\n",
      "  with torch.cuda.amp.autocast(enabled=USE_AMP):\n",
      "Epoch 74/100 [train]: 100%|██████████| 250/250 [01:33<00:00,  2.67it/s, loss=0.0130]\n",
      "Epoch 74/100 [val]:   0%|          | 0/14 [00:00<?, ?it/s]/tmp/ipykernel_3794604/1896974608.py:33: FutureWarning: `torch.cuda.amp.autocast(args...)` is deprecated. Please use `torch.amp.autocast('cuda', args...)` instead.\n",
      "  with torch.cuda.amp.autocast(enabled=USE_AMP):\n",
      "Epoch 74/100 [val]: 100%|██████████| 14/14 [00:07<00:00,  1.99it/s]\n"
     ]
    },
    {
     "name": "stdout",
     "output_type": "stream",
     "text": [
      "Epoch 74: train_loss=0.0129 | val_acc=0.7334\n"
     ]
    },
    {
     "name": "stderr",
     "output_type": "stream",
     "text": [
      "Epoch 75/100 [train]:   0%|          | 0/250 [00:00<?, ?it/s]/tmp/ipykernel_3794604/1896974608.py:13: FutureWarning: `torch.cuda.amp.autocast(args...)` is deprecated. Please use `torch.amp.autocast('cuda', args...)` instead.\n",
      "  with torch.cuda.amp.autocast(enabled=USE_AMP):\n",
      "Epoch 75/100 [train]: 100%|██████████| 250/250 [01:29<00:00,  2.80it/s, loss=0.0178]\n",
      "Epoch 75/100 [val]:   0%|          | 0/14 [00:00<?, ?it/s]/tmp/ipykernel_3794604/1896974608.py:33: FutureWarning: `torch.cuda.amp.autocast(args...)` is deprecated. Please use `torch.amp.autocast('cuda', args...)` instead.\n",
      "  with torch.cuda.amp.autocast(enabled=USE_AMP):\n",
      "Epoch 75/100 [val]: 100%|██████████| 14/14 [00:07<00:00,  1.85it/s]\n"
     ]
    },
    {
     "name": "stdout",
     "output_type": "stream",
     "text": [
      "Epoch 75: train_loss=0.0177 | val_acc=0.7283\n"
     ]
    },
    {
     "name": "stderr",
     "output_type": "stream",
     "text": [
      "Epoch 76/100 [train]:   0%|          | 0/250 [00:00<?, ?it/s]/tmp/ipykernel_3794604/1896974608.py:13: FutureWarning: `torch.cuda.amp.autocast(args...)` is deprecated. Please use `torch.amp.autocast('cuda', args...)` instead.\n",
      "  with torch.cuda.amp.autocast(enabled=USE_AMP):\n",
      "Epoch 76/100 [train]: 100%|██████████| 250/250 [01:30<00:00,  2.77it/s, loss=0.0142]\n",
      "Epoch 76/100 [val]:   0%|          | 0/14 [00:00<?, ?it/s]/tmp/ipykernel_3794604/1896974608.py:33: FutureWarning: `torch.cuda.amp.autocast(args...)` is deprecated. Please use `torch.amp.autocast('cuda', args...)` instead.\n",
      "  with torch.cuda.amp.autocast(enabled=USE_AMP):\n",
      "Epoch 76/100 [val]: 100%|██████████| 14/14 [00:07<00:00,  1.86it/s]\n"
     ]
    },
    {
     "name": "stdout",
     "output_type": "stream",
     "text": [
      "Epoch 76: train_loss=0.0141 | val_acc=0.7373\n"
     ]
    },
    {
     "name": "stderr",
     "output_type": "stream",
     "text": [
      "Epoch 77/100 [train]:   0%|          | 0/250 [00:00<?, ?it/s]/tmp/ipykernel_3794604/1896974608.py:13: FutureWarning: `torch.cuda.amp.autocast(args...)` is deprecated. Please use `torch.amp.autocast('cuda', args...)` instead.\n",
      "  with torch.cuda.amp.autocast(enabled=USE_AMP):\n",
      "Epoch 77/100 [train]: 100%|██████████| 250/250 [01:33<00:00,  2.67it/s, loss=0.0109]\n",
      "Epoch 77/100 [val]:   0%|          | 0/14 [00:00<?, ?it/s]/tmp/ipykernel_3794604/1896974608.py:33: FutureWarning: `torch.cuda.amp.autocast(args...)` is deprecated. Please use `torch.amp.autocast('cuda', args...)` instead.\n",
      "  with torch.cuda.amp.autocast(enabled=USE_AMP):\n",
      "Epoch 77/100 [val]: 100%|██████████| 14/14 [00:08<00:00,  1.71it/s]\n"
     ]
    },
    {
     "name": "stdout",
     "output_type": "stream",
     "text": [
      "Epoch 77: train_loss=0.0108 | val_acc=0.7317\n"
     ]
    },
    {
     "name": "stderr",
     "output_type": "stream",
     "text": [
      "Epoch 78/100 [train]:   0%|          | 0/250 [00:00<?, ?it/s]/tmp/ipykernel_3794604/1896974608.py:13: FutureWarning: `torch.cuda.amp.autocast(args...)` is deprecated. Please use `torch.amp.autocast('cuda', args...)` instead.\n",
      "  with torch.cuda.amp.autocast(enabled=USE_AMP):\n",
      "Epoch 78/100 [train]: 100%|██████████| 250/250 [01:38<00:00,  2.54it/s, loss=0.0105]\n",
      "Epoch 78/100 [val]:   0%|          | 0/14 [00:00<?, ?it/s]/tmp/ipykernel_3794604/1896974608.py:33: FutureWarning: `torch.cuda.amp.autocast(args...)` is deprecated. Please use `torch.amp.autocast('cuda', args...)` instead.\n",
      "  with torch.cuda.amp.autocast(enabled=USE_AMP):\n",
      "Epoch 78/100 [val]: 100%|██████████| 14/14 [00:07<00:00,  1.95it/s]\n"
     ]
    },
    {
     "name": "stdout",
     "output_type": "stream",
     "text": [
      "Epoch 78: train_loss=0.0104 | val_acc=0.7373\n"
     ]
    },
    {
     "name": "stderr",
     "output_type": "stream",
     "text": [
      "Epoch 79/100 [train]:   0%|          | 0/250 [00:00<?, ?it/s]/tmp/ipykernel_3794604/1896974608.py:13: FutureWarning: `torch.cuda.amp.autocast(args...)` is deprecated. Please use `torch.amp.autocast('cuda', args...)` instead.\n",
      "  with torch.cuda.amp.autocast(enabled=USE_AMP):\n",
      "Epoch 79/100 [train]: 100%|██████████| 250/250 [01:25<00:00,  2.93it/s, loss=0.0091]\n",
      "Epoch 79/100 [val]:   0%|          | 0/14 [00:00<?, ?it/s]/tmp/ipykernel_3794604/1896974608.py:33: FutureWarning: `torch.cuda.amp.autocast(args...)` is deprecated. Please use `torch.amp.autocast('cuda', args...)` instead.\n",
      "  with torch.cuda.amp.autocast(enabled=USE_AMP):\n",
      "Epoch 79/100 [val]: 100%|██████████| 14/14 [00:08<00:00,  1.73it/s]\n"
     ]
    },
    {
     "name": "stdout",
     "output_type": "stream",
     "text": [
      "Epoch 79: train_loss=0.0090 | val_acc=0.7362\n"
     ]
    },
    {
     "name": "stderr",
     "output_type": "stream",
     "text": [
      "Epoch 80/100 [train]:   0%|          | 0/250 [00:00<?, ?it/s]/tmp/ipykernel_3794604/1896974608.py:13: FutureWarning: `torch.cuda.amp.autocast(args...)` is deprecated. Please use `torch.amp.autocast('cuda', args...)` instead.\n",
      "  with torch.cuda.amp.autocast(enabled=USE_AMP):\n",
      "Epoch 80/100 [train]: 100%|██████████| 250/250 [01:31<00:00,  2.75it/s, loss=0.0093]\n",
      "Epoch 80/100 [val]:   0%|          | 0/14 [00:00<?, ?it/s]/tmp/ipykernel_3794604/1896974608.py:33: FutureWarning: `torch.cuda.amp.autocast(args...)` is deprecated. Please use `torch.amp.autocast('cuda', args...)` instead.\n",
      "  with torch.cuda.amp.autocast(enabled=USE_AMP):\n",
      "Epoch 80/100 [val]: 100%|██████████| 14/14 [00:08<00:00,  1.59it/s]\n"
     ]
    },
    {
     "name": "stdout",
     "output_type": "stream",
     "text": [
      "Epoch 80: train_loss=0.0093 | val_acc=0.7356\n"
     ]
    },
    {
     "name": "stderr",
     "output_type": "stream",
     "text": [
      "Epoch 81/100 [train]:   0%|          | 0/250 [00:00<?, ?it/s]/tmp/ipykernel_3794604/1896974608.py:13: FutureWarning: `torch.cuda.amp.autocast(args...)` is deprecated. Please use `torch.amp.autocast('cuda', args...)` instead.\n",
      "  with torch.cuda.amp.autocast(enabled=USE_AMP):\n",
      "Epoch 81/100 [train]: 100%|██████████| 250/250 [01:33<00:00,  2.67it/s, loss=0.0083]\n",
      "Epoch 81/100 [val]:   0%|          | 0/14 [00:00<?, ?it/s]/tmp/ipykernel_3794604/1896974608.py:33: FutureWarning: `torch.cuda.amp.autocast(args...)` is deprecated. Please use `torch.amp.autocast('cuda', args...)` instead.\n",
      "  with torch.cuda.amp.autocast(enabled=USE_AMP):\n",
      "Epoch 81/100 [val]: 100%|██████████| 14/14 [00:08<00:00,  1.64it/s]\n"
     ]
    },
    {
     "name": "stdout",
     "output_type": "stream",
     "text": [
      "Epoch 81: train_loss=0.0083 | val_acc=0.7379\n"
     ]
    },
    {
     "name": "stderr",
     "output_type": "stream",
     "text": [
      "Epoch 82/100 [train]:   0%|          | 0/250 [00:00<?, ?it/s]/tmp/ipykernel_3794604/1896974608.py:13: FutureWarning: `torch.cuda.amp.autocast(args...)` is deprecated. Please use `torch.amp.autocast('cuda', args...)` instead.\n",
      "  with torch.cuda.amp.autocast(enabled=USE_AMP):\n",
      "Epoch 82/100 [train]: 100%|██████████| 250/250 [01:22<00:00,  3.02it/s, loss=0.0072]\n",
      "Epoch 82/100 [val]:   0%|          | 0/14 [00:00<?, ?it/s]/tmp/ipykernel_3794604/1896974608.py:33: FutureWarning: `torch.cuda.amp.autocast(args...)` is deprecated. Please use `torch.amp.autocast('cuda', args...)` instead.\n",
      "  with torch.cuda.amp.autocast(enabled=USE_AMP):\n",
      "Epoch 82/100 [val]: 100%|██████████| 14/14 [00:07<00:00,  1.96it/s]\n"
     ]
    },
    {
     "name": "stdout",
     "output_type": "stream",
     "text": [
      "Epoch 82: train_loss=0.0072 | val_acc=0.7396\n"
     ]
    },
    {
     "name": "stderr",
     "output_type": "stream",
     "text": [
      "Epoch 83/100 [train]:   0%|          | 0/250 [00:00<?, ?it/s]/tmp/ipykernel_3794604/1896974608.py:13: FutureWarning: `torch.cuda.amp.autocast(args...)` is deprecated. Please use `torch.amp.autocast('cuda', args...)` instead.\n",
      "  with torch.cuda.amp.autocast(enabled=USE_AMP):\n",
      "Epoch 83/100 [train]: 100%|██████████| 250/250 [01:33<00:00,  2.68it/s, loss=0.0079]\n",
      "Epoch 83/100 [val]:   0%|          | 0/14 [00:00<?, ?it/s]/tmp/ipykernel_3794604/1896974608.py:33: FutureWarning: `torch.cuda.amp.autocast(args...)` is deprecated. Please use `torch.amp.autocast('cuda', args...)` instead.\n",
      "  with torch.cuda.amp.autocast(enabled=USE_AMP):\n",
      "Epoch 83/100 [val]: 100%|██████████| 14/14 [00:07<00:00,  1.83it/s]\n"
     ]
    },
    {
     "name": "stdout",
     "output_type": "stream",
     "text": [
      "Epoch 83: train_loss=0.0078 | val_acc=0.7373\n"
     ]
    },
    {
     "name": "stderr",
     "output_type": "stream",
     "text": [
      "Epoch 84/100 [train]:   0%|          | 0/250 [00:00<?, ?it/s]/tmp/ipykernel_3794604/1896974608.py:13: FutureWarning: `torch.cuda.amp.autocast(args...)` is deprecated. Please use `torch.amp.autocast('cuda', args...)` instead.\n",
      "  with torch.cuda.amp.autocast(enabled=USE_AMP):\n",
      "Epoch 84/100 [train]: 100%|██████████| 250/250 [01:27<00:00,  2.85it/s, loss=0.0068]\n",
      "Epoch 84/100 [val]:   0%|          | 0/14 [00:00<?, ?it/s]/tmp/ipykernel_3794604/1896974608.py:33: FutureWarning: `torch.cuda.amp.autocast(args...)` is deprecated. Please use `torch.amp.autocast('cuda', args...)` instead.\n",
      "  with torch.cuda.amp.autocast(enabled=USE_AMP):\n",
      "Epoch 84/100 [val]: 100%|██████████| 14/14 [00:07<00:00,  1.76it/s]\n"
     ]
    },
    {
     "name": "stdout",
     "output_type": "stream",
     "text": [
      "Epoch 84: train_loss=0.0068 | val_acc=0.7362\n"
     ]
    },
    {
     "name": "stderr",
     "output_type": "stream",
     "text": [
      "Epoch 85/100 [train]:   0%|          | 0/250 [00:00<?, ?it/s]/tmp/ipykernel_3794604/1896974608.py:13: FutureWarning: `torch.cuda.amp.autocast(args...)` is deprecated. Please use `torch.amp.autocast('cuda', args...)` instead.\n",
      "  with torch.cuda.amp.autocast(enabled=USE_AMP):\n",
      "Epoch 85/100 [train]: 100%|██████████| 250/250 [01:30<00:00,  2.76it/s, loss=0.0076]\n",
      "Epoch 85/100 [val]:   0%|          | 0/14 [00:00<?, ?it/s]/tmp/ipykernel_3794604/1896974608.py:33: FutureWarning: `torch.cuda.amp.autocast(args...)` is deprecated. Please use `torch.amp.autocast('cuda', args...)` instead.\n",
      "  with torch.cuda.amp.autocast(enabled=USE_AMP):\n",
      "Epoch 85/100 [val]: 100%|██████████| 14/14 [00:07<00:00,  1.81it/s]\n"
     ]
    },
    {
     "name": "stdout",
     "output_type": "stream",
     "text": [
      "Epoch 85: train_loss=0.0075 | val_acc=0.7396\n"
     ]
    },
    {
     "name": "stderr",
     "output_type": "stream",
     "text": [
      "Epoch 86/100 [train]:   0%|          | 0/250 [00:00<?, ?it/s]/tmp/ipykernel_3794604/1896974608.py:13: FutureWarning: `torch.cuda.amp.autocast(args...)` is deprecated. Please use `torch.amp.autocast('cuda', args...)` instead.\n",
      "  with torch.cuda.amp.autocast(enabled=USE_AMP):\n",
      "Epoch 86/100 [train]: 100%|██████████| 250/250 [01:29<00:00,  2.78it/s, loss=0.0071]\n",
      "Epoch 86/100 [val]:   0%|          | 0/14 [00:00<?, ?it/s]/tmp/ipykernel_3794604/1896974608.py:33: FutureWarning: `torch.cuda.amp.autocast(args...)` is deprecated. Please use `torch.amp.autocast('cuda', args...)` instead.\n",
      "  with torch.cuda.amp.autocast(enabled=USE_AMP):\n",
      "Epoch 86/100 [val]: 100%|██████████| 14/14 [00:08<00:00,  1.72it/s]\n"
     ]
    },
    {
     "name": "stdout",
     "output_type": "stream",
     "text": [
      "Epoch 86: train_loss=0.0071 | val_acc=0.7351\n"
     ]
    },
    {
     "name": "stderr",
     "output_type": "stream",
     "text": [
      "Epoch 87/100 [train]:   0%|          | 0/250 [00:00<?, ?it/s]/tmp/ipykernel_3794604/1896974608.py:13: FutureWarning: `torch.cuda.amp.autocast(args...)` is deprecated. Please use `torch.amp.autocast('cuda', args...)` instead.\n",
      "  with torch.cuda.amp.autocast(enabled=USE_AMP):\n",
      "Epoch 87/100 [train]: 100%|██████████| 250/250 [01:38<00:00,  2.55it/s, loss=0.0068]\n",
      "Epoch 87/100 [val]:   0%|          | 0/14 [00:00<?, ?it/s]/tmp/ipykernel_3794604/1896974608.py:33: FutureWarning: `torch.cuda.amp.autocast(args...)` is deprecated. Please use `torch.amp.autocast('cuda', args...)` instead.\n",
      "  with torch.cuda.amp.autocast(enabled=USE_AMP):\n",
      "Epoch 87/100 [val]: 100%|██████████| 14/14 [00:09<00:00,  1.50it/s]\n"
     ]
    },
    {
     "name": "stdout",
     "output_type": "stream",
     "text": [
      "Epoch 87: train_loss=0.0068 | val_acc=0.7339\n"
     ]
    },
    {
     "name": "stderr",
     "output_type": "stream",
     "text": [
      "Epoch 88/100 [train]:   0%|          | 0/250 [00:00<?, ?it/s]/tmp/ipykernel_3794604/1896974608.py:13: FutureWarning: `torch.cuda.amp.autocast(args...)` is deprecated. Please use `torch.amp.autocast('cuda', args...)` instead.\n",
      "  with torch.cuda.amp.autocast(enabled=USE_AMP):\n",
      "Epoch 88/100 [train]: 100%|██████████| 250/250 [01:32<00:00,  2.72it/s, loss=0.0063]\n",
      "Epoch 88/100 [val]:   0%|          | 0/14 [00:00<?, ?it/s]/tmp/ipykernel_3794604/1896974608.py:33: FutureWarning: `torch.cuda.amp.autocast(args...)` is deprecated. Please use `torch.amp.autocast('cuda', args...)` instead.\n",
      "  with torch.cuda.amp.autocast(enabled=USE_AMP):\n",
      "Epoch 88/100 [val]: 100%|██████████| 14/14 [00:07<00:00,  1.82it/s]\n"
     ]
    },
    {
     "name": "stdout",
     "output_type": "stream",
     "text": [
      "Epoch 88: train_loss=0.0063 | val_acc=0.7379\n"
     ]
    },
    {
     "name": "stderr",
     "output_type": "stream",
     "text": [
      "Epoch 89/100 [train]:   0%|          | 0/250 [00:00<?, ?it/s]/tmp/ipykernel_3794604/1896974608.py:13: FutureWarning: `torch.cuda.amp.autocast(args...)` is deprecated. Please use `torch.amp.autocast('cuda', args...)` instead.\n",
      "  with torch.cuda.amp.autocast(enabled=USE_AMP):\n",
      "Epoch 89/100 [train]: 100%|██████████| 250/250 [01:38<00:00,  2.55it/s, loss=0.0067]\n",
      "Epoch 89/100 [val]:   0%|          | 0/14 [00:00<?, ?it/s]/tmp/ipykernel_3794604/1896974608.py:33: FutureWarning: `torch.cuda.amp.autocast(args...)` is deprecated. Please use `torch.amp.autocast('cuda', args...)` instead.\n",
      "  with torch.cuda.amp.autocast(enabled=USE_AMP):\n",
      "Epoch 89/100 [val]: 100%|██████████| 14/14 [00:07<00:00,  1.79it/s]\n"
     ]
    },
    {
     "name": "stdout",
     "output_type": "stream",
     "text": [
      "Epoch 89: train_loss=0.0067 | val_acc=0.7339\n"
     ]
    },
    {
     "name": "stderr",
     "output_type": "stream",
     "text": [
      "Epoch 90/100 [train]:   0%|          | 0/250 [00:00<?, ?it/s]/tmp/ipykernel_3794604/1896974608.py:13: FutureWarning: `torch.cuda.amp.autocast(args...)` is deprecated. Please use `torch.amp.autocast('cuda', args...)` instead.\n",
      "  with torch.cuda.amp.autocast(enabled=USE_AMP):\n",
      "Epoch 90/100 [train]: 100%|██████████| 250/250 [01:28<00:00,  2.83it/s, loss=0.0058]\n",
      "Epoch 90/100 [val]:   0%|          | 0/14 [00:00<?, ?it/s]/tmp/ipykernel_3794604/1896974608.py:33: FutureWarning: `torch.cuda.amp.autocast(args...)` is deprecated. Please use `torch.amp.autocast('cuda', args...)` instead.\n",
      "  with torch.cuda.amp.autocast(enabled=USE_AMP):\n",
      "Epoch 90/100 [val]: 100%|██████████| 14/14 [00:07<00:00,  1.93it/s]\n"
     ]
    },
    {
     "name": "stdout",
     "output_type": "stream",
     "text": [
      "Epoch 90: train_loss=0.0058 | val_acc=0.7379\n"
     ]
    },
    {
     "name": "stderr",
     "output_type": "stream",
     "text": [
      "Epoch 91/100 [train]:   0%|          | 0/250 [00:00<?, ?it/s]/tmp/ipykernel_3794604/1896974608.py:13: FutureWarning: `torch.cuda.amp.autocast(args...)` is deprecated. Please use `torch.amp.autocast('cuda', args...)` instead.\n",
      "  with torch.cuda.amp.autocast(enabled=USE_AMP):\n",
      "Epoch 91/100 [train]: 100%|██████████| 250/250 [01:29<00:00,  2.81it/s, loss=0.0062]\n",
      "Epoch 91/100 [val]:   0%|          | 0/14 [00:00<?, ?it/s]/tmp/ipykernel_3794604/1896974608.py:33: FutureWarning: `torch.cuda.amp.autocast(args...)` is deprecated. Please use `torch.amp.autocast('cuda', args...)` instead.\n",
      "  with torch.cuda.amp.autocast(enabled=USE_AMP):\n",
      "Epoch 91/100 [val]: 100%|██████████| 14/14 [00:08<00:00,  1.65it/s]\n"
     ]
    },
    {
     "name": "stdout",
     "output_type": "stream",
     "text": [
      "Epoch 91: train_loss=0.0062 | val_acc=0.7373\n"
     ]
    },
    {
     "name": "stderr",
     "output_type": "stream",
     "text": [
      "Epoch 92/100 [train]:   0%|          | 0/250 [00:00<?, ?it/s]/tmp/ipykernel_3794604/1896974608.py:13: FutureWarning: `torch.cuda.amp.autocast(args...)` is deprecated. Please use `torch.amp.autocast('cuda', args...)` instead.\n",
      "  with torch.cuda.amp.autocast(enabled=USE_AMP):\n",
      "Epoch 92/100 [train]: 100%|██████████| 250/250 [01:28<00:00,  2.81it/s, loss=0.0056]\n",
      "Epoch 92/100 [val]:   0%|          | 0/14 [00:00<?, ?it/s]/tmp/ipykernel_3794604/1896974608.py:33: FutureWarning: `torch.cuda.amp.autocast(args...)` is deprecated. Please use `torch.amp.autocast('cuda', args...)` instead.\n",
      "  with torch.cuda.amp.autocast(enabled=USE_AMP):\n",
      "Epoch 92/100 [val]: 100%|██████████| 14/14 [00:07<00:00,  1.79it/s]\n"
     ]
    },
    {
     "name": "stdout",
     "output_type": "stream",
     "text": [
      "Epoch 92: train_loss=0.0056 | val_acc=0.7334\n"
     ]
    },
    {
     "name": "stderr",
     "output_type": "stream",
     "text": [
      "Epoch 93/100 [train]:   0%|          | 0/250 [00:00<?, ?it/s]/tmp/ipykernel_3794604/1896974608.py:13: FutureWarning: `torch.cuda.amp.autocast(args...)` is deprecated. Please use `torch.amp.autocast('cuda', args...)` instead.\n",
      "  with torch.cuda.amp.autocast(enabled=USE_AMP):\n",
      "Epoch 93/100 [train]: 100%|██████████| 250/250 [01:25<00:00,  2.92it/s, loss=0.0052]\n",
      "Epoch 93/100 [val]:   0%|          | 0/14 [00:00<?, ?it/s]/tmp/ipykernel_3794604/1896974608.py:33: FutureWarning: `torch.cuda.amp.autocast(args...)` is deprecated. Please use `torch.amp.autocast('cuda', args...)` instead.\n",
      "  with torch.cuda.amp.autocast(enabled=USE_AMP):\n",
      "Epoch 93/100 [val]: 100%|██████████| 14/14 [00:07<00:00,  1.78it/s]\n"
     ]
    },
    {
     "name": "stdout",
     "output_type": "stream",
     "text": [
      "Epoch 93: train_loss=0.0052 | val_acc=0.7339\n"
     ]
    },
    {
     "name": "stderr",
     "output_type": "stream",
     "text": [
      "Epoch 94/100 [train]:   0%|          | 0/250 [00:00<?, ?it/s]/tmp/ipykernel_3794604/1896974608.py:13: FutureWarning: `torch.cuda.amp.autocast(args...)` is deprecated. Please use `torch.amp.autocast('cuda', args...)` instead.\n",
      "  with torch.cuda.amp.autocast(enabled=USE_AMP):\n",
      "Epoch 94/100 [train]: 100%|██████████| 250/250 [01:29<00:00,  2.78it/s, loss=0.0051]\n",
      "Epoch 94/100 [val]:   0%|          | 0/14 [00:00<?, ?it/s]/tmp/ipykernel_3794604/1896974608.py:33: FutureWarning: `torch.cuda.amp.autocast(args...)` is deprecated. Please use `torch.amp.autocast('cuda', args...)` instead.\n",
      "  with torch.cuda.amp.autocast(enabled=USE_AMP):\n",
      "Epoch 94/100 [val]: 100%|██████████| 14/14 [00:07<00:00,  1.82it/s]\n"
     ]
    },
    {
     "name": "stdout",
     "output_type": "stream",
     "text": [
      "Epoch 94: train_loss=0.0051 | val_acc=0.7356\n"
     ]
    },
    {
     "name": "stderr",
     "output_type": "stream",
     "text": [
      "Epoch 95/100 [train]:   0%|          | 0/250 [00:00<?, ?it/s]/tmp/ipykernel_3794604/1896974608.py:13: FutureWarning: `torch.cuda.amp.autocast(args...)` is deprecated. Please use `torch.amp.autocast('cuda', args...)` instead.\n",
      "  with torch.cuda.amp.autocast(enabled=USE_AMP):\n",
      "Epoch 95/100 [train]: 100%|██████████| 250/250 [01:29<00:00,  2.80it/s, loss=0.0056]\n",
      "Epoch 95/100 [val]:   0%|          | 0/14 [00:00<?, ?it/s]/tmp/ipykernel_3794604/1896974608.py:33: FutureWarning: `torch.cuda.amp.autocast(args...)` is deprecated. Please use `torch.amp.autocast('cuda', args...)` instead.\n",
      "  with torch.cuda.amp.autocast(enabled=USE_AMP):\n",
      "Epoch 95/100 [val]: 100%|██████████| 14/14 [00:09<00:00,  1.40it/s]\n"
     ]
    },
    {
     "name": "stdout",
     "output_type": "stream",
     "text": [
      "Epoch 95: train_loss=0.0056 | val_acc=0.7356\n"
     ]
    },
    {
     "name": "stderr",
     "output_type": "stream",
     "text": [
      "Epoch 96/100 [train]:   0%|          | 0/250 [00:00<?, ?it/s]/tmp/ipykernel_3794604/1896974608.py:13: FutureWarning: `torch.cuda.amp.autocast(args...)` is deprecated. Please use `torch.amp.autocast('cuda', args...)` instead.\n",
      "  with torch.cuda.amp.autocast(enabled=USE_AMP):\n",
      "Epoch 96/100 [train]: 100%|██████████| 250/250 [01:31<00:00,  2.74it/s, loss=0.0050]\n",
      "Epoch 96/100 [val]:   0%|          | 0/14 [00:00<?, ?it/s]/tmp/ipykernel_3794604/1896974608.py:33: FutureWarning: `torch.cuda.amp.autocast(args...)` is deprecated. Please use `torch.amp.autocast('cuda', args...)` instead.\n",
      "  with torch.cuda.amp.autocast(enabled=USE_AMP):\n",
      "Epoch 96/100 [val]: 100%|██████████| 14/14 [00:07<00:00,  1.78it/s]\n"
     ]
    },
    {
     "name": "stdout",
     "output_type": "stream",
     "text": [
      "Epoch 96: train_loss=0.0050 | val_acc=0.7351\n"
     ]
    },
    {
     "name": "stderr",
     "output_type": "stream",
     "text": [
      "Epoch 97/100 [train]:   0%|          | 0/250 [00:00<?, ?it/s]/tmp/ipykernel_3794604/1896974608.py:13: FutureWarning: `torch.cuda.amp.autocast(args...)` is deprecated. Please use `torch.amp.autocast('cuda', args...)` instead.\n",
      "  with torch.cuda.amp.autocast(enabled=USE_AMP):\n",
      "Epoch 97/100 [train]: 100%|██████████| 250/250 [01:35<00:00,  2.61it/s, loss=0.0048]\n",
      "Epoch 97/100 [val]:   0%|          | 0/14 [00:00<?, ?it/s]/tmp/ipykernel_3794604/1896974608.py:33: FutureWarning: `torch.cuda.amp.autocast(args...)` is deprecated. Please use `torch.amp.autocast('cuda', args...)` instead.\n",
      "  with torch.cuda.amp.autocast(enabled=USE_AMP):\n",
      "Epoch 97/100 [val]: 100%|██████████| 14/14 [00:08<00:00,  1.67it/s]\n"
     ]
    },
    {
     "name": "stdout",
     "output_type": "stream",
     "text": [
      "Epoch 97: train_loss=0.0048 | val_acc=0.7362\n"
     ]
    },
    {
     "name": "stderr",
     "output_type": "stream",
     "text": [
      "Epoch 98/100 [train]:   0%|          | 0/250 [00:00<?, ?it/s]/tmp/ipykernel_3794604/1896974608.py:13: FutureWarning: `torch.cuda.amp.autocast(args...)` is deprecated. Please use `torch.amp.autocast('cuda', args...)` instead.\n",
      "  with torch.cuda.amp.autocast(enabled=USE_AMP):\n",
      "Epoch 98/100 [train]: 100%|██████████| 250/250 [01:30<00:00,  2.75it/s, loss=0.0048]\n",
      "Epoch 98/100 [val]:   0%|          | 0/14 [00:00<?, ?it/s]/tmp/ipykernel_3794604/1896974608.py:33: FutureWarning: `torch.cuda.amp.autocast(args...)` is deprecated. Please use `torch.amp.autocast('cuda', args...)` instead.\n",
      "  with torch.cuda.amp.autocast(enabled=USE_AMP):\n",
      "Epoch 98/100 [val]: 100%|██████████| 14/14 [00:08<00:00,  1.57it/s]\n"
     ]
    },
    {
     "name": "stdout",
     "output_type": "stream",
     "text": [
      "Epoch 98: train_loss=0.0048 | val_acc=0.7351\n"
     ]
    },
    {
     "name": "stderr",
     "output_type": "stream",
     "text": [
      "Epoch 99/100 [train]:   0%|          | 0/250 [00:00<?, ?it/s]/tmp/ipykernel_3794604/1896974608.py:13: FutureWarning: `torch.cuda.amp.autocast(args...)` is deprecated. Please use `torch.amp.autocast('cuda', args...)` instead.\n",
      "  with torch.cuda.amp.autocast(enabled=USE_AMP):\n",
      "Epoch 99/100 [train]: 100%|██████████| 250/250 [01:34<00:00,  2.63it/s, loss=0.0046]\n",
      "Epoch 99/100 [val]:   0%|          | 0/14 [00:00<?, ?it/s]/tmp/ipykernel_3794604/1896974608.py:33: FutureWarning: `torch.cuda.amp.autocast(args...)` is deprecated. Please use `torch.amp.autocast('cuda', args...)` instead.\n",
      "  with torch.cuda.amp.autocast(enabled=USE_AMP):\n",
      "Epoch 99/100 [val]: 100%|██████████| 14/14 [00:06<00:00,  2.01it/s]\n"
     ]
    },
    {
     "name": "stdout",
     "output_type": "stream",
     "text": [
      "Epoch 99: train_loss=0.0046 | val_acc=0.7356\n"
     ]
    },
    {
     "name": "stderr",
     "output_type": "stream",
     "text": [
      "Epoch 100/100 [train]:   0%|          | 0/250 [00:00<?, ?it/s]/tmp/ipykernel_3794604/1896974608.py:13: FutureWarning: `torch.cuda.amp.autocast(args...)` is deprecated. Please use `torch.amp.autocast('cuda', args...)` instead.\n",
      "  with torch.cuda.amp.autocast(enabled=USE_AMP):\n",
      "Epoch 100/100 [train]: 100%|██████████| 250/250 [01:22<00:00,  3.04it/s, loss=0.0045]\n",
      "Epoch 100/100 [val]:   0%|          | 0/14 [00:00<?, ?it/s]/tmp/ipykernel_3794604/1896974608.py:33: FutureWarning: `torch.cuda.amp.autocast(args...)` is deprecated. Please use `torch.amp.autocast('cuda', args...)` instead.\n",
      "  with torch.cuda.amp.autocast(enabled=USE_AMP):\n",
      "Epoch 100/100 [val]: 100%|██████████| 14/14 [00:07<00:00,  1.96it/s]"
     ]
    },
    {
     "name": "stdout",
     "output_type": "stream",
     "text": [
      "Epoch 100: train_loss=0.0045 | val_acc=0.7356\n"
     ]
    },
    {
     "name": "stderr",
     "output_type": "stream",
     "text": [
      "\n"
     ]
    }
   ],
   "source": [
    "train_losses = []\n",
    "val_accs = []\n",
    "\n",
    "for epoch in range(EPOCHS):\n",
    "    model.train()\n",
    "    pbar = tqdm(train_loader, desc=f'Epoch {epoch+1}/{EPOCHS} [train]')\n",
    "    running = 0.0\n",
    "    for batch in pbar:\n",
    "        xb = batch['pixel_values'].to(DEVICE)\n",
    "        yb = batch['label'].to(DEVICE)\n",
    "\n",
    "        opt.zero_grad()\n",
    "        with torch.cuda.amp.autocast(enabled=USE_AMP):\n",
    "            logits = model(xb)\n",
    "            loss = loss_fn(logits, yb)\n",
    "\n",
    "        scaler.scale(loss).backward()\n",
    "        scaler.step(opt)\n",
    "        scaler.update()\n",
    "\n",
    "        running += loss.item()\n",
    "        pbar.set_postfix({'loss': f'{running/((pbar.n or 1)):.4f}'})\n",
    "\n",
    "    train_loss = running / max(1, len(train_loader))\n",
    "    train_losses.append(train_loss)\n",
    "\n",
    "    model.eval()\n",
    "    y_true, y_pred = [], []\n",
    "    with torch.no_grad():\n",
    "        for batch in tqdm(val_loader, desc=f'Epoch {epoch+1}/{EPOCHS} [val]'):\n",
    "            xb = batch['pixel_values'].to(DEVICE)\n",
    "            yb = batch['label']\n",
    "            with torch.cuda.amp.autocast(enabled=USE_AMP):\n",
    "                logits = model(xb)\n",
    "            pr = logits.argmax(1).cpu()\n",
    "            y_true += yb.numpy().tolist()\n",
    "            y_pred += pr.numpy().tolist()\n",
    "\n",
    "    from sklearn.metrics import accuracy_score\n",
    "    acc = accuracy_score(y_true, y_pred)\n",
    "    val_accs.append(acc)\n",
    "    print(f'Epoch {epoch+1}: train_loss={train_loss:.4f} | val_acc={acc:.4f}')\n",
    "\n",
    "    if acc > best_acc:\n",
    "        best_acc = acc\n",
    "        torch.save({'model_state': model.state_dict(), 'acc': best_acc, 'epoch': epoch+1}, best_path)\n",
    "        print(f'Saved new best checkpoint: val_acc={best_acc:.4f} -> {best_path}')\n",
    "\n",
    "    sched.step()\n"
   ]
  },
  {
   "cell_type": "markdown",
   "id": "a6f88818",
   "metadata": {},
   "source": [
    "## 7) Curves: training loss & validation accuracy"
   ]
  },
  {
   "cell_type": "code",
   "execution_count": 51,
   "id": "d8ed49c6",
   "metadata": {},
   "outputs": [
    {
     "data": {
      "image/png": "[encoded data removed]",
      "text/plain": [
       "<Figure size 1000x400 with 2 Axes>"
      ]
     },
     "metadata": {},
     "output_type": "display_data"
    }
   ],
   "source": [
    "plt.figure(figsize=(10,4))\n",
    "plt.subplot(1,2,1)\n",
    "plt.plot(train_losses, label='train loss')\n",
    "plt.xlabel('epoch'); plt.ylabel('loss'); plt.title('Training loss'); plt.legend()\n",
    "plt.subplot(1,2,2)\n",
    "plt.plot(val_accs, label='val acc')\n",
    "plt.xlabel('epoch'); plt.ylabel('accuracy'); plt.title('Validation accuracy'); plt.legend()\n",
    "plt.tight_layout(); plt.show()\n"
   ]
  },
  {
   "cell_type": "markdown",
   "id": "a7fd9c05",
   "metadata": {},
   "source": [
    "## 8) Reload best checkpoint and evaluate on validation"
   ]
  },
  {
   "cell_type": "code",
   "execution_count": 52,
   "id": "6ffb21d8",
   "metadata": {},
   "outputs": [
    {
     "name": "stdout",
     "output_type": "stream",
     "text": [
      "Loaded best checkpoint from epoch 55, val_acc=0.7413\n"
     ]
    },
    {
     "name": "stderr",
     "output_type": "stream",
     "text": [
      "Eval best [val]:   0%|          | 0/14 [00:00<?, ?it/s]/tmp/ipykernel_3794604/2812230969.py:12: FutureWarning: `torch.cuda.amp.autocast(args...)` is deprecated. Please use `torch.amp.autocast('cuda', args...)` instead.\n",
      "  with torch.cuda.amp.autocast(enabled=USE_AMP):\n",
      "Eval best [val]: 100%|██████████| 14/14 [00:07<00:00,  1.96it/s]"
     ]
    },
    {
     "name": "stdout",
     "output_type": "stream",
     "text": [
      "              precision    recall  f1-score   support\n",
      "\n",
      "           0       0.44      0.36      0.40       108\n",
      "           1       0.81      0.76      0.78       185\n",
      "           2       0.90      0.91      0.90       265\n",
      "           3       0.85      0.89      0.87       203\n",
      "           4       0.77      0.59      0.67        34\n",
      "           5       0.71      0.70      0.70       204\n",
      "           6       0.61      0.66      0.63       183\n",
      "           7       0.58      0.57      0.57       263\n",
      "           8       0.83      0.87      0.85       142\n",
      "           9       0.80      0.84      0.82       187\n",
      "\n",
      "    accuracy                           0.74      1774\n",
      "   macro avg       0.73      0.71      0.72      1774\n",
      "weighted avg       0.74      0.74      0.74      1774\n",
      "\n"
     ]
    },
    {
     "name": "stderr",
     "output_type": "stream",
     "text": [
      "\n"
     ]
    }
   ],
   "source": [
    "if best_path.exists():\n",
    "    ckpt = torch.load(best_path, map_location=DEVICE)\n",
    "    model.load_state_dict(ckpt['model_state'])\n",
    "    print(f'Loaded best checkpoint from epoch {ckpt.get(\"epoch\")}, val_acc={ckpt.get(\"acc\"):.4f}')\n",
    "\n",
    "model.eval()\n",
    "y_true, y_pred = [], []\n",
    "with torch.no_grad():\n",
    "    for batch in tqdm(val_loader, desc='Eval best [val]'):\n",
    "        xb = batch['pixel_values'].to(DEVICE)\n",
    "        yb = batch['label']\n",
    "        with torch.cuda.amp.autocast(enabled=USE_AMP):\n",
    "            logits = model(xb)\n",
    "        pr = logits.argmax(1).cpu()\n",
    "        y_true += yb.numpy().tolist()\n",
    "        y_pred += pr.numpy().tolist()\n",
    "\n",
    "from sklearn.metrics import classification_report\n",
    "print(classification_report(y_true, y_pred))\n"
   ]
  },
  {
   "cell_type": "markdown",
   "id": "38f617aa",
   "metadata": {},
   "source": [
    "## 9) Confusion matrix"
   ]
  },
  {
   "cell_type": "code",
   "execution_count": 53,
   "id": "9a2ae200",
   "metadata": {},
   "outputs": [
    {
     "data": {
      "image/png": "[encoded data removed]",
      "text/plain": [
       "<Figure size 600x600 with 2 Axes>"
      ]
     },
     "metadata": {},
     "output_type": "display_data"
    }
   ],
   "source": [
    "from sklearn.metrics import confusion_matrix\n",
    "import numpy as np, matplotlib.pyplot as plt\n",
    "cm = confusion_matrix(y_true, y_pred)\n",
    "fig, ax = plt.subplots(figsize=(6,6))\n",
    "im = ax.imshow(cm, interpolation='nearest')\n",
    "ax.figure.colorbar(im, ax=ax)\n",
    "ax.set(xticks=np.arange(cm.shape[1]), yticks=np.arange(cm.shape[0]),\n",
    "       xlabel='Predicted', ylabel='True', title='Confusion Matrix')\n",
    "plt.setp(ax.get_xticklabels(), rotation=45, ha='right', rotation_mode='anchor')\n",
    "thresh = cm.max() / 2.\n",
    "for i in range(cm.shape[0]):\n",
    "    for j in range(cm.shape[1]):\n",
    "        ax.text(j, i, format(cm[i, j], 'd'), ha='center', va='center',\n",
    "                color='white' if cm[i, j] > thresh else 'black')\n",
    "fig.tight_layout(); plt.show()\n"
   ]
  }
 ],
 "metadata": {
  "kernelspec": {
   "display_name": "ml",
   "language": "python",
   "name": "python3"
  },
  "language_info": {
   "codemirror_mode": {
    "name": "ipython",
    "version": 3
   },
   "file_extension": ".py",
   "mimetype": "text/x-python",
   "name": "python",
   "nbconvert_exporter": "python",
   "pygments_lexer": "ipython3",
   "version": "3.12.0"
  }
 },
 "nbformat": 4,
 "nbformat_minor": 5
}
