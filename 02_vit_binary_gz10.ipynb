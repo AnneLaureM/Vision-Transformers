{
 "cells": [
  {
   "cell_type": "markdown",
   "id": "13e8b70b",
   "metadata": {},
   "source": [
    "# ViT — Binary Classification on GZ10 (Enhanced)\n",
    "\n",
    "This notebook converts the 10-way GZ10 task into **binary classification** by grouping some class IDs as **positive**.\n",
    "It includes:\n",
    "- Demo vs Full training toggle\n",
    "- Progress bars (tqdm)\n",
    "- Confusion matrix + training curves\n",
    "- Best checkpoint save & reload\n",
    "- Mixed precision (AMP) when CUDA is available\n",
    "- Robust validation split (stratified on binary label)\n",
    "- Batch-aware transforms for Hugging Face Datasets\n"
   ]
  },
  {
   "cell_type": "markdown",
   "id": "82047a41",
   "metadata": {},
   "source": [
    "## 0) Install dependencies"
   ]
  },
  {
   "cell_type": "code",
   "execution_count": 21,
   "id": "95e42e82",
   "metadata": {},
   "outputs": [],
   "source": [
    "# %pip install -U datasets timm torch torchvision transformers accelerate scikit-learn tqdm matplotlib numpy --quiet"
   ]
  },
  {
   "cell_type": "markdown",
   "id": "8093fadd",
   "metadata": {},
   "source": [
    "## 1) Imports & configuration"
   ]
  },
  {
   "cell_type": "code",
   "execution_count": 22,
   "id": "0afec7d4",
   "metadata": {},
   "outputs": [
    {
     "name": "stdout",
     "output_type": "stream",
     "text": [
      "Device: cuda | AMP: True | Epochs: 100\n"
     ]
    }
   ],
   "source": [
    "import os, math, json, time, numpy as np\n",
    "import torch\n",
    "from torch import nn\n",
    "from torch.utils.data import DataLoader\n",
    "from torchvision import transforms\n",
    "import timm\n",
    "from datasets import load_dataset, DatasetDict\n",
    "from sklearn.model_selection import StratifiedShuffleSplit\n",
    "from sklearn.metrics import accuracy_score, confusion_matrix, classification_report, roc_auc_score\n",
    "import matplotlib.pyplot as plt\n",
    "from tqdm.auto import tqdm\n",
    "from pathlib import Path\n",
    "\n",
    "SEED = 42\n",
    "torch.manual_seed(SEED); np.random.seed(SEED)\n",
    "if torch.cuda.is_available():\n",
    "    torch.cuda.manual_seed_all(SEED)\n",
    "\n",
    "# ===== Toggle: Demo vs Full training =====\n",
    "DEMO = False   # <<<< set to False for full training\n",
    "EPOCHS = 3 if DEMO else 100\n",
    "BATCH_TRAIN = 32 if DEMO else 64\n",
    "BATCH_VAL = 64 if DEMO else 128\n",
    "\n",
    "# AMP mixed precision\n",
    "USE_AMP = torch.cuda.is_available()\n",
    "\n",
    "DEVICE = 'cuda' if torch.cuda.is_available() else 'cpu'\n",
    "print('Device:', DEVICE, '| AMP:', USE_AMP, '| Epochs:', EPOCHS)\n"
   ]
  },
  {
   "cell_type": "markdown",
   "id": "ac8fcf9c",
   "metadata": {},
   "source": [
    "## 2) Load GZ10"
   ]
  },
  {
   "cell_type": "code",
   "execution_count": 23,
   "id": "e89f7cff",
   "metadata": {},
   "outputs": [
    {
     "name": "stdout",
     "output_type": "stream",
     "text": [
      "DatasetDict({\n",
      "    train: Dataset({\n",
      "        features: ['gz10_label', 'redshift', 'object_id', 'rgb_image', 'rgb_pixel_scale'],\n",
      "        num_rows: 17736\n",
      "    })\n",
      "})\n",
      "{'gz10_label': Value(dtype='int32', id=None), 'redshift': Value(dtype='float32', id=None), 'object_id': Value(dtype='string', id=None), 'rgb_image': Image(mode=None, decode=True, id=None), 'rgb_pixel_scale': Value(dtype='float32', id=None)}\n"
     ]
    }
   ],
   "source": [
    "ds = load_dataset('MultimodalUniverse/gz10')\n",
    "print(ds)\n",
    "print(ds['train'].features)\n"
   ]
  },
  {
   "cell_type": "markdown",
   "id": "3537f0cb",
   "metadata": {},
   "source": [
    "## 3) Define your binary mapping\n",
    "Set the set `POSITIVES` to the class IDs you want to count as **positive (label=1)**.\n",
    "The rest will be **negative (label=0)**.\n",
    "Tip: print class counts after mapping to check balance."
   ]
  },
  {
   "cell_type": "code",
   "execution_count": 24,
   "id": "16c2317c",
   "metadata": {},
   "outputs": [
    {
     "name": "stdout",
     "output_type": "stream",
     "text": [
      "Train distribution (label -> count): {np.int64(0): np.int64(12157), np.int64(1): np.int64(5579)}\n"
     ]
    }
   ],
   "source": [
    "# >>> Edit this to your target morphology <<<\n",
    "POSITIVES = {0, 1, 2}  # placeholder; replace with the correct class IDs\n",
    "\n",
    "def to_binary_label(y):\n",
    "    return 1 if int(y) in POSITIVES else 0\n",
    "\n",
    "def map_binary(example):\n",
    "    example['label'] = to_binary_label(example['gz10_label'])\n",
    "    return example\n",
    "\n",
    "for sp in list(ds.keys()):\n",
    "    ds[sp] = ds[sp].map(map_binary)\n",
    "\n",
    "# Show class balance on train split\n",
    "vals, counts = np.unique(ds['train']['label'], return_counts=True)\n",
    "print('Train distribution (label -> count):', dict(zip(vals, counts)))\n"
   ]
  },
  {
   "cell_type": "markdown",
   "id": "8a5398ff",
   "metadata": {},
   "source": [
    "## 4) Create a validation split if missing (stratified on the **binary** label)"
   ]
  },
  {
   "cell_type": "code",
   "execution_count": 25,
   "id": "8ae70840",
   "metadata": {},
   "outputs": [
    {
     "name": "stdout",
     "output_type": "stream",
     "text": [
      "DatasetDict({\n",
      "    train: Dataset({\n",
      "        features: ['gz10_label', 'redshift', 'object_id', 'rgb_image', 'rgb_pixel_scale', 'label'],\n",
      "        num_rows: 15962\n",
      "    })\n",
      "    validation: Dataset({\n",
      "        features: ['gz10_label', 'redshift', 'object_id', 'rgb_image', 'rgb_pixel_scale', 'label'],\n",
      "        num_rows: 1774\n",
      "    })\n",
      "})\n"
     ]
    }
   ],
   "source": [
    "if 'validation' not in ds:\n",
    "    labels = np.array(ds['train']['label'])\n",
    "    sss = StratifiedShuffleSplit(n_splits=1, test_size=0.10, random_state=SEED)\n",
    "    (train_idx, val_idx), = sss.split(np.zeros(len(labels)), labels)\n",
    "    ds = DatasetDict({\n",
    "        'train': ds['train'].select(train_idx.tolist()),\n",
    "        'validation': ds['train'].select(val_idx.tolist()),\n",
    "        **({'test': ds['test']} if 'test' in ds else {})\n",
    "    })\n",
    "print(ds)\n"
   ]
  },
  {
   "cell_type": "markdown",
   "id": "61edd192",
   "metadata": {},
   "source": [
    "## 5) Transforms and dataset wrappers (batch-aware)"
   ]
  },
  {
   "cell_type": "code",
   "execution_count": 26,
   "id": "2ea0096c",
   "metadata": {},
   "outputs": [],
   "source": [
    "IMG_SIZE = 224\n",
    "train_tf = transforms.Compose([\n",
    "    transforms.Resize((IMG_SIZE, IMG_SIZE)),\n",
    "    transforms.RandomHorizontalFlip(),\n",
    "    transforms.ToTensor()\n",
    "])\n",
    "val_tf = transforms.Compose([\n",
    "    transforms.Resize((IMG_SIZE, IMG_SIZE)),\n",
    "    transforms.ToTensor()\n",
    "])\n",
    "\n",
    "def make_transform(split):\n",
    "    tfm = train_tf if split == 'train' else val_tf\n",
    "    def _apply(batch):\n",
    "        imgs = [tfm(img) for img in batch['rgb_image']]\n",
    "        labels = [int(y) for y in batch['label']]\n",
    "        return {'pixel_values': imgs, 'label': labels}\n",
    "    return _apply\n",
    "\n",
    "for sp in ['train', 'validation', 'test']:\n",
    "    if sp in ds:\n",
    "        ds[sp] = ds[sp].with_transform(make_transform(sp))\n"
   ]
  },
  {
   "cell_type": "markdown",
   "id": "b220d955",
   "metadata": {},
   "source": [
    "## 6) DataLoaders"
   ]
  },
  {
   "cell_type": "code",
   "execution_count": 27,
   "id": "bb10aabf",
   "metadata": {},
   "outputs": [
    {
     "name": "stdout",
     "output_type": "stream",
     "text": [
      "Batches | train: 250 val: 14\n"
     ]
    }
   ],
   "source": [
    "train_loader = DataLoader(ds['train'], batch_size=BATCH_TRAIN, shuffle=True)\n",
    "val_loader = DataLoader(ds['validation'], batch_size=BATCH_VAL, shuffle=False)\n",
    "print('Batches | train:', len(train_loader), 'val:', len(val_loader))\n"
   ]
  },
  {
   "cell_type": "markdown",
   "id": "c8ee9288",
   "metadata": {},
   "source": [
    "## 7) Model, optimizer, scheduler, and AMP scaler"
   ]
  },
  {
   "cell_type": "code",
   "execution_count": 28,
   "id": "8a93668d",
   "metadata": {},
   "outputs": [
    {
     "name": "stderr",
     "output_type": "stream",
     "text": [
      "/tmp/ipykernel_3879844/1345948587.py:9: FutureWarning: `torch.cuda.amp.GradScaler(args...)` is deprecated. Please use `torch.amp.GradScaler('cuda', args...)` instead.\n",
      "  scaler = torch.cuda.amp.GradScaler(enabled=USE_AMP)\n"
     ]
    }
   ],
   "source": [
    "NUM_CLASSES = 2\n",
    "model_name = 'vit_base_patch16_224'\n",
    "model = timm.create_model(model_name, pretrained=True, num_classes=NUM_CLASSES)\n",
    "model.to(DEVICE)\n",
    "\n",
    "opt = torch.optim.AdamW(model.parameters(), lr=5e-4, weight_decay=0.05)\n",
    "sched = torch.optim.lr_scheduler.CosineAnnealingLR(opt, T_max=EPOCHS)\n",
    "loss_fn = nn.CrossEntropyLoss()\n",
    "scaler = torch.cuda.amp.GradScaler(enabled=USE_AMP)\n",
    "\n",
    "ckpt_dir = Path('checkpoints'); ckpt_dir.mkdir(exist_ok=True)\n",
    "best_path = ckpt_dir / 'best_vit_gz10_binary.pth'\n",
    "best_acc = -1.0\n"
   ]
  },
  {
   "cell_type": "markdown",
   "id": "f8910971",
   "metadata": {},
   "source": [
    "## 8) Training & validation loops with progress bars"
   ]
  },
  {
   "cell_type": "code",
   "execution_count": 29,
   "id": "d973b6d6",
   "metadata": {},
   "outputs": [
    {
     "name": "stderr",
     "output_type": "stream",
     "text": [
      "Epoch 1/100 [train]:   0%|          | 0/250 [00:00<?, ?it/s]/tmp/ipykernel_3879844/1907506674.py:14: FutureWarning: `torch.cuda.amp.autocast(args...)` is deprecated. Please use `torch.amp.autocast('cuda', args...)` instead.\n",
      "  with torch.cuda.amp.autocast(enabled=USE_AMP):\n",
      "Epoch 1/100 [train]: 100%|██████████| 250/250 [01:27<00:00,  2.86it/s, loss=0.8703]\n",
      "Epoch 1/100 [val]:   0%|          | 0/14 [00:00<?, ?it/s]/tmp/ipykernel_3879844/1907506674.py:35: FutureWarning: `torch.cuda.amp.autocast(args...)` is deprecated. Please use `torch.amp.autocast('cuda', args...)` instead.\n",
      "  with torch.cuda.amp.autocast(enabled=USE_AMP):\n",
      "Epoch 1/100 [val]: 100%|██████████| 14/14 [00:08<00:00,  1.58it/s]\n"
     ]
    },
    {
     "name": "stdout",
     "output_type": "stream",
     "text": [
      "Epoch 1: train_loss=0.8668 | val_acc=0.6855 | val_auc=0.6209\n",
      "✅ Saved new best checkpoint: val_acc=0.6855 -> checkpoints/best_vit_gz10_binary.pth\n"
     ]
    },
    {
     "name": "stderr",
     "output_type": "stream",
     "text": [
      "Epoch 2/100 [train]:   0%|          | 0/250 [00:00<?, ?it/s]/tmp/ipykernel_3879844/1907506674.py:14: FutureWarning: `torch.cuda.amp.autocast(args...)` is deprecated. Please use `torch.amp.autocast('cuda', args...)` instead.\n",
      "  with torch.cuda.amp.autocast(enabled=USE_AMP):\n",
      "Epoch 2/100 [train]: 100%|██████████| 250/250 [01:31<00:00,  2.73it/s, loss=0.6195]\n",
      "Epoch 2/100 [val]:   0%|          | 0/14 [00:00<?, ?it/s]/tmp/ipykernel_3879844/1907506674.py:35: FutureWarning: `torch.cuda.amp.autocast(args...)` is deprecated. Please use `torch.amp.autocast('cuda', args...)` instead.\n",
      "  with torch.cuda.amp.autocast(enabled=USE_AMP):\n",
      "Epoch 2/100 [val]: 100%|██████████| 14/14 [00:07<00:00,  1.76it/s]\n"
     ]
    },
    {
     "name": "stdout",
     "output_type": "stream",
     "text": [
      "Epoch 2: train_loss=0.6170 | val_acc=0.6855 | val_auc=0.7148\n"
     ]
    },
    {
     "name": "stderr",
     "output_type": "stream",
     "text": [
      "Epoch 3/100 [train]:   0%|          | 0/250 [00:00<?, ?it/s]/tmp/ipykernel_3879844/1907506674.py:14: FutureWarning: `torch.cuda.amp.autocast(args...)` is deprecated. Please use `torch.amp.autocast('cuda', args...)` instead.\n",
      "  with torch.cuda.amp.autocast(enabled=USE_AMP):\n",
      "Epoch 3/100 [train]: 100%|██████████| 250/250 [01:29<00:00,  2.80it/s, loss=0.5692]\n",
      "Epoch 3/100 [val]:   0%|          | 0/14 [00:00<?, ?it/s]/tmp/ipykernel_3879844/1907506674.py:35: FutureWarning: `torch.cuda.amp.autocast(args...)` is deprecated. Please use `torch.amp.autocast('cuda', args...)` instead.\n",
      "  with torch.cuda.amp.autocast(enabled=USE_AMP):\n",
      "Epoch 3/100 [val]: 100%|██████████| 14/14 [00:08<00:00,  1.58it/s]\n"
     ]
    },
    {
     "name": "stdout",
     "output_type": "stream",
     "text": [
      "Epoch 3: train_loss=0.5669 | val_acc=0.7435 | val_auc=0.7429\n",
      "✅ Saved new best checkpoint: val_acc=0.7435 -> checkpoints/best_vit_gz10_binary.pth\n"
     ]
    },
    {
     "name": "stderr",
     "output_type": "stream",
     "text": [
      "Epoch 4/100 [train]:   0%|          | 0/250 [00:00<?, ?it/s]/tmp/ipykernel_3879844/1907506674.py:14: FutureWarning: `torch.cuda.amp.autocast(args...)` is deprecated. Please use `torch.amp.autocast('cuda', args...)` instead.\n",
      "  with torch.cuda.amp.autocast(enabled=USE_AMP):\n",
      "Epoch 4/100 [train]: 100%|██████████| 250/250 [01:36<00:00,  2.59it/s, loss=0.5350]\n",
      "Epoch 4/100 [val]:   0%|          | 0/14 [00:00<?, ?it/s]/tmp/ipykernel_3879844/1907506674.py:35: FutureWarning: `torch.cuda.amp.autocast(args...)` is deprecated. Please use `torch.amp.autocast('cuda', args...)` instead.\n",
      "  with torch.cuda.amp.autocast(enabled=USE_AMP):\n",
      "Epoch 4/100 [val]: 100%|██████████| 14/14 [00:08<00:00,  1.61it/s]\n"
     ]
    },
    {
     "name": "stdout",
     "output_type": "stream",
     "text": [
      "Epoch 4: train_loss=0.5328 | val_acc=0.7621 | val_auc=0.7876\n",
      "✅ Saved new best checkpoint: val_acc=0.7621 -> checkpoints/best_vit_gz10_binary.pth\n"
     ]
    },
    {
     "name": "stderr",
     "output_type": "stream",
     "text": [
      "Epoch 5/100 [train]:   0%|          | 0/250 [00:00<?, ?it/s]/tmp/ipykernel_3879844/1907506674.py:14: FutureWarning: `torch.cuda.amp.autocast(args...)` is deprecated. Please use `torch.amp.autocast('cuda', args...)` instead.\n",
      "  with torch.cuda.amp.autocast(enabled=USE_AMP):\n",
      "Epoch 5/100 [train]: 100%|██████████| 250/250 [01:35<00:00,  2.61it/s, loss=0.5078]\n",
      "Epoch 5/100 [val]:   0%|          | 0/14 [00:00<?, ?it/s]/tmp/ipykernel_3879844/1907506674.py:35: FutureWarning: `torch.cuda.amp.autocast(args...)` is deprecated. Please use `torch.amp.autocast('cuda', args...)` instead.\n",
      "  with torch.cuda.amp.autocast(enabled=USE_AMP):\n",
      "Epoch 5/100 [val]: 100%|██████████| 14/14 [00:08<00:00,  1.71it/s]\n"
     ]
    },
    {
     "name": "stdout",
     "output_type": "stream",
     "text": [
      "Epoch 5: train_loss=0.5058 | val_acc=0.7649 | val_auc=0.8059\n",
      "✅ Saved new best checkpoint: val_acc=0.7649 -> checkpoints/best_vit_gz10_binary.pth\n"
     ]
    },
    {
     "name": "stderr",
     "output_type": "stream",
     "text": [
      "Epoch 6/100 [train]:   0%|          | 0/250 [00:00<?, ?it/s]/tmp/ipykernel_3879844/1907506674.py:14: FutureWarning: `torch.cuda.amp.autocast(args...)` is deprecated. Please use `torch.amp.autocast('cuda', args...)` instead.\n",
      "  with torch.cuda.amp.autocast(enabled=USE_AMP):\n",
      "Epoch 6/100 [train]: 100%|██████████| 250/250 [01:33<00:00,  2.68it/s, loss=0.4935]\n",
      "Epoch 6/100 [val]:   0%|          | 0/14 [00:00<?, ?it/s]/tmp/ipykernel_3879844/1907506674.py:35: FutureWarning: `torch.cuda.amp.autocast(args...)` is deprecated. Please use `torch.amp.autocast('cuda', args...)` instead.\n",
      "  with torch.cuda.amp.autocast(enabled=USE_AMP):\n",
      "Epoch 6/100 [val]: 100%|██████████| 14/14 [00:06<00:00,  2.02it/s]\n"
     ]
    },
    {
     "name": "stdout",
     "output_type": "stream",
     "text": [
      "Epoch 6: train_loss=0.4915 | val_acc=0.7345 | val_auc=0.8017\n"
     ]
    },
    {
     "name": "stderr",
     "output_type": "stream",
     "text": [
      "Epoch 7/100 [train]:   0%|          | 0/250 [00:00<?, ?it/s]/tmp/ipykernel_3879844/1907506674.py:14: FutureWarning: `torch.cuda.amp.autocast(args...)` is deprecated. Please use `torch.amp.autocast('cuda', args...)` instead.\n",
      "  with torch.cuda.amp.autocast(enabled=USE_AMP):\n",
      "Epoch 7/100 [train]: 100%|██████████| 250/250 [01:37<00:00,  2.55it/s, loss=0.4722]\n",
      "Epoch 7/100 [val]:   0%|          | 0/14 [00:00<?, ?it/s]/tmp/ipykernel_3879844/1907506674.py:35: FutureWarning: `torch.cuda.amp.autocast(args...)` is deprecated. Please use `torch.amp.autocast('cuda', args...)` instead.\n",
      "  with torch.cuda.amp.autocast(enabled=USE_AMP):\n",
      "Epoch 7/100 [val]: 100%|██████████| 14/14 [00:07<00:00,  1.79it/s]\n"
     ]
    },
    {
     "name": "stdout",
     "output_type": "stream",
     "text": [
      "Epoch 7: train_loss=0.4703 | val_acc=0.7734 | val_auc=0.8082\n",
      "✅ Saved new best checkpoint: val_acc=0.7734 -> checkpoints/best_vit_gz10_binary.pth\n"
     ]
    },
    {
     "name": "stderr",
     "output_type": "stream",
     "text": [
      "Epoch 8/100 [train]:   0%|          | 0/250 [00:00<?, ?it/s]/tmp/ipykernel_3879844/1907506674.py:14: FutureWarning: `torch.cuda.amp.autocast(args...)` is deprecated. Please use `torch.amp.autocast('cuda', args...)` instead.\n",
      "  with torch.cuda.amp.autocast(enabled=USE_AMP):\n",
      "Epoch 8/100 [train]: 100%|██████████| 250/250 [01:31<00:00,  2.73it/s, loss=0.4700]\n",
      "Epoch 8/100 [val]:   0%|          | 0/14 [00:00<?, ?it/s]/tmp/ipykernel_3879844/1907506674.py:35: FutureWarning: `torch.cuda.amp.autocast(args...)` is deprecated. Please use `torch.amp.autocast('cuda', args...)` instead.\n",
      "  with torch.cuda.amp.autocast(enabled=USE_AMP):\n",
      "Epoch 8/100 [val]: 100%|██████████| 14/14 [00:07<00:00,  1.83it/s]\n"
     ]
    },
    {
     "name": "stdout",
     "output_type": "stream",
     "text": [
      "Epoch 8: train_loss=0.4681 | val_acc=0.7965 | val_auc=0.8318\n",
      "✅ Saved new best checkpoint: val_acc=0.7965 -> checkpoints/best_vit_gz10_binary.pth\n"
     ]
    },
    {
     "name": "stderr",
     "output_type": "stream",
     "text": [
      "Epoch 9/100 [train]:   0%|          | 0/250 [00:00<?, ?it/s]/tmp/ipykernel_3879844/1907506674.py:14: FutureWarning: `torch.cuda.amp.autocast(args...)` is deprecated. Please use `torch.amp.autocast('cuda', args...)` instead.\n",
      "  with torch.cuda.amp.autocast(enabled=USE_AMP):\n",
      "Epoch 9/100 [train]: 100%|██████████| 250/250 [01:35<00:00,  2.61it/s, loss=0.4536]\n",
      "Epoch 9/100 [val]:   0%|          | 0/14 [00:00<?, ?it/s]/tmp/ipykernel_3879844/1907506674.py:35: FutureWarning: `torch.cuda.amp.autocast(args...)` is deprecated. Please use `torch.amp.autocast('cuda', args...)` instead.\n",
      "  with torch.cuda.amp.autocast(enabled=USE_AMP):\n",
      "Epoch 9/100 [val]: 100%|██████████| 14/14 [00:10<00:00,  1.33it/s]\n"
     ]
    },
    {
     "name": "stdout",
     "output_type": "stream",
     "text": [
      "Epoch 9: train_loss=0.4518 | val_acc=0.7785 | val_auc=0.8275\n"
     ]
    },
    {
     "name": "stderr",
     "output_type": "stream",
     "text": [
      "Epoch 10/100 [train]:   0%|          | 0/250 [00:00<?, ?it/s]/tmp/ipykernel_3879844/1907506674.py:14: FutureWarning: `torch.cuda.amp.autocast(args...)` is deprecated. Please use `torch.amp.autocast('cuda', args...)` instead.\n",
      "  with torch.cuda.amp.autocast(enabled=USE_AMP):\n",
      "Epoch 10/100 [train]: 100%|██████████| 250/250 [01:36<00:00,  2.59it/s, loss=0.4504]\n",
      "Epoch 10/100 [val]:   0%|          | 0/14 [00:00<?, ?it/s]/tmp/ipykernel_3879844/1907506674.py:35: FutureWarning: `torch.cuda.amp.autocast(args...)` is deprecated. Please use `torch.amp.autocast('cuda', args...)` instead.\n",
      "  with torch.cuda.amp.autocast(enabled=USE_AMP):\n",
      "Epoch 10/100 [val]: 100%|██████████| 14/14 [00:08<00:00,  1.71it/s]\n"
     ]
    },
    {
     "name": "stdout",
     "output_type": "stream",
     "text": [
      "Epoch 10: train_loss=0.4486 | val_acc=0.7706 | val_auc=0.8240\n"
     ]
    },
    {
     "name": "stderr",
     "output_type": "stream",
     "text": [
      "Epoch 11/100 [train]:   0%|          | 0/250 [00:00<?, ?it/s]/tmp/ipykernel_3879844/1907506674.py:14: FutureWarning: `torch.cuda.amp.autocast(args...)` is deprecated. Please use `torch.amp.autocast('cuda', args...)` instead.\n",
      "  with torch.cuda.amp.autocast(enabled=USE_AMP):\n",
      "Epoch 11/100 [train]: 100%|██████████| 250/250 [01:37<00:00,  2.57it/s, loss=0.4251]\n",
      "Epoch 11/100 [val]:   0%|          | 0/14 [00:00<?, ?it/s]/tmp/ipykernel_3879844/1907506674.py:35: FutureWarning: `torch.cuda.amp.autocast(args...)` is deprecated. Please use `torch.amp.autocast('cuda', args...)` instead.\n",
      "  with torch.cuda.amp.autocast(enabled=USE_AMP):\n",
      "Epoch 11/100 [val]: 100%|██████████| 14/14 [00:08<00:00,  1.65it/s]\n"
     ]
    },
    {
     "name": "stdout",
     "output_type": "stream",
     "text": [
      "Epoch 11: train_loss=0.4234 | val_acc=0.8117 | val_auc=0.8614\n",
      "✅ Saved new best checkpoint: val_acc=0.8117 -> checkpoints/best_vit_gz10_binary.pth\n"
     ]
    },
    {
     "name": "stderr",
     "output_type": "stream",
     "text": [
      "Epoch 12/100 [train]:   0%|          | 0/250 [00:00<?, ?it/s]/tmp/ipykernel_3879844/1907506674.py:14: FutureWarning: `torch.cuda.amp.autocast(args...)` is deprecated. Please use `torch.amp.autocast('cuda', args...)` instead.\n",
      "  with torch.cuda.amp.autocast(enabled=USE_AMP):\n",
      "Epoch 12/100 [train]: 100%|██████████| 250/250 [01:40<00:00,  2.49it/s, loss=0.4241]\n",
      "Epoch 12/100 [val]:   0%|          | 0/14 [00:00<?, ?it/s]/tmp/ipykernel_3879844/1907506674.py:35: FutureWarning: `torch.cuda.amp.autocast(args...)` is deprecated. Please use `torch.amp.autocast('cuda', args...)` instead.\n",
      "  with torch.cuda.amp.autocast(enabled=USE_AMP):\n",
      "Epoch 12/100 [val]: 100%|██████████| 14/14 [00:09<00:00,  1.48it/s]\n"
     ]
    },
    {
     "name": "stdout",
     "output_type": "stream",
     "text": [
      "Epoch 12: train_loss=0.4224 | val_acc=0.8224 | val_auc=0.8715\n",
      "✅ Saved new best checkpoint: val_acc=0.8224 -> checkpoints/best_vit_gz10_binary.pth\n"
     ]
    },
    {
     "name": "stderr",
     "output_type": "stream",
     "text": [
      "Epoch 13/100 [train]:   0%|          | 0/250 [00:00<?, ?it/s]/tmp/ipykernel_3879844/1907506674.py:14: FutureWarning: `torch.cuda.amp.autocast(args...)` is deprecated. Please use `torch.amp.autocast('cuda', args...)` instead.\n",
      "  with torch.cuda.amp.autocast(enabled=USE_AMP):\n",
      "Epoch 13/100 [train]: 100%|██████████| 250/250 [01:29<00:00,  2.80it/s, loss=0.4057]\n",
      "Epoch 13/100 [val]:   0%|          | 0/14 [00:00<?, ?it/s]/tmp/ipykernel_3879844/1907506674.py:35: FutureWarning: `torch.cuda.amp.autocast(args...)` is deprecated. Please use `torch.amp.autocast('cuda', args...)` instead.\n",
      "  with torch.cuda.amp.autocast(enabled=USE_AMP):\n",
      "Epoch 13/100 [val]: 100%|██████████| 14/14 [00:07<00:00,  1.97it/s]\n"
     ]
    },
    {
     "name": "stdout",
     "output_type": "stream",
     "text": [
      "Epoch 13: train_loss=0.4041 | val_acc=0.8100 | val_auc=0.8555\n"
     ]
    },
    {
     "name": "stderr",
     "output_type": "stream",
     "text": [
      "Epoch 14/100 [train]:   0%|          | 0/250 [00:00<?, ?it/s]/tmp/ipykernel_3879844/1907506674.py:14: FutureWarning: `torch.cuda.amp.autocast(args...)` is deprecated. Please use `torch.amp.autocast('cuda', args...)` instead.\n",
      "  with torch.cuda.amp.autocast(enabled=USE_AMP):\n",
      "Epoch 14/100 [train]: 100%|██████████| 250/250 [01:35<00:00,  2.62it/s, loss=0.3983]\n",
      "Epoch 14/100 [val]:   0%|          | 0/14 [00:00<?, ?it/s]/tmp/ipykernel_3879844/1907506674.py:35: FutureWarning: `torch.cuda.amp.autocast(args...)` is deprecated. Please use `torch.amp.autocast('cuda', args...)` instead.\n",
      "  with torch.cuda.amp.autocast(enabled=USE_AMP):\n",
      "Epoch 14/100 [val]: 100%|██████████| 14/14 [00:08<00:00,  1.62it/s]\n"
     ]
    },
    {
     "name": "stdout",
     "output_type": "stream",
     "text": [
      "Epoch 14: train_loss=0.3967 | val_acc=0.7988 | val_auc=0.8730\n"
     ]
    },
    {
     "name": "stderr",
     "output_type": "stream",
     "text": [
      "Epoch 15/100 [train]:   0%|          | 0/250 [00:00<?, ?it/s]/tmp/ipykernel_3879844/1907506674.py:14: FutureWarning: `torch.cuda.amp.autocast(args...)` is deprecated. Please use `torch.amp.autocast('cuda', args...)` instead.\n",
      "  with torch.cuda.amp.autocast(enabled=USE_AMP):\n",
      "Epoch 15/100 [train]: 100%|██████████| 250/250 [01:32<00:00,  2.71it/s, loss=0.4184]\n",
      "Epoch 15/100 [val]:   0%|          | 0/14 [00:00<?, ?it/s]/tmp/ipykernel_3879844/1907506674.py:35: FutureWarning: `torch.cuda.amp.autocast(args...)` is deprecated. Please use `torch.amp.autocast('cuda', args...)` instead.\n",
      "  with torch.cuda.amp.autocast(enabled=USE_AMP):\n",
      "Epoch 15/100 [val]: 100%|██████████| 14/14 [00:08<00:00,  1.74it/s]\n"
     ]
    },
    {
     "name": "stdout",
     "output_type": "stream",
     "text": [
      "Epoch 15: train_loss=0.4167 | val_acc=0.8292 | val_auc=0.8741\n",
      "✅ Saved new best checkpoint: val_acc=0.8292 -> checkpoints/best_vit_gz10_binary.pth\n"
     ]
    },
    {
     "name": "stderr",
     "output_type": "stream",
     "text": [
      "Epoch 16/100 [train]:   0%|          | 0/250 [00:00<?, ?it/s]/tmp/ipykernel_3879844/1907506674.py:14: FutureWarning: `torch.cuda.amp.autocast(args...)` is deprecated. Please use `torch.amp.autocast('cuda', args...)` instead.\n",
      "  with torch.cuda.amp.autocast(enabled=USE_AMP):\n",
      "Epoch 16/100 [train]: 100%|██████████| 250/250 [01:26<00:00,  2.88it/s, loss=0.4030]\n",
      "Epoch 16/100 [val]:   0%|          | 0/14 [00:00<?, ?it/s]/tmp/ipykernel_3879844/1907506674.py:35: FutureWarning: `torch.cuda.amp.autocast(args...)` is deprecated. Please use `torch.amp.autocast('cuda', args...)` instead.\n",
      "  with torch.cuda.amp.autocast(enabled=USE_AMP):\n",
      "Epoch 16/100 [val]: 100%|██████████| 14/14 [00:08<00:00,  1.65it/s]\n"
     ]
    },
    {
     "name": "stdout",
     "output_type": "stream",
     "text": [
      "Epoch 16: train_loss=0.4013 | val_acc=0.8213 | val_auc=0.8630\n"
     ]
    },
    {
     "name": "stderr",
     "output_type": "stream",
     "text": [
      "Epoch 17/100 [train]:   0%|          | 0/250 [00:00<?, ?it/s]/tmp/ipykernel_3879844/1907506674.py:14: FutureWarning: `torch.cuda.amp.autocast(args...)` is deprecated. Please use `torch.amp.autocast('cuda', args...)` instead.\n",
      "  with torch.cuda.amp.autocast(enabled=USE_AMP):\n",
      "Epoch 17/100 [train]: 100%|██████████| 250/250 [01:36<00:00,  2.59it/s, loss=0.3861]\n",
      "Epoch 17/100 [val]:   0%|          | 0/14 [00:00<?, ?it/s]/tmp/ipykernel_3879844/1907506674.py:35: FutureWarning: `torch.cuda.amp.autocast(args...)` is deprecated. Please use `torch.amp.autocast('cuda', args...)` instead.\n",
      "  with torch.cuda.amp.autocast(enabled=USE_AMP):\n",
      "Epoch 17/100 [val]: 100%|██████████| 14/14 [00:08<00:00,  1.59it/s]\n"
     ]
    },
    {
     "name": "stdout",
     "output_type": "stream",
     "text": [
      "Epoch 17: train_loss=0.3845 | val_acc=0.8230 | val_auc=0.8641\n"
     ]
    },
    {
     "name": "stderr",
     "output_type": "stream",
     "text": [
      "Epoch 18/100 [train]:   0%|          | 0/250 [00:00<?, ?it/s]/tmp/ipykernel_3879844/1907506674.py:14: FutureWarning: `torch.cuda.amp.autocast(args...)` is deprecated. Please use `torch.amp.autocast('cuda', args...)` instead.\n",
      "  with torch.cuda.amp.autocast(enabled=USE_AMP):\n",
      "Epoch 18/100 [train]: 100%|██████████| 250/250 [01:36<00:00,  2.58it/s, loss=0.3712]\n",
      "Epoch 18/100 [val]:   0%|          | 0/14 [00:00<?, ?it/s]/tmp/ipykernel_3879844/1907506674.py:35: FutureWarning: `torch.cuda.amp.autocast(args...)` is deprecated. Please use `torch.amp.autocast('cuda', args...)` instead.\n",
      "  with torch.cuda.amp.autocast(enabled=USE_AMP):\n",
      "Epoch 18/100 [val]: 100%|██████████| 14/14 [00:08<00:00,  1.74it/s]\n"
     ]
    },
    {
     "name": "stdout",
     "output_type": "stream",
     "text": [
      "Epoch 18: train_loss=0.3697 | val_acc=0.8348 | val_auc=0.8656\n",
      "✅ Saved new best checkpoint: val_acc=0.8348 -> checkpoints/best_vit_gz10_binary.pth\n"
     ]
    },
    {
     "name": "stderr",
     "output_type": "stream",
     "text": [
      "Epoch 19/100 [train]:   0%|          | 0/250 [00:00<?, ?it/s]/tmp/ipykernel_3879844/1907506674.py:14: FutureWarning: `torch.cuda.amp.autocast(args...)` is deprecated. Please use `torch.amp.autocast('cuda', args...)` instead.\n",
      "  with torch.cuda.amp.autocast(enabled=USE_AMP):\n",
      "Epoch 19/100 [train]: 100%|██████████| 250/250 [01:37<00:00,  2.56it/s, loss=0.3693]\n",
      "Epoch 19/100 [val]:   0%|          | 0/14 [00:00<?, ?it/s]/tmp/ipykernel_3879844/1907506674.py:35: FutureWarning: `torch.cuda.amp.autocast(args...)` is deprecated. Please use `torch.amp.autocast('cuda', args...)` instead.\n",
      "  with torch.cuda.amp.autocast(enabled=USE_AMP):\n",
      "Epoch 19/100 [val]: 100%|██████████| 14/14 [00:08<00:00,  1.62it/s]\n"
     ]
    },
    {
     "name": "stdout",
     "output_type": "stream",
     "text": [
      "Epoch 19: train_loss=0.3679 | val_acc=0.8055 | val_auc=0.8616\n"
     ]
    },
    {
     "name": "stderr",
     "output_type": "stream",
     "text": [
      "Epoch 20/100 [train]:   0%|          | 0/250 [00:00<?, ?it/s]/tmp/ipykernel_3879844/1907506674.py:14: FutureWarning: `torch.cuda.amp.autocast(args...)` is deprecated. Please use `torch.amp.autocast('cuda', args...)` instead.\n",
      "  with torch.cuda.amp.autocast(enabled=USE_AMP):\n",
      "Epoch 20/100 [train]: 100%|██████████| 250/250 [01:28<00:00,  2.83it/s, loss=0.3670]\n",
      "Epoch 20/100 [val]:   0%|          | 0/14 [00:00<?, ?it/s]/tmp/ipykernel_3879844/1907506674.py:35: FutureWarning: `torch.cuda.amp.autocast(args...)` is deprecated. Please use `torch.amp.autocast('cuda', args...)` instead.\n",
      "  with torch.cuda.amp.autocast(enabled=USE_AMP):\n",
      "Epoch 20/100 [val]: 100%|██████████| 14/14 [00:09<00:00,  1.46it/s]\n"
     ]
    },
    {
     "name": "stdout",
     "output_type": "stream",
     "text": [
      "Epoch 20: train_loss=0.3656 | val_acc=0.8410 | val_auc=0.8897\n",
      "✅ Saved new best checkpoint: val_acc=0.8410 -> checkpoints/best_vit_gz10_binary.pth\n"
     ]
    },
    {
     "name": "stderr",
     "output_type": "stream",
     "text": [
      "Epoch 21/100 [train]:   0%|          | 0/250 [00:00<?, ?it/s]/tmp/ipykernel_3879844/1907506674.py:14: FutureWarning: `torch.cuda.amp.autocast(args...)` is deprecated. Please use `torch.amp.autocast('cuda', args...)` instead.\n",
      "  with torch.cuda.amp.autocast(enabled=USE_AMP):\n",
      "Epoch 21/100 [train]: 100%|██████████| 250/250 [01:32<00:00,  2.71it/s, loss=0.3539]\n",
      "Epoch 21/100 [val]:   0%|          | 0/14 [00:00<?, ?it/s]/tmp/ipykernel_3879844/1907506674.py:35: FutureWarning: `torch.cuda.amp.autocast(args...)` is deprecated. Please use `torch.amp.autocast('cuda', args...)` instead.\n",
      "  with torch.cuda.amp.autocast(enabled=USE_AMP):\n",
      "Epoch 21/100 [val]: 100%|██████████| 14/14 [00:07<00:00,  1.88it/s]\n"
     ]
    },
    {
     "name": "stdout",
     "output_type": "stream",
     "text": [
      "Epoch 21: train_loss=0.3524 | val_acc=0.8484 | val_auc=0.8971\n",
      "✅ Saved new best checkpoint: val_acc=0.8484 -> checkpoints/best_vit_gz10_binary.pth\n"
     ]
    },
    {
     "name": "stderr",
     "output_type": "stream",
     "text": [
      "Epoch 22/100 [train]:   0%|          | 0/250 [00:00<?, ?it/s]/tmp/ipykernel_3879844/1907506674.py:14: FutureWarning: `torch.cuda.amp.autocast(args...)` is deprecated. Please use `torch.amp.autocast('cuda', args...)` instead.\n",
      "  with torch.cuda.amp.autocast(enabled=USE_AMP):\n",
      "Epoch 22/100 [train]: 100%|██████████| 250/250 [01:37<00:00,  2.57it/s, loss=0.3485]\n",
      "Epoch 22/100 [val]:   0%|          | 0/14 [00:00<?, ?it/s]/tmp/ipykernel_3879844/1907506674.py:35: FutureWarning: `torch.cuda.amp.autocast(args...)` is deprecated. Please use `torch.amp.autocast('cuda', args...)` instead.\n",
      "  with torch.cuda.amp.autocast(enabled=USE_AMP):\n",
      "Epoch 22/100 [val]: 100%|██████████| 14/14 [00:08<00:00,  1.69it/s]\n"
     ]
    },
    {
     "name": "stdout",
     "output_type": "stream",
     "text": [
      "Epoch 22: train_loss=0.3471 | val_acc=0.8585 | val_auc=0.9001\n",
      "✅ Saved new best checkpoint: val_acc=0.8585 -> checkpoints/best_vit_gz10_binary.pth\n"
     ]
    },
    {
     "name": "stderr",
     "output_type": "stream",
     "text": [
      "Epoch 23/100 [train]:   0%|          | 0/250 [00:00<?, ?it/s]/tmp/ipykernel_3879844/1907506674.py:14: FutureWarning: `torch.cuda.amp.autocast(args...)` is deprecated. Please use `torch.amp.autocast('cuda', args...)` instead.\n",
      "  with torch.cuda.amp.autocast(enabled=USE_AMP):\n",
      "Epoch 23/100 [train]: 100%|██████████| 250/250 [01:36<00:00,  2.58it/s, loss=0.3423]\n",
      "Epoch 23/100 [val]:   0%|          | 0/14 [00:00<?, ?it/s]/tmp/ipykernel_3879844/1907506674.py:35: FutureWarning: `torch.cuda.amp.autocast(args...)` is deprecated. Please use `torch.amp.autocast('cuda', args...)` instead.\n",
      "  with torch.cuda.amp.autocast(enabled=USE_AMP):\n",
      "Epoch 23/100 [val]: 100%|██████████| 14/14 [00:09<00:00,  1.42it/s]\n"
     ]
    },
    {
     "name": "stdout",
     "output_type": "stream",
     "text": [
      "Epoch 23: train_loss=0.3409 | val_acc=0.8467 | val_auc=0.8910\n"
     ]
    },
    {
     "name": "stderr",
     "output_type": "stream",
     "text": [
      "Epoch 24/100 [train]:   0%|          | 0/250 [00:00<?, ?it/s]/tmp/ipykernel_3879844/1907506674.py:14: FutureWarning: `torch.cuda.amp.autocast(args...)` is deprecated. Please use `torch.amp.autocast('cuda', args...)` instead.\n",
      "  with torch.cuda.amp.autocast(enabled=USE_AMP):\n",
      "Epoch 24/100 [train]: 100%|██████████| 250/250 [01:40<00:00,  2.48it/s, loss=0.3333]\n",
      "Epoch 24/100 [val]:   0%|          | 0/14 [00:00<?, ?it/s]/tmp/ipykernel_3879844/1907506674.py:35: FutureWarning: `torch.cuda.amp.autocast(args...)` is deprecated. Please use `torch.amp.autocast('cuda', args...)` instead.\n",
      "  with torch.cuda.amp.autocast(enabled=USE_AMP):\n",
      "Epoch 24/100 [val]: 100%|██████████| 14/14 [00:09<00:00,  1.43it/s]\n"
     ]
    },
    {
     "name": "stdout",
     "output_type": "stream",
     "text": [
      "Epoch 24: train_loss=0.3320 | val_acc=0.8168 | val_auc=0.8946\n"
     ]
    },
    {
     "name": "stderr",
     "output_type": "stream",
     "text": [
      "Epoch 25/100 [train]:   0%|          | 0/250 [00:00<?, ?it/s]/tmp/ipykernel_3879844/1907506674.py:14: FutureWarning: `torch.cuda.amp.autocast(args...)` is deprecated. Please use `torch.amp.autocast('cuda', args...)` instead.\n",
      "  with torch.cuda.amp.autocast(enabled=USE_AMP):\n",
      "Epoch 25/100 [train]: 100%|██████████| 250/250 [01:32<00:00,  2.71it/s, loss=0.3274]\n",
      "Epoch 25/100 [val]:   0%|          | 0/14 [00:00<?, ?it/s]/tmp/ipykernel_3879844/1907506674.py:35: FutureWarning: `torch.cuda.amp.autocast(args...)` is deprecated. Please use `torch.amp.autocast('cuda', args...)` instead.\n",
      "  with torch.cuda.amp.autocast(enabled=USE_AMP):\n",
      "Epoch 25/100 [val]: 100%|██████████| 14/14 [00:09<00:00,  1.53it/s]\n"
     ]
    },
    {
     "name": "stdout",
     "output_type": "stream",
     "text": [
      "Epoch 25: train_loss=0.3261 | val_acc=0.8405 | val_auc=0.9066\n"
     ]
    },
    {
     "name": "stderr",
     "output_type": "stream",
     "text": [
      "Epoch 26/100 [train]:   0%|          | 0/250 [00:00<?, ?it/s]/tmp/ipykernel_3879844/1907506674.py:14: FutureWarning: `torch.cuda.amp.autocast(args...)` is deprecated. Please use `torch.amp.autocast('cuda', args...)` instead.\n",
      "  with torch.cuda.amp.autocast(enabled=USE_AMP):\n",
      "Epoch 26/100 [train]: 100%|██████████| 250/250 [01:32<00:00,  2.70it/s, loss=0.3177]\n",
      "Epoch 26/100 [val]:   0%|          | 0/14 [00:00<?, ?it/s]/tmp/ipykernel_3879844/1907506674.py:35: FutureWarning: `torch.cuda.amp.autocast(args...)` is deprecated. Please use `torch.amp.autocast('cuda', args...)` instead.\n",
      "  with torch.cuda.amp.autocast(enabled=USE_AMP):\n",
      "Epoch 26/100 [val]: 100%|██████████| 14/14 [00:07<00:00,  1.98it/s]\n"
     ]
    },
    {
     "name": "stdout",
     "output_type": "stream",
     "text": [
      "Epoch 26: train_loss=0.3164 | val_acc=0.8647 | val_auc=0.9087\n",
      "✅ Saved new best checkpoint: val_acc=0.8647 -> checkpoints/best_vit_gz10_binary.pth\n"
     ]
    },
    {
     "name": "stderr",
     "output_type": "stream",
     "text": [
      "Epoch 27/100 [train]:   0%|          | 0/250 [00:00<?, ?it/s]/tmp/ipykernel_3879844/1907506674.py:14: FutureWarning: `torch.cuda.amp.autocast(args...)` is deprecated. Please use `torch.amp.autocast('cuda', args...)` instead.\n",
      "  with torch.cuda.amp.autocast(enabled=USE_AMP):\n",
      "Epoch 27/100 [train]: 100%|██████████| 250/250 [01:35<00:00,  2.63it/s, loss=0.3172]\n",
      "Epoch 27/100 [val]:   0%|          | 0/14 [00:00<?, ?it/s]/tmp/ipykernel_3879844/1907506674.py:35: FutureWarning: `torch.cuda.amp.autocast(args...)` is deprecated. Please use `torch.amp.autocast('cuda', args...)` instead.\n",
      "  with torch.cuda.amp.autocast(enabled=USE_AMP):\n",
      "Epoch 27/100 [val]: 100%|██████████| 14/14 [00:07<00:00,  1.78it/s]\n"
     ]
    },
    {
     "name": "stdout",
     "output_type": "stream",
     "text": [
      "Epoch 27: train_loss=0.3159 | val_acc=0.8630 | val_auc=0.9140\n"
     ]
    },
    {
     "name": "stderr",
     "output_type": "stream",
     "text": [
      "Epoch 28/100 [train]:   0%|          | 0/250 [00:00<?, ?it/s]/tmp/ipykernel_3879844/1907506674.py:14: FutureWarning: `torch.cuda.amp.autocast(args...)` is deprecated. Please use `torch.amp.autocast('cuda', args...)` instead.\n",
      "  with torch.cuda.amp.autocast(enabled=USE_AMP):\n",
      "Epoch 28/100 [train]: 100%|██████████| 250/250 [01:34<00:00,  2.64it/s, loss=0.3081]\n",
      "Epoch 28/100 [val]:   0%|          | 0/14 [00:00<?, ?it/s]/tmp/ipykernel_3879844/1907506674.py:35: FutureWarning: `torch.cuda.amp.autocast(args...)` is deprecated. Please use `torch.amp.autocast('cuda', args...)` instead.\n",
      "  with torch.cuda.amp.autocast(enabled=USE_AMP):\n",
      "Epoch 28/100 [val]: 100%|██████████| 14/14 [00:07<00:00,  1.84it/s]\n"
     ]
    },
    {
     "name": "stdout",
     "output_type": "stream",
     "text": [
      "Epoch 28: train_loss=0.3068 | val_acc=0.8709 | val_auc=0.9163\n",
      "✅ Saved new best checkpoint: val_acc=0.8709 -> checkpoints/best_vit_gz10_binary.pth\n"
     ]
    },
    {
     "name": "stderr",
     "output_type": "stream",
     "text": [
      "Epoch 29/100 [train]:   0%|          | 0/250 [00:00<?, ?it/s]/tmp/ipykernel_3879844/1907506674.py:14: FutureWarning: `torch.cuda.amp.autocast(args...)` is deprecated. Please use `torch.amp.autocast('cuda', args...)` instead.\n",
      "  with torch.cuda.amp.autocast(enabled=USE_AMP):\n",
      "Epoch 29/100 [train]: 100%|██████████| 250/250 [01:33<00:00,  2.68it/s, loss=0.3064]\n",
      "Epoch 29/100 [val]:   0%|          | 0/14 [00:00<?, ?it/s]/tmp/ipykernel_3879844/1907506674.py:35: FutureWarning: `torch.cuda.amp.autocast(args...)` is deprecated. Please use `torch.amp.autocast('cuda', args...)` instead.\n",
      "  with torch.cuda.amp.autocast(enabled=USE_AMP):\n",
      "Epoch 29/100 [val]: 100%|██████████| 14/14 [00:07<00:00,  1.98it/s]\n"
     ]
    },
    {
     "name": "stdout",
     "output_type": "stream",
     "text": [
      "Epoch 29: train_loss=0.3052 | val_acc=0.8675 | val_auc=0.9152\n"
     ]
    },
    {
     "name": "stderr",
     "output_type": "stream",
     "text": [
      "Epoch 30/100 [train]:   0%|          | 0/250 [00:00<?, ?it/s]/tmp/ipykernel_3879844/1907506674.py:14: FutureWarning: `torch.cuda.amp.autocast(args...)` is deprecated. Please use `torch.amp.autocast('cuda', args...)` instead.\n",
      "  with torch.cuda.amp.autocast(enabled=USE_AMP):\n",
      "Epoch 30/100 [train]: 100%|██████████| 250/250 [01:38<00:00,  2.53it/s, loss=0.2994]\n",
      "Epoch 30/100 [val]:   0%|          | 0/14 [00:00<?, ?it/s]/tmp/ipykernel_3879844/1907506674.py:35: FutureWarning: `torch.cuda.amp.autocast(args...)` is deprecated. Please use `torch.amp.autocast('cuda', args...)` instead.\n",
      "  with torch.cuda.amp.autocast(enabled=USE_AMP):\n",
      "Epoch 30/100 [val]: 100%|██████████| 14/14 [00:08<00:00,  1.61it/s]\n"
     ]
    },
    {
     "name": "stdout",
     "output_type": "stream",
     "text": [
      "Epoch 30: train_loss=0.2982 | val_acc=0.8754 | val_auc=0.9209\n",
      "✅ Saved new best checkpoint: val_acc=0.8754 -> checkpoints/best_vit_gz10_binary.pth\n"
     ]
    },
    {
     "name": "stderr",
     "output_type": "stream",
     "text": [
      "Epoch 31/100 [train]:   0%|          | 0/250 [00:00<?, ?it/s]/tmp/ipykernel_3879844/1907506674.py:14: FutureWarning: `torch.cuda.amp.autocast(args...)` is deprecated. Please use `torch.amp.autocast('cuda', args...)` instead.\n",
      "  with torch.cuda.amp.autocast(enabled=USE_AMP):\n",
      "Epoch 31/100 [train]: 100%|██████████| 250/250 [01:32<00:00,  2.70it/s, loss=0.2961]\n",
      "Epoch 31/100 [val]:   0%|          | 0/14 [00:00<?, ?it/s]/tmp/ipykernel_3879844/1907506674.py:35: FutureWarning: `torch.cuda.amp.autocast(args...)` is deprecated. Please use `torch.amp.autocast('cuda', args...)` instead.\n",
      "  with torch.cuda.amp.autocast(enabled=USE_AMP):\n",
      "Epoch 31/100 [val]: 100%|██████████| 14/14 [00:09<00:00,  1.43it/s]\n"
     ]
    },
    {
     "name": "stdout",
     "output_type": "stream",
     "text": [
      "Epoch 31: train_loss=0.2949 | val_acc=0.8692 | val_auc=0.9176\n"
     ]
    },
    {
     "name": "stderr",
     "output_type": "stream",
     "text": [
      "Epoch 32/100 [train]:   0%|          | 0/250 [00:00<?, ?it/s]/tmp/ipykernel_3879844/1907506674.py:14: FutureWarning: `torch.cuda.amp.autocast(args...)` is deprecated. Please use `torch.amp.autocast('cuda', args...)` instead.\n",
      "  with torch.cuda.amp.autocast(enabled=USE_AMP):\n",
      "Epoch 32/100 [train]: 100%|██████████| 250/250 [01:37<00:00,  2.57it/s, loss=0.2900]\n",
      "Epoch 32/100 [val]:   0%|          | 0/14 [00:00<?, ?it/s]/tmp/ipykernel_3879844/1907506674.py:35: FutureWarning: `torch.cuda.amp.autocast(args...)` is deprecated. Please use `torch.amp.autocast('cuda', args...)` instead.\n",
      "  with torch.cuda.amp.autocast(enabled=USE_AMP):\n",
      "Epoch 32/100 [val]: 100%|██████████| 14/14 [00:08<00:00,  1.57it/s]\n"
     ]
    },
    {
     "name": "stdout",
     "output_type": "stream",
     "text": [
      "Epoch 32: train_loss=0.2888 | val_acc=0.8568 | val_auc=0.9085\n"
     ]
    },
    {
     "name": "stderr",
     "output_type": "stream",
     "text": [
      "Epoch 33/100 [train]:   0%|          | 0/250 [00:00<?, ?it/s]/tmp/ipykernel_3879844/1907506674.py:14: FutureWarning: `torch.cuda.amp.autocast(args...)` is deprecated. Please use `torch.amp.autocast('cuda', args...)` instead.\n",
      "  with torch.cuda.amp.autocast(enabled=USE_AMP):\n",
      "Epoch 33/100 [train]: 100%|██████████| 250/250 [01:34<00:00,  2.66it/s, loss=0.2867]\n",
      "Epoch 33/100 [val]:   0%|          | 0/14 [00:00<?, ?it/s]/tmp/ipykernel_3879844/1907506674.py:35: FutureWarning: `torch.cuda.amp.autocast(args...)` is deprecated. Please use `torch.amp.autocast('cuda', args...)` instead.\n",
      "  with torch.cuda.amp.autocast(enabled=USE_AMP):\n",
      "Epoch 33/100 [val]: 100%|██████████| 14/14 [00:07<00:00,  1.97it/s]\n"
     ]
    },
    {
     "name": "stdout",
     "output_type": "stream",
     "text": [
      "Epoch 33: train_loss=0.2856 | val_acc=0.8630 | val_auc=0.9170\n"
     ]
    },
    {
     "name": "stderr",
     "output_type": "stream",
     "text": [
      "Epoch 34/100 [train]:   0%|          | 0/250 [00:00<?, ?it/s]/tmp/ipykernel_3879844/1907506674.py:14: FutureWarning: `torch.cuda.amp.autocast(args...)` is deprecated. Please use `torch.amp.autocast('cuda', args...)` instead.\n",
      "  with torch.cuda.amp.autocast(enabled=USE_AMP):\n",
      "Epoch 34/100 [train]: 100%|██████████| 250/250 [01:33<00:00,  2.67it/s, loss=0.2791]\n",
      "Epoch 34/100 [val]:   0%|          | 0/14 [00:00<?, ?it/s]/tmp/ipykernel_3879844/1907506674.py:35: FutureWarning: `torch.cuda.amp.autocast(args...)` is deprecated. Please use `torch.amp.autocast('cuda', args...)` instead.\n",
      "  with torch.cuda.amp.autocast(enabled=USE_AMP):\n",
      "Epoch 34/100 [val]: 100%|██████████| 14/14 [00:08<00:00,  1.56it/s]\n"
     ]
    },
    {
     "name": "stdout",
     "output_type": "stream",
     "text": [
      "Epoch 34: train_loss=0.2780 | val_acc=0.8760 | val_auc=0.9167\n",
      "✅ Saved new best checkpoint: val_acc=0.8760 -> checkpoints/best_vit_gz10_binary.pth\n"
     ]
    },
    {
     "name": "stderr",
     "output_type": "stream",
     "text": [
      "Epoch 35/100 [train]:   0%|          | 0/250 [00:00<?, ?it/s]/tmp/ipykernel_3879844/1907506674.py:14: FutureWarning: `torch.cuda.amp.autocast(args...)` is deprecated. Please use `torch.amp.autocast('cuda', args...)` instead.\n",
      "  with torch.cuda.amp.autocast(enabled=USE_AMP):\n",
      "Epoch 35/100 [train]: 100%|██████████| 250/250 [01:33<00:00,  2.67it/s, loss=0.2745]\n",
      "Epoch 35/100 [val]:   0%|          | 0/14 [00:00<?, ?it/s]/tmp/ipykernel_3879844/1907506674.py:35: FutureWarning: `torch.cuda.amp.autocast(args...)` is deprecated. Please use `torch.amp.autocast('cuda', args...)` instead.\n",
      "  with torch.cuda.amp.autocast(enabled=USE_AMP):\n",
      "Epoch 35/100 [val]: 100%|██████████| 14/14 [00:07<00:00,  1.94it/s]\n"
     ]
    },
    {
     "name": "stdout",
     "output_type": "stream",
     "text": [
      "Epoch 35: train_loss=0.2734 | val_acc=0.8715 | val_auc=0.9170\n"
     ]
    },
    {
     "name": "stderr",
     "output_type": "stream",
     "text": [
      "Epoch 36/100 [train]:   0%|          | 0/250 [00:00<?, ?it/s]/tmp/ipykernel_3879844/1907506674.py:14: FutureWarning: `torch.cuda.amp.autocast(args...)` is deprecated. Please use `torch.amp.autocast('cuda', args...)` instead.\n",
      "  with torch.cuda.amp.autocast(enabled=USE_AMP):\n",
      "Epoch 36/100 [train]: 100%|██████████| 250/250 [01:29<00:00,  2.80it/s, loss=0.2670]\n",
      "Epoch 36/100 [val]:   0%|          | 0/14 [00:00<?, ?it/s]/tmp/ipykernel_3879844/1907506674.py:35: FutureWarning: `torch.cuda.amp.autocast(args...)` is deprecated. Please use `torch.amp.autocast('cuda', args...)` instead.\n",
      "  with torch.cuda.amp.autocast(enabled=USE_AMP):\n",
      "Epoch 36/100 [val]: 100%|██████████| 14/14 [00:08<00:00,  1.60it/s]\n"
     ]
    },
    {
     "name": "stdout",
     "output_type": "stream",
     "text": [
      "Epoch 36: train_loss=0.2659 | val_acc=0.8788 | val_auc=0.9286\n",
      "✅ Saved new best checkpoint: val_acc=0.8788 -> checkpoints/best_vit_gz10_binary.pth\n"
     ]
    },
    {
     "name": "stderr",
     "output_type": "stream",
     "text": [
      "Epoch 37/100 [train]:   0%|          | 0/250 [00:00<?, ?it/s]/tmp/ipykernel_3879844/1907506674.py:14: FutureWarning: `torch.cuda.amp.autocast(args...)` is deprecated. Please use `torch.amp.autocast('cuda', args...)` instead.\n",
      "  with torch.cuda.amp.autocast(enabled=USE_AMP):\n",
      "Epoch 37/100 [train]: 100%|██████████| 250/250 [01:36<00:00,  2.59it/s, loss=0.2599]\n",
      "Epoch 37/100 [val]:   0%|          | 0/14 [00:00<?, ?it/s]/tmp/ipykernel_3879844/1907506674.py:35: FutureWarning: `torch.cuda.amp.autocast(args...)` is deprecated. Please use `torch.amp.autocast('cuda', args...)` instead.\n",
      "  with torch.cuda.amp.autocast(enabled=USE_AMP):\n",
      "Epoch 37/100 [val]: 100%|██████████| 14/14 [00:07<00:00,  1.78it/s]\n"
     ]
    },
    {
     "name": "stdout",
     "output_type": "stream",
     "text": [
      "Epoch 37: train_loss=0.2589 | val_acc=0.8760 | val_auc=0.9205\n"
     ]
    },
    {
     "name": "stderr",
     "output_type": "stream",
     "text": [
      "Epoch 38/100 [train]:   0%|          | 0/250 [00:00<?, ?it/s]/tmp/ipykernel_3879844/1907506674.py:14: FutureWarning: `torch.cuda.amp.autocast(args...)` is deprecated. Please use `torch.amp.autocast('cuda', args...)` instead.\n",
      "  with torch.cuda.amp.autocast(enabled=USE_AMP):\n",
      "Epoch 38/100 [train]: 100%|██████████| 250/250 [01:33<00:00,  2.68it/s, loss=0.2570]\n",
      "Epoch 38/100 [val]:   0%|          | 0/14 [00:00<?, ?it/s]/tmp/ipykernel_3879844/1907506674.py:35: FutureWarning: `torch.cuda.amp.autocast(args...)` is deprecated. Please use `torch.amp.autocast('cuda', args...)` instead.\n",
      "  with torch.cuda.amp.autocast(enabled=USE_AMP):\n",
      "Epoch 38/100 [val]: 100%|██████████| 14/14 [00:08<00:00,  1.72it/s]\n"
     ]
    },
    {
     "name": "stdout",
     "output_type": "stream",
     "text": [
      "Epoch 38: train_loss=0.2559 | val_acc=0.8771 | val_auc=0.9238\n"
     ]
    },
    {
     "name": "stderr",
     "output_type": "stream",
     "text": [
      "Epoch 39/100 [train]:   0%|          | 0/250 [00:00<?, ?it/s]/tmp/ipykernel_3879844/1907506674.py:14: FutureWarning: `torch.cuda.amp.autocast(args...)` is deprecated. Please use `torch.amp.autocast('cuda', args...)` instead.\n",
      "  with torch.cuda.amp.autocast(enabled=USE_AMP):\n",
      "Epoch 39/100 [train]: 100%|██████████| 250/250 [01:28<00:00,  2.83it/s, loss=0.2558]\n",
      "Epoch 39/100 [val]:   0%|          | 0/14 [00:00<?, ?it/s]/tmp/ipykernel_3879844/1907506674.py:35: FutureWarning: `torch.cuda.amp.autocast(args...)` is deprecated. Please use `torch.amp.autocast('cuda', args...)` instead.\n",
      "  with torch.cuda.amp.autocast(enabled=USE_AMP):\n",
      "Epoch 39/100 [val]: 100%|██████████| 14/14 [00:10<00:00,  1.39it/s]\n"
     ]
    },
    {
     "name": "stdout",
     "output_type": "stream",
     "text": [
      "Epoch 39: train_loss=0.2548 | val_acc=0.8782 | val_auc=0.9226\n"
     ]
    },
    {
     "name": "stderr",
     "output_type": "stream",
     "text": [
      "Epoch 40/100 [train]:   0%|          | 0/250 [00:00<?, ?it/s]/tmp/ipykernel_3879844/1907506674.py:14: FutureWarning: `torch.cuda.amp.autocast(args...)` is deprecated. Please use `torch.amp.autocast('cuda', args...)` instead.\n",
      "  with torch.cuda.amp.autocast(enabled=USE_AMP):\n",
      "Epoch 40/100 [train]: 100%|██████████| 250/250 [01:31<00:00,  2.73it/s, loss=0.2427]\n",
      "Epoch 40/100 [val]:   0%|          | 0/14 [00:00<?, ?it/s]/tmp/ipykernel_3879844/1907506674.py:35: FutureWarning: `torch.cuda.amp.autocast(args...)` is deprecated. Please use `torch.amp.autocast('cuda', args...)` instead.\n",
      "  with torch.cuda.amp.autocast(enabled=USE_AMP):\n",
      "Epoch 40/100 [val]: 100%|██████████| 14/14 [00:06<00:00,  2.04it/s]\n"
     ]
    },
    {
     "name": "stdout",
     "output_type": "stream",
     "text": [
      "Epoch 40: train_loss=0.2418 | val_acc=0.8799 | val_auc=0.9270\n",
      "✅ Saved new best checkpoint: val_acc=0.8799 -> checkpoints/best_vit_gz10_binary.pth\n"
     ]
    },
    {
     "name": "stderr",
     "output_type": "stream",
     "text": [
      "Epoch 41/100 [train]:   0%|          | 0/250 [00:00<?, ?it/s]/tmp/ipykernel_3879844/1907506674.py:14: FutureWarning: `torch.cuda.amp.autocast(args...)` is deprecated. Please use `torch.amp.autocast('cuda', args...)` instead.\n",
      "  with torch.cuda.amp.autocast(enabled=USE_AMP):\n",
      "Epoch 41/100 [train]: 100%|██████████| 250/250 [01:28<00:00,  2.81it/s, loss=0.2411]\n",
      "Epoch 41/100 [val]:   0%|          | 0/14 [00:00<?, ?it/s]/tmp/ipykernel_3879844/1907506674.py:35: FutureWarning: `torch.cuda.amp.autocast(args...)` is deprecated. Please use `torch.amp.autocast('cuda', args...)` instead.\n",
      "  with torch.cuda.amp.autocast(enabled=USE_AMP):\n",
      "Epoch 41/100 [val]: 100%|██████████| 14/14 [00:08<00:00,  1.72it/s]\n"
     ]
    },
    {
     "name": "stdout",
     "output_type": "stream",
     "text": [
      "Epoch 41: train_loss=0.2401 | val_acc=0.8596 | val_auc=0.9260\n"
     ]
    },
    {
     "name": "stderr",
     "output_type": "stream",
     "text": [
      "Epoch 42/100 [train]:   0%|          | 0/250 [00:00<?, ?it/s]/tmp/ipykernel_3879844/1907506674.py:14: FutureWarning: `torch.cuda.amp.autocast(args...)` is deprecated. Please use `torch.amp.autocast('cuda', args...)` instead.\n",
      "  with torch.cuda.amp.autocast(enabled=USE_AMP):\n",
      "Epoch 42/100 [train]: 100%|██████████| 250/250 [01:34<00:00,  2.65it/s, loss=0.2351]\n",
      "Epoch 42/100 [val]:   0%|          | 0/14 [00:00<?, ?it/s]/tmp/ipykernel_3879844/1907506674.py:35: FutureWarning: `torch.cuda.amp.autocast(args...)` is deprecated. Please use `torch.amp.autocast('cuda', args...)` instead.\n",
      "  with torch.cuda.amp.autocast(enabled=USE_AMP):\n",
      "Epoch 42/100 [val]: 100%|██████████| 14/14 [00:08<00:00,  1.67it/s]\n"
     ]
    },
    {
     "name": "stdout",
     "output_type": "stream",
     "text": [
      "Epoch 42: train_loss=0.2342 | val_acc=0.8641 | val_auc=0.9194\n"
     ]
    },
    {
     "name": "stderr",
     "output_type": "stream",
     "text": [
      "Epoch 43/100 [train]:   0%|          | 0/250 [00:00<?, ?it/s]/tmp/ipykernel_3879844/1907506674.py:14: FutureWarning: `torch.cuda.amp.autocast(args...)` is deprecated. Please use `torch.amp.autocast('cuda', args...)` instead.\n",
      "  with torch.cuda.amp.autocast(enabled=USE_AMP):\n",
      "Epoch 43/100 [train]: 100%|██████████| 250/250 [01:38<00:00,  2.53it/s, loss=0.2198]\n",
      "Epoch 43/100 [val]:   0%|          | 0/14 [00:00<?, ?it/s]/tmp/ipykernel_3879844/1907506674.py:35: FutureWarning: `torch.cuda.amp.autocast(args...)` is deprecated. Please use `torch.amp.autocast('cuda', args...)` instead.\n",
      "  with torch.cuda.amp.autocast(enabled=USE_AMP):\n",
      "Epoch 43/100 [val]: 100%|██████████| 14/14 [00:09<00:00,  1.51it/s]\n"
     ]
    },
    {
     "name": "stdout",
     "output_type": "stream",
     "text": [
      "Epoch 43: train_loss=0.2189 | val_acc=0.8670 | val_auc=0.9165\n"
     ]
    },
    {
     "name": "stderr",
     "output_type": "stream",
     "text": [
      "Epoch 44/100 [train]:   0%|          | 0/250 [00:00<?, ?it/s]/tmp/ipykernel_3879844/1907506674.py:14: FutureWarning: `torch.cuda.amp.autocast(args...)` is deprecated. Please use `torch.amp.autocast('cuda', args...)` instead.\n",
      "  with torch.cuda.amp.autocast(enabled=USE_AMP):\n",
      "Epoch 44/100 [train]: 100%|██████████| 250/250 [01:30<00:00,  2.77it/s, loss=0.2191]\n",
      "Epoch 44/100 [val]:   0%|          | 0/14 [00:00<?, ?it/s]/tmp/ipykernel_3879844/1907506674.py:35: FutureWarning: `torch.cuda.amp.autocast(args...)` is deprecated. Please use `torch.amp.autocast('cuda', args...)` instead.\n",
      "  with torch.cuda.amp.autocast(enabled=USE_AMP):\n",
      "Epoch 44/100 [val]: 100%|██████████| 14/14 [00:06<00:00,  2.05it/s]\n"
     ]
    },
    {
     "name": "stdout",
     "output_type": "stream",
     "text": [
      "Epoch 44: train_loss=0.2183 | val_acc=0.8664 | val_auc=0.9244\n"
     ]
    },
    {
     "name": "stderr",
     "output_type": "stream",
     "text": [
      "Epoch 45/100 [train]:   0%|          | 0/250 [00:00<?, ?it/s]/tmp/ipykernel_3879844/1907506674.py:14: FutureWarning: `torch.cuda.amp.autocast(args...)` is deprecated. Please use `torch.amp.autocast('cuda', args...)` instead.\n",
      "  with torch.cuda.amp.autocast(enabled=USE_AMP):\n",
      "Epoch 45/100 [train]: 100%|██████████| 250/250 [01:32<00:00,  2.69it/s, loss=0.2091]\n",
      "Epoch 45/100 [val]:   0%|          | 0/14 [00:00<?, ?it/s]/tmp/ipykernel_3879844/1907506674.py:35: FutureWarning: `torch.cuda.amp.autocast(args...)` is deprecated. Please use `torch.amp.autocast('cuda', args...)` instead.\n",
      "  with torch.cuda.amp.autocast(enabled=USE_AMP):\n",
      "Epoch 45/100 [val]: 100%|██████████| 14/14 [00:08<00:00,  1.62it/s]\n"
     ]
    },
    {
     "name": "stdout",
     "output_type": "stream",
     "text": [
      "Epoch 45: train_loss=0.2083 | val_acc=0.8591 | val_auc=0.9289\n"
     ]
    },
    {
     "name": "stderr",
     "output_type": "stream",
     "text": [
      "Epoch 46/100 [train]:   0%|          | 0/250 [00:00<?, ?it/s]/tmp/ipykernel_3879844/1907506674.py:14: FutureWarning: `torch.cuda.amp.autocast(args...)` is deprecated. Please use `torch.amp.autocast('cuda', args...)` instead.\n",
      "  with torch.cuda.amp.autocast(enabled=USE_AMP):\n",
      "Epoch 46/100 [train]: 100%|██████████| 250/250 [01:37<00:00,  2.57it/s, loss=0.2094]\n",
      "Epoch 46/100 [val]:   0%|          | 0/14 [00:00<?, ?it/s]/tmp/ipykernel_3879844/1907506674.py:35: FutureWarning: `torch.cuda.amp.autocast(args...)` is deprecated. Please use `torch.amp.autocast('cuda', args...)` instead.\n",
      "  with torch.cuda.amp.autocast(enabled=USE_AMP):\n",
      "Epoch 46/100 [val]: 100%|██████████| 14/14 [00:09<00:00,  1.46it/s]\n"
     ]
    },
    {
     "name": "stdout",
     "output_type": "stream",
     "text": [
      "Epoch 46: train_loss=0.2085 | val_acc=0.8782 | val_auc=0.9258\n"
     ]
    },
    {
     "name": "stderr",
     "output_type": "stream",
     "text": [
      "Epoch 47/100 [train]:   0%|          | 0/250 [00:00<?, ?it/s]/tmp/ipykernel_3879844/1907506674.py:14: FutureWarning: `torch.cuda.amp.autocast(args...)` is deprecated. Please use `torch.amp.autocast('cuda', args...)` instead.\n",
      "  with torch.cuda.amp.autocast(enabled=USE_AMP):\n",
      "Epoch 47/100 [train]: 100%|██████████| 250/250 [01:33<00:00,  2.66it/s, loss=0.2013]\n",
      "Epoch 47/100 [val]:   0%|          | 0/14 [00:00<?, ?it/s]/tmp/ipykernel_3879844/1907506674.py:35: FutureWarning: `torch.cuda.amp.autocast(args...)` is deprecated. Please use `torch.amp.autocast('cuda', args...)` instead.\n",
      "  with torch.cuda.amp.autocast(enabled=USE_AMP):\n",
      "Epoch 47/100 [val]: 100%|██████████| 14/14 [00:07<00:00,  1.99it/s]\n"
     ]
    },
    {
     "name": "stdout",
     "output_type": "stream",
     "text": [
      "Epoch 47: train_loss=0.2005 | val_acc=0.8794 | val_auc=0.9252\n"
     ]
    },
    {
     "name": "stderr",
     "output_type": "stream",
     "text": [
      "Epoch 48/100 [train]:   0%|          | 0/250 [00:00<?, ?it/s]/tmp/ipykernel_3879844/1907506674.py:14: FutureWarning: `torch.cuda.amp.autocast(args...)` is deprecated. Please use `torch.amp.autocast('cuda', args...)` instead.\n",
      "  with torch.cuda.amp.autocast(enabled=USE_AMP):\n",
      "Epoch 48/100 [train]: 100%|██████████| 250/250 [01:32<00:00,  2.71it/s, loss=0.1977]\n",
      "Epoch 48/100 [val]:   0%|          | 0/14 [00:00<?, ?it/s]/tmp/ipykernel_3879844/1907506674.py:35: FutureWarning: `torch.cuda.amp.autocast(args...)` is deprecated. Please use `torch.amp.autocast('cuda', args...)` instead.\n",
      "  with torch.cuda.amp.autocast(enabled=USE_AMP):\n",
      "Epoch 48/100 [val]: 100%|██████████| 14/14 [00:07<00:00,  1.88it/s]\n"
     ]
    },
    {
     "name": "stdout",
     "output_type": "stream",
     "text": [
      "Epoch 48: train_loss=0.1969 | val_acc=0.8692 | val_auc=0.9206\n"
     ]
    },
    {
     "name": "stderr",
     "output_type": "stream",
     "text": [
      "Epoch 49/100 [train]:   0%|          | 0/250 [00:00<?, ?it/s]/tmp/ipykernel_3879844/1907506674.py:14: FutureWarning: `torch.cuda.amp.autocast(args...)` is deprecated. Please use `torch.amp.autocast('cuda', args...)` instead.\n",
      "  with torch.cuda.amp.autocast(enabled=USE_AMP):\n",
      "Epoch 49/100 [train]: 100%|██████████| 250/250 [01:41<00:00,  2.47it/s, loss=0.1910]\n",
      "Epoch 49/100 [val]:   0%|          | 0/14 [00:00<?, ?it/s]/tmp/ipykernel_3879844/1907506674.py:35: FutureWarning: `torch.cuda.amp.autocast(args...)` is deprecated. Please use `torch.amp.autocast('cuda', args...)` instead.\n",
      "  with torch.cuda.amp.autocast(enabled=USE_AMP):\n",
      "Epoch 49/100 [val]: 100%|██████████| 14/14 [00:09<00:00,  1.50it/s]\n"
     ]
    },
    {
     "name": "stdout",
     "output_type": "stream",
     "text": [
      "Epoch 49: train_loss=0.1902 | val_acc=0.8703 | val_auc=0.9202\n"
     ]
    },
    {
     "name": "stderr",
     "output_type": "stream",
     "text": [
      "Epoch 50/100 [train]:   0%|          | 0/250 [00:00<?, ?it/s]/tmp/ipykernel_3879844/1907506674.py:14: FutureWarning: `torch.cuda.amp.autocast(args...)` is deprecated. Please use `torch.amp.autocast('cuda', args...)` instead.\n",
      "  with torch.cuda.amp.autocast(enabled=USE_AMP):\n",
      "Epoch 50/100 [train]: 100%|██████████| 250/250 [01:29<00:00,  2.81it/s, loss=0.1759]\n",
      "Epoch 50/100 [val]:   0%|          | 0/14 [00:00<?, ?it/s]/tmp/ipykernel_3879844/1907506674.py:35: FutureWarning: `torch.cuda.amp.autocast(args...)` is deprecated. Please use `torch.amp.autocast('cuda', args...)` instead.\n",
      "  with torch.cuda.amp.autocast(enabled=USE_AMP):\n",
      "Epoch 50/100 [val]: 100%|██████████| 14/14 [00:08<00:00,  1.62it/s]\n"
     ]
    },
    {
     "name": "stdout",
     "output_type": "stream",
     "text": [
      "Epoch 50: train_loss=0.1752 | val_acc=0.8811 | val_auc=0.9235\n",
      "✅ Saved new best checkpoint: val_acc=0.8811 -> checkpoints/best_vit_gz10_binary.pth\n"
     ]
    },
    {
     "name": "stderr",
     "output_type": "stream",
     "text": [
      "Epoch 51/100 [train]:   0%|          | 0/250 [00:00<?, ?it/s]/tmp/ipykernel_3879844/1907506674.py:14: FutureWarning: `torch.cuda.amp.autocast(args...)` is deprecated. Please use `torch.amp.autocast('cuda', args...)` instead.\n",
      "  with torch.cuda.amp.autocast(enabled=USE_AMP):\n",
      "Epoch 51/100 [train]: 100%|██████████| 250/250 [01:35<00:00,  2.62it/s, loss=0.1655]\n",
      "Epoch 51/100 [val]:   0%|          | 0/14 [00:00<?, ?it/s]/tmp/ipykernel_3879844/1907506674.py:35: FutureWarning: `torch.cuda.amp.autocast(args...)` is deprecated. Please use `torch.amp.autocast('cuda', args...)` instead.\n",
      "  with torch.cuda.amp.autocast(enabled=USE_AMP):\n",
      "Epoch 51/100 [val]: 100%|██████████| 14/14 [00:07<00:00,  1.90it/s]\n"
     ]
    },
    {
     "name": "stdout",
     "output_type": "stream",
     "text": [
      "Epoch 51: train_loss=0.1648 | val_acc=0.8681 | val_auc=0.9197\n"
     ]
    },
    {
     "name": "stderr",
     "output_type": "stream",
     "text": [
      "Epoch 52/100 [train]:   0%|          | 0/250 [00:00<?, ?it/s]/tmp/ipykernel_3879844/1907506674.py:14: FutureWarning: `torch.cuda.amp.autocast(args...)` is deprecated. Please use `torch.amp.autocast('cuda', args...)` instead.\n",
      "  with torch.cuda.amp.autocast(enabled=USE_AMP):\n",
      "Epoch 52/100 [train]: 100%|██████████| 250/250 [01:39<00:00,  2.51it/s, loss=0.1616]\n",
      "Epoch 52/100 [val]:   0%|          | 0/14 [00:00<?, ?it/s]/tmp/ipykernel_3879844/1907506674.py:35: FutureWarning: `torch.cuda.amp.autocast(args...)` is deprecated. Please use `torch.amp.autocast('cuda', args...)` instead.\n",
      "  with torch.cuda.amp.autocast(enabled=USE_AMP):\n",
      "Epoch 52/100 [val]: 100%|██████████| 14/14 [00:09<00:00,  1.42it/s]\n"
     ]
    },
    {
     "name": "stdout",
     "output_type": "stream",
     "text": [
      "Epoch 52: train_loss=0.1610 | val_acc=0.8675 | val_auc=0.9254\n"
     ]
    },
    {
     "name": "stderr",
     "output_type": "stream",
     "text": [
      "Epoch 53/100 [train]:   0%|          | 0/250 [00:00<?, ?it/s]/tmp/ipykernel_3879844/1907506674.py:14: FutureWarning: `torch.cuda.amp.autocast(args...)` is deprecated. Please use `torch.amp.autocast('cuda', args...)` instead.\n",
      "  with torch.cuda.amp.autocast(enabled=USE_AMP):\n",
      "Epoch 53/100 [train]: 100%|██████████| 250/250 [01:26<00:00,  2.88it/s, loss=0.1515]\n",
      "Epoch 53/100 [val]:   0%|          | 0/14 [00:00<?, ?it/s]/tmp/ipykernel_3879844/1907506674.py:35: FutureWarning: `torch.cuda.amp.autocast(args...)` is deprecated. Please use `torch.amp.autocast('cuda', args...)` instead.\n",
      "  with torch.cuda.amp.autocast(enabled=USE_AMP):\n",
      "Epoch 53/100 [val]: 100%|██████████| 14/14 [00:07<00:00,  1.84it/s]\n"
     ]
    },
    {
     "name": "stdout",
     "output_type": "stream",
     "text": [
      "Epoch 53: train_loss=0.1509 | val_acc=0.8743 | val_auc=0.9305\n"
     ]
    },
    {
     "name": "stderr",
     "output_type": "stream",
     "text": [
      "Epoch 54/100 [train]:   0%|          | 0/250 [00:00<?, ?it/s]/tmp/ipykernel_3879844/1907506674.py:14: FutureWarning: `torch.cuda.amp.autocast(args...)` is deprecated. Please use `torch.amp.autocast('cuda', args...)` instead.\n",
      "  with torch.cuda.amp.autocast(enabled=USE_AMP):\n",
      "Epoch 54/100 [train]: 100%|██████████| 250/250 [01:30<00:00,  2.75it/s, loss=0.1374]\n",
      "Epoch 54/100 [val]:   0%|          | 0/14 [00:00<?, ?it/s]/tmp/ipykernel_3879844/1907506674.py:35: FutureWarning: `torch.cuda.amp.autocast(args...)` is deprecated. Please use `torch.amp.autocast('cuda', args...)` instead.\n",
      "  with torch.cuda.amp.autocast(enabled=USE_AMP):\n",
      "Epoch 54/100 [val]: 100%|██████████| 14/14 [00:08<00:00,  1.72it/s]\n"
     ]
    },
    {
     "name": "stdout",
     "output_type": "stream",
     "text": [
      "Epoch 54: train_loss=0.1368 | val_acc=0.8692 | val_auc=0.9256\n"
     ]
    },
    {
     "name": "stderr",
     "output_type": "stream",
     "text": [
      "Epoch 55/100 [train]:   0%|          | 0/250 [00:00<?, ?it/s]/tmp/ipykernel_3879844/1907506674.py:14: FutureWarning: `torch.cuda.amp.autocast(args...)` is deprecated. Please use `torch.amp.autocast('cuda', args...)` instead.\n",
      "  with torch.cuda.amp.autocast(enabled=USE_AMP):\n",
      "Epoch 55/100 [train]: 100%|██████████| 250/250 [01:40<00:00,  2.48it/s, loss=0.1302]\n",
      "Epoch 55/100 [val]:   0%|          | 0/14 [00:00<?, ?it/s]/tmp/ipykernel_3879844/1907506674.py:35: FutureWarning: `torch.cuda.amp.autocast(args...)` is deprecated. Please use `torch.amp.autocast('cuda', args...)` instead.\n",
      "  with torch.cuda.amp.autocast(enabled=USE_AMP):\n",
      "Epoch 55/100 [val]: 100%|██████████| 14/14 [00:08<00:00,  1.73it/s]\n"
     ]
    },
    {
     "name": "stdout",
     "output_type": "stream",
     "text": [
      "Epoch 55: train_loss=0.1296 | val_acc=0.8681 | val_auc=0.9269\n"
     ]
    },
    {
     "name": "stderr",
     "output_type": "stream",
     "text": [
      "Epoch 56/100 [train]:   0%|          | 0/250 [00:00<?, ?it/s]/tmp/ipykernel_3879844/1907506674.py:14: FutureWarning: `torch.cuda.amp.autocast(args...)` is deprecated. Please use `torch.amp.autocast('cuda', args...)` instead.\n",
      "  with torch.cuda.amp.autocast(enabled=USE_AMP):\n",
      "Epoch 56/100 [train]: 100%|██████████| 250/250 [01:33<00:00,  2.69it/s, loss=0.1216]\n",
      "Epoch 56/100 [val]:   0%|          | 0/14 [00:00<?, ?it/s]/tmp/ipykernel_3879844/1907506674.py:35: FutureWarning: `torch.cuda.amp.autocast(args...)` is deprecated. Please use `torch.amp.autocast('cuda', args...)` instead.\n",
      "  with torch.cuda.amp.autocast(enabled=USE_AMP):\n",
      "Epoch 56/100 [val]: 100%|██████████| 14/14 [00:07<00:00,  1.80it/s]\n"
     ]
    },
    {
     "name": "stdout",
     "output_type": "stream",
     "text": [
      "Epoch 56: train_loss=0.1211 | val_acc=0.8805 | val_auc=0.9224\n"
     ]
    },
    {
     "name": "stderr",
     "output_type": "stream",
     "text": [
      "Epoch 57/100 [train]:   0%|          | 0/250 [00:00<?, ?it/s]/tmp/ipykernel_3879844/1907506674.py:14: FutureWarning: `torch.cuda.amp.autocast(args...)` is deprecated. Please use `torch.amp.autocast('cuda', args...)` instead.\n",
      "  with torch.cuda.amp.autocast(enabled=USE_AMP):\n",
      "Epoch 57/100 [train]: 100%|██████████| 250/250 [01:30<00:00,  2.76it/s, loss=0.1172]\n",
      "Epoch 57/100 [val]:   0%|          | 0/14 [00:00<?, ?it/s]/tmp/ipykernel_3879844/1907506674.py:35: FutureWarning: `torch.cuda.amp.autocast(args...)` is deprecated. Please use `torch.amp.autocast('cuda', args...)` instead.\n",
      "  with torch.cuda.amp.autocast(enabled=USE_AMP):\n",
      "Epoch 57/100 [val]: 100%|██████████| 14/14 [00:08<00:00,  1.60it/s]\n"
     ]
    },
    {
     "name": "stdout",
     "output_type": "stream",
     "text": [
      "Epoch 57: train_loss=0.1167 | val_acc=0.8777 | val_auc=0.9270\n"
     ]
    },
    {
     "name": "stderr",
     "output_type": "stream",
     "text": [
      "Epoch 58/100 [train]:   0%|          | 0/250 [00:00<?, ?it/s]/tmp/ipykernel_3879844/1907506674.py:14: FutureWarning: `torch.cuda.amp.autocast(args...)` is deprecated. Please use `torch.amp.autocast('cuda', args...)` instead.\n",
      "  with torch.cuda.amp.autocast(enabled=USE_AMP):\n",
      "Epoch 58/100 [train]: 100%|██████████| 250/250 [01:34<00:00,  2.65it/s, loss=0.1058]\n",
      "Epoch 58/100 [val]:   0%|          | 0/14 [00:00<?, ?it/s]/tmp/ipykernel_3879844/1907506674.py:35: FutureWarning: `torch.cuda.amp.autocast(args...)` is deprecated. Please use `torch.amp.autocast('cuda', args...)` instead.\n",
      "  with torch.cuda.amp.autocast(enabled=USE_AMP):\n",
      "Epoch 58/100 [val]: 100%|██████████| 14/14 [00:08<00:00,  1.64it/s]\n"
     ]
    },
    {
     "name": "stdout",
     "output_type": "stream",
     "text": [
      "Epoch 58: train_loss=0.1054 | val_acc=0.8681 | val_auc=0.9170\n"
     ]
    },
    {
     "name": "stderr",
     "output_type": "stream",
     "text": [
      "Epoch 59/100 [train]:   0%|          | 0/250 [00:00<?, ?it/s]/tmp/ipykernel_3879844/1907506674.py:14: FutureWarning: `torch.cuda.amp.autocast(args...)` is deprecated. Please use `torch.amp.autocast('cuda', args...)` instead.\n",
      "  with torch.cuda.amp.autocast(enabled=USE_AMP):\n",
      "Epoch 59/100 [train]: 100%|██████████| 250/250 [01:40<00:00,  2.50it/s, loss=0.1016]\n",
      "Epoch 59/100 [val]:   0%|          | 0/14 [00:00<?, ?it/s]/tmp/ipykernel_3879844/1907506674.py:35: FutureWarning: `torch.cuda.amp.autocast(args...)` is deprecated. Please use `torch.amp.autocast('cuda', args...)` instead.\n",
      "  with torch.cuda.amp.autocast(enabled=USE_AMP):\n",
      "Epoch 59/100 [val]: 100%|██████████| 14/14 [00:07<00:00,  1.98it/s]\n"
     ]
    },
    {
     "name": "stdout",
     "output_type": "stream",
     "text": [
      "Epoch 59: train_loss=0.1012 | val_acc=0.8670 | val_auc=0.9256\n"
     ]
    },
    {
     "name": "stderr",
     "output_type": "stream",
     "text": [
      "Epoch 60/100 [train]:   0%|          | 0/250 [00:00<?, ?it/s]/tmp/ipykernel_3879844/1907506674.py:14: FutureWarning: `torch.cuda.amp.autocast(args...)` is deprecated. Please use `torch.amp.autocast('cuda', args...)` instead.\n",
      "  with torch.cuda.amp.autocast(enabled=USE_AMP):\n",
      "Epoch 60/100 [train]: 100%|██████████| 250/250 [01:35<00:00,  2.62it/s, loss=0.0865]\n",
      "Epoch 60/100 [val]:   0%|          | 0/14 [00:00<?, ?it/s]/tmp/ipykernel_3879844/1907506674.py:35: FutureWarning: `torch.cuda.amp.autocast(args...)` is deprecated. Please use `torch.amp.autocast('cuda', args...)` instead.\n",
      "  with torch.cuda.amp.autocast(enabled=USE_AMP):\n",
      "Epoch 60/100 [val]: 100%|██████████| 14/14 [00:08<00:00,  1.72it/s]\n"
     ]
    },
    {
     "name": "stdout",
     "output_type": "stream",
     "text": [
      "Epoch 60: train_loss=0.0861 | val_acc=0.8636 | val_auc=0.9212\n"
     ]
    },
    {
     "name": "stderr",
     "output_type": "stream",
     "text": [
      "Epoch 61/100 [train]:   0%|          | 0/250 [00:00<?, ?it/s]/tmp/ipykernel_3879844/1907506674.py:14: FutureWarning: `torch.cuda.amp.autocast(args...)` is deprecated. Please use `torch.amp.autocast('cuda', args...)` instead.\n",
      "  with torch.cuda.amp.autocast(enabled=USE_AMP):\n",
      "Epoch 61/100 [train]: 100%|██████████| 250/250 [01:23<00:00,  2.99it/s, loss=0.0857]\n",
      "Epoch 61/100 [val]:   0%|          | 0/14 [00:00<?, ?it/s]/tmp/ipykernel_3879844/1907506674.py:35: FutureWarning: `torch.cuda.amp.autocast(args...)` is deprecated. Please use `torch.amp.autocast('cuda', args...)` instead.\n",
      "  with torch.cuda.amp.autocast(enabled=USE_AMP):\n",
      "Epoch 61/100 [val]: 100%|██████████| 14/14 [00:07<00:00,  1.95it/s]\n"
     ]
    },
    {
     "name": "stdout",
     "output_type": "stream",
     "text": [
      "Epoch 61: train_loss=0.0854 | val_acc=0.8698 | val_auc=0.9154\n"
     ]
    },
    {
     "name": "stderr",
     "output_type": "stream",
     "text": [
      "Epoch 62/100 [train]:   0%|          | 0/250 [00:00<?, ?it/s]/tmp/ipykernel_3879844/1907506674.py:14: FutureWarning: `torch.cuda.amp.autocast(args...)` is deprecated. Please use `torch.amp.autocast('cuda', args...)` instead.\n",
      "  with torch.cuda.amp.autocast(enabled=USE_AMP):\n",
      "Epoch 62/100 [train]: 100%|██████████| 250/250 [01:32<00:00,  2.70it/s, loss=0.0757]\n",
      "Epoch 62/100 [val]:   0%|          | 0/14 [00:00<?, ?it/s]/tmp/ipykernel_3879844/1907506674.py:35: FutureWarning: `torch.cuda.amp.autocast(args...)` is deprecated. Please use `torch.amp.autocast('cuda', args...)` instead.\n",
      "  with torch.cuda.amp.autocast(enabled=USE_AMP):\n",
      "Epoch 62/100 [val]: 100%|██████████| 14/14 [00:07<00:00,  1.77it/s]\n"
     ]
    },
    {
     "name": "stdout",
     "output_type": "stream",
     "text": [
      "Epoch 62: train_loss=0.0754 | val_acc=0.8805 | val_auc=0.9225\n"
     ]
    },
    {
     "name": "stderr",
     "output_type": "stream",
     "text": [
      "Epoch 63/100 [train]:   0%|          | 0/250 [00:00<?, ?it/s]/tmp/ipykernel_3879844/1907506674.py:14: FutureWarning: `torch.cuda.amp.autocast(args...)` is deprecated. Please use `torch.amp.autocast('cuda', args...)` instead.\n",
      "  with torch.cuda.amp.autocast(enabled=USE_AMP):\n",
      "Epoch 63/100 [train]: 100%|██████████| 250/250 [01:35<00:00,  2.61it/s, loss=0.0724]\n",
      "Epoch 63/100 [val]:   0%|          | 0/14 [00:00<?, ?it/s]/tmp/ipykernel_3879844/1907506674.py:35: FutureWarning: `torch.cuda.amp.autocast(args...)` is deprecated. Please use `torch.amp.autocast('cuda', args...)` instead.\n",
      "  with torch.cuda.amp.autocast(enabled=USE_AMP):\n",
      "Epoch 63/100 [val]: 100%|██████████| 14/14 [00:08<00:00,  1.56it/s]\n"
     ]
    },
    {
     "name": "stdout",
     "output_type": "stream",
     "text": [
      "Epoch 63: train_loss=0.0721 | val_acc=0.8737 | val_auc=0.9196\n"
     ]
    },
    {
     "name": "stderr",
     "output_type": "stream",
     "text": [
      "Epoch 64/100 [train]:   0%|          | 0/250 [00:00<?, ?it/s]/tmp/ipykernel_3879844/1907506674.py:14: FutureWarning: `torch.cuda.amp.autocast(args...)` is deprecated. Please use `torch.amp.autocast('cuda', args...)` instead.\n",
      "  with torch.cuda.amp.autocast(enabled=USE_AMP):\n",
      "Epoch 64/100 [train]: 100%|██████████| 250/250 [01:31<00:00,  2.74it/s, loss=0.0636]\n",
      "Epoch 64/100 [val]:   0%|          | 0/14 [00:00<?, ?it/s]/tmp/ipykernel_3879844/1907506674.py:35: FutureWarning: `torch.cuda.amp.autocast(args...)` is deprecated. Please use `torch.amp.autocast('cuda', args...)` instead.\n",
      "  with torch.cuda.amp.autocast(enabled=USE_AMP):\n",
      "Epoch 64/100 [val]: 100%|██████████| 14/14 [00:07<00:00,  1.83it/s]\n"
     ]
    },
    {
     "name": "stdout",
     "output_type": "stream",
     "text": [
      "Epoch 64: train_loss=0.0633 | val_acc=0.8675 | val_auc=0.9137\n"
     ]
    },
    {
     "name": "stderr",
     "output_type": "stream",
     "text": [
      "Epoch 65/100 [train]:   0%|          | 0/250 [00:00<?, ?it/s]/tmp/ipykernel_3879844/1907506674.py:14: FutureWarning: `torch.cuda.amp.autocast(args...)` is deprecated. Please use `torch.amp.autocast('cuda', args...)` instead.\n",
      "  with torch.cuda.amp.autocast(enabled=USE_AMP):\n",
      "Epoch 65/100 [train]: 100%|██████████| 250/250 [01:32<00:00,  2.70it/s, loss=0.0673]\n",
      "Epoch 65/100 [val]:   0%|          | 0/14 [00:00<?, ?it/s]/tmp/ipykernel_3879844/1907506674.py:35: FutureWarning: `torch.cuda.amp.autocast(args...)` is deprecated. Please use `torch.amp.autocast('cuda', args...)` instead.\n",
      "  with torch.cuda.amp.autocast(enabled=USE_AMP):\n",
      "Epoch 65/100 [val]: 100%|██████████| 14/14 [00:08<00:00,  1.67it/s]\n"
     ]
    },
    {
     "name": "stdout",
     "output_type": "stream",
     "text": [
      "Epoch 65: train_loss=0.0670 | val_acc=0.8749 | val_auc=0.9194\n"
     ]
    },
    {
     "name": "stderr",
     "output_type": "stream",
     "text": [
      "Epoch 66/100 [train]:   0%|          | 0/250 [00:00<?, ?it/s]/tmp/ipykernel_3879844/1907506674.py:14: FutureWarning: `torch.cuda.amp.autocast(args...)` is deprecated. Please use `torch.amp.autocast('cuda', args...)` instead.\n",
      "  with torch.cuda.amp.autocast(enabled=USE_AMP):\n",
      "Epoch 66/100 [train]: 100%|██████████| 250/250 [01:32<00:00,  2.70it/s, loss=0.0548]\n",
      "Epoch 66/100 [val]:   0%|          | 0/14 [00:00<?, ?it/s]/tmp/ipykernel_3879844/1907506674.py:35: FutureWarning: `torch.cuda.amp.autocast(args...)` is deprecated. Please use `torch.amp.autocast('cuda', args...)` instead.\n",
      "  with torch.cuda.amp.autocast(enabled=USE_AMP):\n",
      "Epoch 66/100 [val]: 100%|██████████| 14/14 [00:08<00:00,  1.69it/s]\n"
     ]
    },
    {
     "name": "stdout",
     "output_type": "stream",
     "text": [
      "Epoch 66: train_loss=0.0546 | val_acc=0.8517 | val_auc=0.9178\n"
     ]
    },
    {
     "name": "stderr",
     "output_type": "stream",
     "text": [
      "Epoch 67/100 [train]:   0%|          | 0/250 [00:00<?, ?it/s]/tmp/ipykernel_3879844/1907506674.py:14: FutureWarning: `torch.cuda.amp.autocast(args...)` is deprecated. Please use `torch.amp.autocast('cuda', args...)` instead.\n",
      "  with torch.cuda.amp.autocast(enabled=USE_AMP):\n",
      "Epoch 67/100 [train]: 100%|██████████| 250/250 [01:33<00:00,  2.67it/s, loss=0.0536]\n",
      "Epoch 67/100 [val]:   0%|          | 0/14 [00:00<?, ?it/s]/tmp/ipykernel_3879844/1907506674.py:35: FutureWarning: `torch.cuda.amp.autocast(args...)` is deprecated. Please use `torch.amp.autocast('cuda', args...)` instead.\n",
      "  with torch.cuda.amp.autocast(enabled=USE_AMP):\n",
      "Epoch 67/100 [val]: 100%|██████████| 14/14 [00:08<00:00,  1.65it/s]\n"
     ]
    },
    {
     "name": "stdout",
     "output_type": "stream",
     "text": [
      "Epoch 67: train_loss=0.0534 | val_acc=0.8641 | val_auc=0.9140\n"
     ]
    },
    {
     "name": "stderr",
     "output_type": "stream",
     "text": [
      "Epoch 68/100 [train]:   0%|          | 0/250 [00:00<?, ?it/s]/tmp/ipykernel_3879844/1907506674.py:14: FutureWarning: `torch.cuda.amp.autocast(args...)` is deprecated. Please use `torch.amp.autocast('cuda', args...)` instead.\n",
      "  with torch.cuda.amp.autocast(enabled=USE_AMP):\n",
      "Epoch 68/100 [train]: 100%|██████████| 250/250 [01:26<00:00,  2.88it/s, loss=0.0423]\n",
      "Epoch 68/100 [val]:   0%|          | 0/14 [00:00<?, ?it/s]/tmp/ipykernel_3879844/1907506674.py:35: FutureWarning: `torch.cuda.amp.autocast(args...)` is deprecated. Please use `torch.amp.autocast('cuda', args...)` instead.\n",
      "  with torch.cuda.amp.autocast(enabled=USE_AMP):\n",
      "Epoch 68/100 [val]: 100%|██████████| 14/14 [00:07<00:00,  1.79it/s]\n"
     ]
    },
    {
     "name": "stdout",
     "output_type": "stream",
     "text": [
      "Epoch 68: train_loss=0.0421 | val_acc=0.8828 | val_auc=0.9195\n",
      "✅ Saved new best checkpoint: val_acc=0.8828 -> checkpoints/best_vit_gz10_binary.pth\n"
     ]
    },
    {
     "name": "stderr",
     "output_type": "stream",
     "text": [
      "Epoch 69/100 [train]:   0%|          | 0/250 [00:00<?, ?it/s]/tmp/ipykernel_3879844/1907506674.py:14: FutureWarning: `torch.cuda.amp.autocast(args...)` is deprecated. Please use `torch.amp.autocast('cuda', args...)` instead.\n",
      "  with torch.cuda.amp.autocast(enabled=USE_AMP):\n",
      "Epoch 69/100 [train]: 100%|██████████| 250/250 [01:26<00:00,  2.90it/s, loss=0.0379]\n",
      "Epoch 69/100 [val]:   0%|          | 0/14 [00:00<?, ?it/s]/tmp/ipykernel_3879844/1907506674.py:35: FutureWarning: `torch.cuda.amp.autocast(args...)` is deprecated. Please use `torch.amp.autocast('cuda', args...)` instead.\n",
      "  with torch.cuda.amp.autocast(enabled=USE_AMP):\n",
      "Epoch 69/100 [val]: 100%|██████████| 14/14 [00:07<00:00,  1.80it/s]\n"
     ]
    },
    {
     "name": "stdout",
     "output_type": "stream",
     "text": [
      "Epoch 69: train_loss=0.0377 | val_acc=0.8749 | val_auc=0.9149\n"
     ]
    },
    {
     "name": "stderr",
     "output_type": "stream",
     "text": [
      "Epoch 70/100 [train]:   0%|          | 0/250 [00:00<?, ?it/s]/tmp/ipykernel_3879844/1907506674.py:14: FutureWarning: `torch.cuda.amp.autocast(args...)` is deprecated. Please use `torch.amp.autocast('cuda', args...)` instead.\n",
      "  with torch.cuda.amp.autocast(enabled=USE_AMP):\n",
      "Epoch 70/100 [train]: 100%|██████████| 250/250 [01:35<00:00,  2.62it/s, loss=0.0347]\n",
      "Epoch 70/100 [val]:   0%|          | 0/14 [00:00<?, ?it/s]/tmp/ipykernel_3879844/1907506674.py:35: FutureWarning: `torch.cuda.amp.autocast(args...)` is deprecated. Please use `torch.amp.autocast('cuda', args...)` instead.\n",
      "  with torch.cuda.amp.autocast(enabled=USE_AMP):\n",
      "Epoch 70/100 [val]: 100%|██████████| 14/14 [00:07<00:00,  1.77it/s]\n"
     ]
    },
    {
     "name": "stdout",
     "output_type": "stream",
     "text": [
      "Epoch 70: train_loss=0.0346 | val_acc=0.8664 | val_auc=0.9131\n"
     ]
    },
    {
     "name": "stderr",
     "output_type": "stream",
     "text": [
      "Epoch 71/100 [train]:   0%|          | 0/250 [00:00<?, ?it/s]/tmp/ipykernel_3879844/1907506674.py:14: FutureWarning: `torch.cuda.amp.autocast(args...)` is deprecated. Please use `torch.amp.autocast('cuda', args...)` instead.\n",
      "  with torch.cuda.amp.autocast(enabled=USE_AMP):\n",
      "Epoch 71/100 [train]: 100%|██████████| 250/250 [01:34<00:00,  2.66it/s, loss=0.0277]\n",
      "Epoch 71/100 [val]:   0%|          | 0/14 [00:00<?, ?it/s]/tmp/ipykernel_3879844/1907506674.py:35: FutureWarning: `torch.cuda.amp.autocast(args...)` is deprecated. Please use `torch.amp.autocast('cuda', args...)` instead.\n",
      "  with torch.cuda.amp.autocast(enabled=USE_AMP):\n",
      "Epoch 71/100 [val]: 100%|██████████| 14/14 [00:07<00:00,  1.79it/s]\n"
     ]
    },
    {
     "name": "stdout",
     "output_type": "stream",
     "text": [
      "Epoch 71: train_loss=0.0276 | val_acc=0.8754 | val_auc=0.9150\n"
     ]
    },
    {
     "name": "stderr",
     "output_type": "stream",
     "text": [
      "Epoch 72/100 [train]:   0%|          | 0/250 [00:00<?, ?it/s]/tmp/ipykernel_3879844/1907506674.py:14: FutureWarning: `torch.cuda.amp.autocast(args...)` is deprecated. Please use `torch.amp.autocast('cuda', args...)` instead.\n",
      "  with torch.cuda.amp.autocast(enabled=USE_AMP):\n",
      "Epoch 72/100 [train]: 100%|██████████| 250/250 [01:27<00:00,  2.87it/s, loss=0.0240]\n",
      "Epoch 72/100 [val]:   0%|          | 0/14 [00:00<?, ?it/s]/tmp/ipykernel_3879844/1907506674.py:35: FutureWarning: `torch.cuda.amp.autocast(args...)` is deprecated. Please use `torch.amp.autocast('cuda', args...)` instead.\n",
      "  with torch.cuda.amp.autocast(enabled=USE_AMP):\n",
      "Epoch 72/100 [val]: 100%|██████████| 14/14 [00:07<00:00,  1.99it/s]\n"
     ]
    },
    {
     "name": "stdout",
     "output_type": "stream",
     "text": [
      "Epoch 72: train_loss=0.0239 | val_acc=0.8743 | val_auc=0.9118\n"
     ]
    },
    {
     "name": "stderr",
     "output_type": "stream",
     "text": [
      "Epoch 73/100 [train]:   0%|          | 0/250 [00:00<?, ?it/s]/tmp/ipykernel_3879844/1907506674.py:14: FutureWarning: `torch.cuda.amp.autocast(args...)` is deprecated. Please use `torch.amp.autocast('cuda', args...)` instead.\n",
      "  with torch.cuda.amp.autocast(enabled=USE_AMP):\n",
      "Epoch 73/100 [train]: 100%|██████████| 250/250 [01:27<00:00,  2.84it/s, loss=0.0268]\n",
      "Epoch 73/100 [val]:   0%|          | 0/14 [00:00<?, ?it/s]/tmp/ipykernel_3879844/1907506674.py:35: FutureWarning: `torch.cuda.amp.autocast(args...)` is deprecated. Please use `torch.amp.autocast('cuda', args...)` instead.\n",
      "  with torch.cuda.amp.autocast(enabled=USE_AMP):\n",
      "Epoch 73/100 [val]: 100%|██████████| 14/14 [00:07<00:00,  1.95it/s]\n"
     ]
    },
    {
     "name": "stdout",
     "output_type": "stream",
     "text": [
      "Epoch 73: train_loss=0.0266 | val_acc=0.8760 | val_auc=0.9170\n"
     ]
    },
    {
     "name": "stderr",
     "output_type": "stream",
     "text": [
      "Epoch 74/100 [train]:   0%|          | 0/250 [00:00<?, ?it/s]/tmp/ipykernel_3879844/1907506674.py:14: FutureWarning: `torch.cuda.amp.autocast(args...)` is deprecated. Please use `torch.amp.autocast('cuda', args...)` instead.\n",
      "  with torch.cuda.amp.autocast(enabled=USE_AMP):\n",
      "Epoch 74/100 [train]: 100%|██████████| 250/250 [01:32<00:00,  2.69it/s, loss=0.0220]\n",
      "Epoch 74/100 [val]:   0%|          | 0/14 [00:00<?, ?it/s]/tmp/ipykernel_3879844/1907506674.py:35: FutureWarning: `torch.cuda.amp.autocast(args...)` is deprecated. Please use `torch.amp.autocast('cuda', args...)` instead.\n",
      "  with torch.cuda.amp.autocast(enabled=USE_AMP):\n",
      "Epoch 74/100 [val]: 100%|██████████| 14/14 [00:09<00:00,  1.51it/s]\n"
     ]
    },
    {
     "name": "stdout",
     "output_type": "stream",
     "text": [
      "Epoch 74: train_loss=0.0219 | val_acc=0.8737 | val_auc=0.9204\n"
     ]
    },
    {
     "name": "stderr",
     "output_type": "stream",
     "text": [
      "Epoch 75/100 [train]:   0%|          | 0/250 [00:00<?, ?it/s]/tmp/ipykernel_3879844/1907506674.py:14: FutureWarning: `torch.cuda.amp.autocast(args...)` is deprecated. Please use `torch.amp.autocast('cuda', args...)` instead.\n",
      "  with torch.cuda.amp.autocast(enabled=USE_AMP):\n",
      "Epoch 75/100 [train]: 100%|██████████| 250/250 [01:24<00:00,  2.94it/s, loss=0.0220]\n",
      "Epoch 75/100 [val]:   0%|          | 0/14 [00:00<?, ?it/s]/tmp/ipykernel_3879844/1907506674.py:35: FutureWarning: `torch.cuda.amp.autocast(args...)` is deprecated. Please use `torch.amp.autocast('cuda', args...)` instead.\n",
      "  with torch.cuda.amp.autocast(enabled=USE_AMP):\n",
      "Epoch 75/100 [val]: 100%|██████████| 14/14 [00:08<00:00,  1.63it/s]\n"
     ]
    },
    {
     "name": "stdout",
     "output_type": "stream",
     "text": [
      "Epoch 75: train_loss=0.0220 | val_acc=0.8777 | val_auc=0.9194\n"
     ]
    },
    {
     "name": "stderr",
     "output_type": "stream",
     "text": [
      "Epoch 76/100 [train]:   0%|          | 0/250 [00:00<?, ?it/s]/tmp/ipykernel_3879844/1907506674.py:14: FutureWarning: `torch.cuda.amp.autocast(args...)` is deprecated. Please use `torch.amp.autocast('cuda', args...)` instead.\n",
      "  with torch.cuda.amp.autocast(enabled=USE_AMP):\n",
      "Epoch 76/100 [train]: 100%|██████████| 250/250 [01:27<00:00,  2.85it/s, loss=0.0179]\n",
      "Epoch 76/100 [val]:   0%|          | 0/14 [00:00<?, ?it/s]/tmp/ipykernel_3879844/1907506674.py:35: FutureWarning: `torch.cuda.amp.autocast(args...)` is deprecated. Please use `torch.amp.autocast('cuda', args...)` instead.\n",
      "  with torch.cuda.amp.autocast(enabled=USE_AMP):\n",
      "Epoch 76/100 [val]: 100%|██████████| 14/14 [00:08<00:00,  1.70it/s]\n"
     ]
    },
    {
     "name": "stdout",
     "output_type": "stream",
     "text": [
      "Epoch 76: train_loss=0.0178 | val_acc=0.8760 | val_auc=0.9203\n"
     ]
    },
    {
     "name": "stderr",
     "output_type": "stream",
     "text": [
      "Epoch 77/100 [train]:   0%|          | 0/250 [00:00<?, ?it/s]/tmp/ipykernel_3879844/1907506674.py:14: FutureWarning: `torch.cuda.amp.autocast(args...)` is deprecated. Please use `torch.amp.autocast('cuda', args...)` instead.\n",
      "  with torch.cuda.amp.autocast(enabled=USE_AMP):\n",
      "Epoch 77/100 [train]: 100%|██████████| 250/250 [01:28<00:00,  2.81it/s, loss=0.0134]\n",
      "Epoch 77/100 [val]:   0%|          | 0/14 [00:00<?, ?it/s]/tmp/ipykernel_3879844/1907506674.py:35: FutureWarning: `torch.cuda.amp.autocast(args...)` is deprecated. Please use `torch.amp.autocast('cuda', args...)` instead.\n",
      "  with torch.cuda.amp.autocast(enabled=USE_AMP):\n",
      "Epoch 77/100 [val]: 100%|██████████| 14/14 [00:07<00:00,  2.00it/s]\n"
     ]
    },
    {
     "name": "stdout",
     "output_type": "stream",
     "text": [
      "Epoch 77: train_loss=0.0133 | val_acc=0.8726 | val_auc=0.9155\n"
     ]
    },
    {
     "name": "stderr",
     "output_type": "stream",
     "text": [
      "Epoch 78/100 [train]:   0%|          | 0/250 [00:00<?, ?it/s]/tmp/ipykernel_3879844/1907506674.py:14: FutureWarning: `torch.cuda.amp.autocast(args...)` is deprecated. Please use `torch.amp.autocast('cuda', args...)` instead.\n",
      "  with torch.cuda.amp.autocast(enabled=USE_AMP):\n",
      "Epoch 78/100 [train]: 100%|██████████| 250/250 [01:29<00:00,  2.79it/s, loss=0.0138]\n",
      "Epoch 78/100 [val]:   0%|          | 0/14 [00:00<?, ?it/s]/tmp/ipykernel_3879844/1907506674.py:35: FutureWarning: `torch.cuda.amp.autocast(args...)` is deprecated. Please use `torch.amp.autocast('cuda', args...)` instead.\n",
      "  with torch.cuda.amp.autocast(enabled=USE_AMP):\n",
      "Epoch 78/100 [val]: 100%|██████████| 14/14 [00:08<00:00,  1.73it/s]\n"
     ]
    },
    {
     "name": "stdout",
     "output_type": "stream",
     "text": [
      "Epoch 78: train_loss=0.0138 | val_acc=0.8788 | val_auc=0.9188\n"
     ]
    },
    {
     "name": "stderr",
     "output_type": "stream",
     "text": [
      "Epoch 79/100 [train]:   0%|          | 0/250 [00:00<?, ?it/s]/tmp/ipykernel_3879844/1907506674.py:14: FutureWarning: `torch.cuda.amp.autocast(args...)` is deprecated. Please use `torch.amp.autocast('cuda', args...)` instead.\n",
      "  with torch.cuda.amp.autocast(enabled=USE_AMP):\n",
      "Epoch 79/100 [train]: 100%|██████████| 250/250 [01:29<00:00,  2.80it/s, loss=0.0104]\n",
      "Epoch 79/100 [val]:   0%|          | 0/14 [00:00<?, ?it/s]/tmp/ipykernel_3879844/1907506674.py:35: FutureWarning: `torch.cuda.amp.autocast(args...)` is deprecated. Please use `torch.amp.autocast('cuda', args...)` instead.\n",
      "  with torch.cuda.amp.autocast(enabled=USE_AMP):\n",
      "Epoch 79/100 [val]: 100%|██████████| 14/14 [00:07<00:00,  1.96it/s]\n"
     ]
    },
    {
     "name": "stdout",
     "output_type": "stream",
     "text": [
      "Epoch 79: train_loss=0.0104 | val_acc=0.8794 | val_auc=0.9183\n"
     ]
    },
    {
     "name": "stderr",
     "output_type": "stream",
     "text": [
      "Epoch 80/100 [train]:   0%|          | 0/250 [00:00<?, ?it/s]/tmp/ipykernel_3879844/1907506674.py:14: FutureWarning: `torch.cuda.amp.autocast(args...)` is deprecated. Please use `torch.amp.autocast('cuda', args...)` instead.\n",
      "  with torch.cuda.amp.autocast(enabled=USE_AMP):\n",
      "Epoch 80/100 [train]: 100%|██████████| 250/250 [01:28<00:00,  2.83it/s, loss=0.0088]\n",
      "Epoch 80/100 [val]:   0%|          | 0/14 [00:00<?, ?it/s]/tmp/ipykernel_3879844/1907506674.py:35: FutureWarning: `torch.cuda.amp.autocast(args...)` is deprecated. Please use `torch.amp.autocast('cuda', args...)` instead.\n",
      "  with torch.cuda.amp.autocast(enabled=USE_AMP):\n",
      "Epoch 80/100 [val]: 100%|██████████| 14/14 [00:08<00:00,  1.63it/s]\n"
     ]
    },
    {
     "name": "stdout",
     "output_type": "stream",
     "text": [
      "Epoch 80: train_loss=0.0088 | val_acc=0.8760 | val_auc=0.9180\n"
     ]
    },
    {
     "name": "stderr",
     "output_type": "stream",
     "text": [
      "Epoch 81/100 [train]:   0%|          | 0/250 [00:00<?, ?it/s]/tmp/ipykernel_3879844/1907506674.py:14: FutureWarning: `torch.cuda.amp.autocast(args...)` is deprecated. Please use `torch.amp.autocast('cuda', args...)` instead.\n",
      "  with torch.cuda.amp.autocast(enabled=USE_AMP):\n",
      "Epoch 81/100 [train]: 100%|██████████| 250/250 [01:31<00:00,  2.74it/s, loss=0.0098]\n",
      "Epoch 81/100 [val]:   0%|          | 0/14 [00:00<?, ?it/s]/tmp/ipykernel_3879844/1907506674.py:35: FutureWarning: `torch.cuda.amp.autocast(args...)` is deprecated. Please use `torch.amp.autocast('cuda', args...)` instead.\n",
      "  with torch.cuda.amp.autocast(enabled=USE_AMP):\n",
      "Epoch 81/100 [val]: 100%|██████████| 14/14 [00:09<00:00,  1.45it/s]\n"
     ]
    },
    {
     "name": "stdout",
     "output_type": "stream",
     "text": [
      "Epoch 81: train_loss=0.0097 | val_acc=0.8749 | val_auc=0.9179\n"
     ]
    },
    {
     "name": "stderr",
     "output_type": "stream",
     "text": [
      "Epoch 82/100 [train]:   0%|          | 0/250 [00:00<?, ?it/s]/tmp/ipykernel_3879844/1907506674.py:14: FutureWarning: `torch.cuda.amp.autocast(args...)` is deprecated. Please use `torch.amp.autocast('cuda', args...)` instead.\n",
      "  with torch.cuda.amp.autocast(enabled=USE_AMP):\n",
      "Epoch 82/100 [train]: 100%|██████████| 250/250 [01:28<00:00,  2.82it/s, loss=0.0082]\n",
      "Epoch 82/100 [val]:   0%|          | 0/14 [00:00<?, ?it/s]/tmp/ipykernel_3879844/1907506674.py:35: FutureWarning: `torch.cuda.amp.autocast(args...)` is deprecated. Please use `torch.amp.autocast('cuda', args...)` instead.\n",
      "  with torch.cuda.amp.autocast(enabled=USE_AMP):\n",
      "Epoch 82/100 [val]: 100%|██████████| 14/14 [00:07<00:00,  1.92it/s]\n"
     ]
    },
    {
     "name": "stdout",
     "output_type": "stream",
     "text": [
      "Epoch 82: train_loss=0.0082 | val_acc=0.8794 | val_auc=0.9196\n"
     ]
    },
    {
     "name": "stderr",
     "output_type": "stream",
     "text": [
      "Epoch 83/100 [train]:   0%|          | 0/250 [00:00<?, ?it/s]/tmp/ipykernel_3879844/1907506674.py:14: FutureWarning: `torch.cuda.amp.autocast(args...)` is deprecated. Please use `torch.amp.autocast('cuda', args...)` instead.\n",
      "  with torch.cuda.amp.autocast(enabled=USE_AMP):\n",
      "Epoch 83/100 [train]: 100%|██████████| 250/250 [01:24<00:00,  2.97it/s, loss=0.0069]\n",
      "Epoch 83/100 [val]:   0%|          | 0/14 [00:00<?, ?it/s]/tmp/ipykernel_3879844/1907506674.py:35: FutureWarning: `torch.cuda.amp.autocast(args...)` is deprecated. Please use `torch.amp.autocast('cuda', args...)` instead.\n",
      "  with torch.cuda.amp.autocast(enabled=USE_AMP):\n",
      "Epoch 83/100 [val]: 100%|██████████| 14/14 [00:07<00:00,  1.82it/s]\n"
     ]
    },
    {
     "name": "stdout",
     "output_type": "stream",
     "text": [
      "Epoch 83: train_loss=0.0069 | val_acc=0.8766 | val_auc=0.9159\n"
     ]
    },
    {
     "name": "stderr",
     "output_type": "stream",
     "text": [
      "Epoch 84/100 [train]:   0%|          | 0/250 [00:00<?, ?it/s]/tmp/ipykernel_3879844/1907506674.py:14: FutureWarning: `torch.cuda.amp.autocast(args...)` is deprecated. Please use `torch.amp.autocast('cuda', args...)` instead.\n",
      "  with torch.cuda.amp.autocast(enabled=USE_AMP):\n",
      "Epoch 84/100 [train]: 100%|██████████| 250/250 [01:29<00:00,  2.78it/s, loss=0.0073]\n",
      "Epoch 84/100 [val]:   0%|          | 0/14 [00:00<?, ?it/s]/tmp/ipykernel_3879844/1907506674.py:35: FutureWarning: `torch.cuda.amp.autocast(args...)` is deprecated. Please use `torch.amp.autocast('cuda', args...)` instead.\n",
      "  with torch.cuda.amp.autocast(enabled=USE_AMP):\n",
      "Epoch 84/100 [val]: 100%|██████████| 14/14 [00:07<00:00,  1.76it/s]\n"
     ]
    },
    {
     "name": "stdout",
     "output_type": "stream",
     "text": [
      "Epoch 84: train_loss=0.0073 | val_acc=0.8771 | val_auc=0.9148\n"
     ]
    },
    {
     "name": "stderr",
     "output_type": "stream",
     "text": [
      "Epoch 85/100 [train]:   0%|          | 0/250 [00:00<?, ?it/s]/tmp/ipykernel_3879844/1907506674.py:14: FutureWarning: `torch.cuda.amp.autocast(args...)` is deprecated. Please use `torch.amp.autocast('cuda', args...)` instead.\n",
      "  with torch.cuda.amp.autocast(enabled=USE_AMP):\n",
      "Epoch 85/100 [train]: 100%|██████████| 250/250 [01:28<00:00,  2.81it/s, loss=0.0065]\n",
      "Epoch 85/100 [val]:   0%|          | 0/14 [00:00<?, ?it/s]/tmp/ipykernel_3879844/1907506674.py:35: FutureWarning: `torch.cuda.amp.autocast(args...)` is deprecated. Please use `torch.amp.autocast('cuda', args...)` instead.\n",
      "  with torch.cuda.amp.autocast(enabled=USE_AMP):\n",
      "Epoch 85/100 [val]: 100%|██████████| 14/14 [00:07<00:00,  1.80it/s]\n"
     ]
    },
    {
     "name": "stdout",
     "output_type": "stream",
     "text": [
      "Epoch 85: train_loss=0.0065 | val_acc=0.8760 | val_auc=0.9135\n"
     ]
    },
    {
     "name": "stderr",
     "output_type": "stream",
     "text": [
      "Epoch 86/100 [train]:   0%|          | 0/250 [00:00<?, ?it/s]/tmp/ipykernel_3879844/1907506674.py:14: FutureWarning: `torch.cuda.amp.autocast(args...)` is deprecated. Please use `torch.amp.autocast('cuda', args...)` instead.\n",
      "  with torch.cuda.amp.autocast(enabled=USE_AMP):\n",
      "Epoch 86/100 [train]: 100%|██████████| 250/250 [01:29<00:00,  2.78it/s, loss=0.0061]\n",
      "Epoch 86/100 [val]:   0%|          | 0/14 [00:00<?, ?it/s]/tmp/ipykernel_3879844/1907506674.py:35: FutureWarning: `torch.cuda.amp.autocast(args...)` is deprecated. Please use `torch.amp.autocast('cuda', args...)` instead.\n",
      "  with torch.cuda.amp.autocast(enabled=USE_AMP):\n",
      "Epoch 86/100 [val]: 100%|██████████| 14/14 [00:07<00:00,  1.77it/s]\n"
     ]
    },
    {
     "name": "stdout",
     "output_type": "stream",
     "text": [
      "Epoch 86: train_loss=0.0060 | val_acc=0.8794 | val_auc=0.9139\n"
     ]
    },
    {
     "name": "stderr",
     "output_type": "stream",
     "text": [
      "Epoch 87/100 [train]:   0%|          | 0/250 [00:00<?, ?it/s]/tmp/ipykernel_3879844/1907506674.py:14: FutureWarning: `torch.cuda.amp.autocast(args...)` is deprecated. Please use `torch.amp.autocast('cuda', args...)` instead.\n",
      "  with torch.cuda.amp.autocast(enabled=USE_AMP):\n",
      "Epoch 87/100 [train]: 100%|██████████| 250/250 [01:25<00:00,  2.92it/s, loss=0.0055]\n",
      "Epoch 87/100 [val]:   0%|          | 0/14 [00:00<?, ?it/s]/tmp/ipykernel_3879844/1907506674.py:35: FutureWarning: `torch.cuda.amp.autocast(args...)` is deprecated. Please use `torch.amp.autocast('cuda', args...)` instead.\n",
      "  with torch.cuda.amp.autocast(enabled=USE_AMP):\n",
      "Epoch 87/100 [val]: 100%|██████████| 14/14 [00:08<00:00,  1.65it/s]\n"
     ]
    },
    {
     "name": "stdout",
     "output_type": "stream",
     "text": [
      "Epoch 87: train_loss=0.0055 | val_acc=0.8782 | val_auc=0.9137\n"
     ]
    },
    {
     "name": "stderr",
     "output_type": "stream",
     "text": [
      "Epoch 88/100 [train]:   0%|          | 0/250 [00:00<?, ?it/s]/tmp/ipykernel_3879844/1907506674.py:14: FutureWarning: `torch.cuda.amp.autocast(args...)` is deprecated. Please use `torch.amp.autocast('cuda', args...)` instead.\n",
      "  with torch.cuda.amp.autocast(enabled=USE_AMP):\n",
      "Epoch 88/100 [train]: 100%|██████████| 250/250 [01:32<00:00,  2.69it/s, loss=0.0042]\n",
      "Epoch 88/100 [val]:   0%|          | 0/14 [00:00<?, ?it/s]/tmp/ipykernel_3879844/1907506674.py:35: FutureWarning: `torch.cuda.amp.autocast(args...)` is deprecated. Please use `torch.amp.autocast('cuda', args...)` instead.\n",
      "  with torch.cuda.amp.autocast(enabled=USE_AMP):\n",
      "Epoch 88/100 [val]: 100%|██████████| 14/14 [00:08<00:00,  1.66it/s]\n"
     ]
    },
    {
     "name": "stdout",
     "output_type": "stream",
     "text": [
      "Epoch 88: train_loss=0.0042 | val_acc=0.8782 | val_auc=0.9123\n"
     ]
    },
    {
     "name": "stderr",
     "output_type": "stream",
     "text": [
      "Epoch 89/100 [train]:   0%|          | 0/250 [00:00<?, ?it/s]/tmp/ipykernel_3879844/1907506674.py:14: FutureWarning: `torch.cuda.amp.autocast(args...)` is deprecated. Please use `torch.amp.autocast('cuda', args...)` instead.\n",
      "  with torch.cuda.amp.autocast(enabled=USE_AMP):\n",
      "Epoch 89/100 [train]: 100%|██████████| 250/250 [01:27<00:00,  2.85it/s, loss=0.0040]\n",
      "Epoch 89/100 [val]:   0%|          | 0/14 [00:00<?, ?it/s]/tmp/ipykernel_3879844/1907506674.py:35: FutureWarning: `torch.cuda.amp.autocast(args...)` is deprecated. Please use `torch.amp.autocast('cuda', args...)` instead.\n",
      "  with torch.cuda.amp.autocast(enabled=USE_AMP):\n",
      "Epoch 89/100 [val]: 100%|██████████| 14/14 [00:07<00:00,  1.96it/s]\n"
     ]
    },
    {
     "name": "stdout",
     "output_type": "stream",
     "text": [
      "Epoch 89: train_loss=0.0040 | val_acc=0.8777 | val_auc=0.9127\n"
     ]
    },
    {
     "name": "stderr",
     "output_type": "stream",
     "text": [
      "Epoch 90/100 [train]:   0%|          | 0/250 [00:00<?, ?it/s]/tmp/ipykernel_3879844/1907506674.py:14: FutureWarning: `torch.cuda.amp.autocast(args...)` is deprecated. Please use `torch.amp.autocast('cuda', args...)` instead.\n",
      "  with torch.cuda.amp.autocast(enabled=USE_AMP):\n",
      "Epoch 90/100 [train]: 100%|██████████| 250/250 [01:33<00:00,  2.68it/s, loss=0.0045]\n",
      "Epoch 90/100 [val]:   0%|          | 0/14 [00:00<?, ?it/s]/tmp/ipykernel_3879844/1907506674.py:35: FutureWarning: `torch.cuda.amp.autocast(args...)` is deprecated. Please use `torch.amp.autocast('cuda', args...)` instead.\n",
      "  with torch.cuda.amp.autocast(enabled=USE_AMP):\n",
      "Epoch 90/100 [val]: 100%|██████████| 14/14 [00:07<00:00,  1.85it/s]\n"
     ]
    },
    {
     "name": "stdout",
     "output_type": "stream",
     "text": [
      "Epoch 90: train_loss=0.0045 | val_acc=0.8794 | val_auc=0.9137\n"
     ]
    },
    {
     "name": "stderr",
     "output_type": "stream",
     "text": [
      "Epoch 91/100 [train]:   0%|          | 0/250 [00:00<?, ?it/s]/tmp/ipykernel_3879844/1907506674.py:14: FutureWarning: `torch.cuda.amp.autocast(args...)` is deprecated. Please use `torch.amp.autocast('cuda', args...)` instead.\n",
      "  with torch.cuda.amp.autocast(enabled=USE_AMP):\n",
      "Epoch 91/100 [train]: 100%|██████████| 250/250 [01:28<00:00,  2.83it/s, loss=0.0033]\n",
      "Epoch 91/100 [val]:   0%|          | 0/14 [00:00<?, ?it/s]/tmp/ipykernel_3879844/1907506674.py:35: FutureWarning: `torch.cuda.amp.autocast(args...)` is deprecated. Please use `torch.amp.autocast('cuda', args...)` instead.\n",
      "  with torch.cuda.amp.autocast(enabled=USE_AMP):\n",
      "Epoch 91/100 [val]: 100%|██████████| 14/14 [00:07<00:00,  1.87it/s]\n"
     ]
    },
    {
     "name": "stdout",
     "output_type": "stream",
     "text": [
      "Epoch 91: train_loss=0.0033 | val_acc=0.8799 | val_auc=0.9126\n"
     ]
    },
    {
     "name": "stderr",
     "output_type": "stream",
     "text": [
      "Epoch 92/100 [train]:   0%|          | 0/250 [00:00<?, ?it/s]/tmp/ipykernel_3879844/1907506674.py:14: FutureWarning: `torch.cuda.amp.autocast(args...)` is deprecated. Please use `torch.amp.autocast('cuda', args...)` instead.\n",
      "  with torch.cuda.amp.autocast(enabled=USE_AMP):\n",
      "Epoch 92/100 [train]: 100%|██████████| 250/250 [01:26<00:00,  2.90it/s, loss=0.0040]\n",
      "Epoch 92/100 [val]:   0%|          | 0/14 [00:00<?, ?it/s]/tmp/ipykernel_3879844/1907506674.py:35: FutureWarning: `torch.cuda.amp.autocast(args...)` is deprecated. Please use `torch.amp.autocast('cuda', args...)` instead.\n",
      "  with torch.cuda.amp.autocast(enabled=USE_AMP):\n",
      "Epoch 92/100 [val]: 100%|██████████| 14/14 [00:07<00:00,  1.81it/s]\n"
     ]
    },
    {
     "name": "stdout",
     "output_type": "stream",
     "text": [
      "Epoch 92: train_loss=0.0040 | val_acc=0.8777 | val_auc=0.9118\n"
     ]
    },
    {
     "name": "stderr",
     "output_type": "stream",
     "text": [
      "Epoch 93/100 [train]:   0%|          | 0/250 [00:00<?, ?it/s]/tmp/ipykernel_3879844/1907506674.py:14: FutureWarning: `torch.cuda.amp.autocast(args...)` is deprecated. Please use `torch.amp.autocast('cuda', args...)` instead.\n",
      "  with torch.cuda.amp.autocast(enabled=USE_AMP):\n",
      "Epoch 93/100 [train]: 100%|██████████| 250/250 [01:28<00:00,  2.81it/s, loss=0.0039]\n",
      "Epoch 93/100 [val]:   0%|          | 0/14 [00:00<?, ?it/s]/tmp/ipykernel_3879844/1907506674.py:35: FutureWarning: `torch.cuda.amp.autocast(args...)` is deprecated. Please use `torch.amp.autocast('cuda', args...)` instead.\n",
      "  with torch.cuda.amp.autocast(enabled=USE_AMP):\n",
      "Epoch 93/100 [val]: 100%|██████████| 14/14 [00:07<00:00,  1.99it/s]\n"
     ]
    },
    {
     "name": "stdout",
     "output_type": "stream",
     "text": [
      "Epoch 93: train_loss=0.0039 | val_acc=0.8782 | val_auc=0.9127\n"
     ]
    },
    {
     "name": "stderr",
     "output_type": "stream",
     "text": [
      "Epoch 94/100 [train]:   0%|          | 0/250 [00:00<?, ?it/s]/tmp/ipykernel_3879844/1907506674.py:14: FutureWarning: `torch.cuda.amp.autocast(args...)` is deprecated. Please use `torch.amp.autocast('cuda', args...)` instead.\n",
      "  with torch.cuda.amp.autocast(enabled=USE_AMP):\n",
      "Epoch 94/100 [train]: 100%|██████████| 250/250 [01:26<00:00,  2.88it/s, loss=0.0034]\n",
      "Epoch 94/100 [val]:   0%|          | 0/14 [00:00<?, ?it/s]/tmp/ipykernel_3879844/1907506674.py:35: FutureWarning: `torch.cuda.amp.autocast(args...)` is deprecated. Please use `torch.amp.autocast('cuda', args...)` instead.\n",
      "  with torch.cuda.amp.autocast(enabled=USE_AMP):\n",
      "Epoch 94/100 [val]: 100%|██████████| 14/14 [00:07<00:00,  1.95it/s]\n"
     ]
    },
    {
     "name": "stdout",
     "output_type": "stream",
     "text": [
      "Epoch 94: train_loss=0.0034 | val_acc=0.8788 | val_auc=0.9113\n"
     ]
    },
    {
     "name": "stderr",
     "output_type": "stream",
     "text": [
      "Epoch 95/100 [train]:   0%|          | 0/250 [00:00<?, ?it/s]/tmp/ipykernel_3879844/1907506674.py:14: FutureWarning: `torch.cuda.amp.autocast(args...)` is deprecated. Please use `torch.amp.autocast('cuda', args...)` instead.\n",
      "  with torch.cuda.amp.autocast(enabled=USE_AMP):\n",
      "Epoch 95/100 [train]: 100%|██████████| 250/250 [01:23<00:00,  2.99it/s, loss=0.0034]\n",
      "Epoch 95/100 [val]:   0%|          | 0/14 [00:00<?, ?it/s]/tmp/ipykernel_3879844/1907506674.py:35: FutureWarning: `torch.cuda.amp.autocast(args...)` is deprecated. Please use `torch.amp.autocast('cuda', args...)` instead.\n",
      "  with torch.cuda.amp.autocast(enabled=USE_AMP):\n",
      "Epoch 95/100 [val]: 100%|██████████| 14/14 [00:07<00:00,  1.98it/s]\n"
     ]
    },
    {
     "name": "stdout",
     "output_type": "stream",
     "text": [
      "Epoch 95: train_loss=0.0034 | val_acc=0.8760 | val_auc=0.9115\n"
     ]
    },
    {
     "name": "stderr",
     "output_type": "stream",
     "text": [
      "Epoch 96/100 [train]:   0%|          | 0/250 [00:00<?, ?it/s]/tmp/ipykernel_3879844/1907506674.py:14: FutureWarning: `torch.cuda.amp.autocast(args...)` is deprecated. Please use `torch.amp.autocast('cuda', args...)` instead.\n",
      "  with torch.cuda.amp.autocast(enabled=USE_AMP):\n",
      "Epoch 96/100 [train]: 100%|██████████| 250/250 [01:28<00:00,  2.82it/s, loss=0.0032]\n",
      "Epoch 96/100 [val]:   0%|          | 0/14 [00:00<?, ?it/s]/tmp/ipykernel_3879844/1907506674.py:35: FutureWarning: `torch.cuda.amp.autocast(args...)` is deprecated. Please use `torch.amp.autocast('cuda', args...)` instead.\n",
      "  with torch.cuda.amp.autocast(enabled=USE_AMP):\n",
      "Epoch 96/100 [val]: 100%|██████████| 14/14 [00:09<00:00,  1.54it/s]\n"
     ]
    },
    {
     "name": "stdout",
     "output_type": "stream",
     "text": [
      "Epoch 96: train_loss=0.0032 | val_acc=0.8766 | val_auc=0.9106\n"
     ]
    },
    {
     "name": "stderr",
     "output_type": "stream",
     "text": [
      "Epoch 97/100 [train]:   0%|          | 0/250 [00:00<?, ?it/s]/tmp/ipykernel_3879844/1907506674.py:14: FutureWarning: `torch.cuda.amp.autocast(args...)` is deprecated. Please use `torch.amp.autocast('cuda', args...)` instead.\n",
      "  with torch.cuda.amp.autocast(enabled=USE_AMP):\n",
      "Epoch 97/100 [train]: 100%|██████████| 250/250 [01:33<00:00,  2.68it/s, loss=0.0033]\n",
      "Epoch 97/100 [val]:   0%|          | 0/14 [00:00<?, ?it/s]/tmp/ipykernel_3879844/1907506674.py:35: FutureWarning: `torch.cuda.amp.autocast(args...)` is deprecated. Please use `torch.amp.autocast('cuda', args...)` instead.\n",
      "  with torch.cuda.amp.autocast(enabled=USE_AMP):\n",
      "Epoch 97/100 [val]: 100%|██████████| 14/14 [00:07<00:00,  1.86it/s]\n"
     ]
    },
    {
     "name": "stdout",
     "output_type": "stream",
     "text": [
      "Epoch 97: train_loss=0.0033 | val_acc=0.8771 | val_auc=0.9109\n"
     ]
    },
    {
     "name": "stderr",
     "output_type": "stream",
     "text": [
      "Epoch 98/100 [train]:   0%|          | 0/250 [00:00<?, ?it/s]/tmp/ipykernel_3879844/1907506674.py:14: FutureWarning: `torch.cuda.amp.autocast(args...)` is deprecated. Please use `torch.amp.autocast('cuda', args...)` instead.\n",
      "  with torch.cuda.amp.autocast(enabled=USE_AMP):\n",
      "Epoch 98/100 [train]: 100%|██████████| 250/250 [01:25<00:00,  2.91it/s, loss=0.0030]\n",
      "Epoch 98/100 [val]:   0%|          | 0/14 [00:00<?, ?it/s]/tmp/ipykernel_3879844/1907506674.py:35: FutureWarning: `torch.cuda.amp.autocast(args...)` is deprecated. Please use `torch.amp.autocast('cuda', args...)` instead.\n",
      "  with torch.cuda.amp.autocast(enabled=USE_AMP):\n",
      "Epoch 98/100 [val]: 100%|██████████| 14/14 [00:07<00:00,  1.99it/s]\n"
     ]
    },
    {
     "name": "stdout",
     "output_type": "stream",
     "text": [
      "Epoch 98: train_loss=0.0029 | val_acc=0.8771 | val_auc=0.9098\n"
     ]
    },
    {
     "name": "stderr",
     "output_type": "stream",
     "text": [
      "Epoch 99/100 [train]:   0%|          | 0/250 [00:00<?, ?it/s]/tmp/ipykernel_3879844/1907506674.py:14: FutureWarning: `torch.cuda.amp.autocast(args...)` is deprecated. Please use `torch.amp.autocast('cuda', args...)` instead.\n",
      "  with torch.cuda.amp.autocast(enabled=USE_AMP):\n",
      "Epoch 99/100 [train]: 100%|██████████| 250/250 [01:30<00:00,  2.76it/s, loss=0.0031]\n",
      "Epoch 99/100 [val]:   0%|          | 0/14 [00:00<?, ?it/s]/tmp/ipykernel_3879844/1907506674.py:35: FutureWarning: `torch.cuda.amp.autocast(args...)` is deprecated. Please use `torch.amp.autocast('cuda', args...)` instead.\n",
      "  with torch.cuda.amp.autocast(enabled=USE_AMP):\n",
      "Epoch 99/100 [val]: 100%|██████████| 14/14 [00:07<00:00,  1.96it/s]\n"
     ]
    },
    {
     "name": "stdout",
     "output_type": "stream",
     "text": [
      "Epoch 99: train_loss=0.0031 | val_acc=0.8771 | val_auc=0.9100\n"
     ]
    },
    {
     "name": "stderr",
     "output_type": "stream",
     "text": [
      "Epoch 100/100 [train]:   0%|          | 0/250 [00:00<?, ?it/s]/tmp/ipykernel_3879844/1907506674.py:14: FutureWarning: `torch.cuda.amp.autocast(args...)` is deprecated. Please use `torch.amp.autocast('cuda', args...)` instead.\n",
      "  with torch.cuda.amp.autocast(enabled=USE_AMP):\n",
      "Epoch 100/100 [train]: 100%|██████████| 250/250 [01:33<00:00,  2.68it/s, loss=0.0026]\n",
      "Epoch 100/100 [val]:   0%|          | 0/14 [00:00<?, ?it/s]/tmp/ipykernel_3879844/1907506674.py:35: FutureWarning: `torch.cuda.amp.autocast(args...)` is deprecated. Please use `torch.amp.autocast('cuda', args...)` instead.\n",
      "  with torch.cuda.amp.autocast(enabled=USE_AMP):\n",
      "Epoch 100/100 [val]: 100%|██████████| 14/14 [00:06<00:00,  2.00it/s]"
     ]
    },
    {
     "name": "stdout",
     "output_type": "stream",
     "text": [
      "Epoch 100: train_loss=0.0026 | val_acc=0.8771 | val_auc=0.9097\n"
     ]
    },
    {
     "name": "stderr",
     "output_type": "stream",
     "text": [
      "\n"
     ]
    }
   ],
   "source": [
    "train_losses = []\n",
    "val_accs = []\n",
    "val_aucs = []\n",
    "\n",
    "for epoch in range(EPOCHS):\n",
    "    model.train()\n",
    "    pbar = tqdm(train_loader, desc=f'Epoch {epoch+1}/{EPOCHS} [train]')\n",
    "    running = 0.0\n",
    "    for batch in pbar:\n",
    "        xb = batch['pixel_values'].to(DEVICE)\n",
    "        yb = batch['label'].to(DEVICE)\n",
    "\n",
    "        opt.zero_grad()\n",
    "        with torch.cuda.amp.autocast(enabled=USE_AMP):\n",
    "            logits = model(xb)\n",
    "            loss = loss_fn(logits, yb)\n",
    "\n",
    "        scaler.scale(loss).backward()\n",
    "        scaler.step(opt)\n",
    "        scaler.update()\n",
    "\n",
    "        running += loss.item()\n",
    "        pbar.set_postfix({'loss': f'{running/((pbar.n or 1)):.4f}'})\n",
    "\n",
    "    train_loss = running / max(1, len(train_loader))\n",
    "    train_losses.append(train_loss)\n",
    "\n",
    "    # Validation\n",
    "    model.eval()\n",
    "    y_true, y_pred, y_prob = [], [], []\n",
    "    with torch.no_grad():\n",
    "        for batch in tqdm(val_loader, desc=f'Epoch {epoch+1}/{EPOCHS} [val]'):\n",
    "            xb = batch['pixel_values'].to(DEVICE)\n",
    "            yb = batch['label']\n",
    "            with torch.cuda.amp.autocast(enabled=USE_AMP):\n",
    "                logits = model(xb)\n",
    "            prob = torch.softmax(logits, dim=1)[:, 1].cpu().numpy()\n",
    "            pr = logits.argmax(1).cpu().numpy()\n",
    "            y_true += yb.numpy().tolist()\n",
    "            y_pred += pr.tolist()\n",
    "            y_prob += prob.tolist()\n",
    "\n",
    "    acc = accuracy_score(y_true, y_pred)\n",
    "    val_accs.append(acc)\n",
    "    try:\n",
    "        auc = roc_auc_score(y_true, y_prob)\n",
    "    except Exception:\n",
    "        auc = float('nan')\n",
    "    val_aucs.append(auc)\n",
    "    print(f'Epoch {epoch+1}: train_loss={train_loss:.4f} | val_acc={acc:.4f} | val_auc={auc:.4f}')\n",
    "\n",
    "    if acc > best_acc:\n",
    "        best_acc = acc\n",
    "        torch.save({'model_state': model.state_dict(), 'acc': best_acc, 'epoch': epoch+1}, best_path)\n",
    "        print(f'✅ Saved new best checkpoint: val_acc={best_acc:.4f} -> {best_path}')\n",
    "\n",
    "    sched.step()\n"
   ]
  },
  {
   "cell_type": "markdown",
   "id": "b15461f7",
   "metadata": {},
   "source": [
    "## 9) Curves: training loss, validation accuracy, AUC"
   ]
  },
  {
   "cell_type": "code",
   "execution_count": 30,
   "id": "fc2eec8c",
   "metadata": {},
   "outputs": [
    {
     "data": {
      "image/png": "[encoded data removed]",
      "text/plain": [
       "<Figure size 1400x400 with 3 Axes>"
      ]
     },
     "metadata": {},
     "output_type": "display_data"
    }
   ],
   "source": [
    "plt.figure(figsize=(14,4))\n",
    "plt.subplot(1,3,1)\n",
    "plt.plot(train_losses, label='train loss')\n",
    "plt.xlabel('epoch'); plt.ylabel('loss'); plt.title('Training loss'); plt.legend()\n",
    "plt.subplot(1,3,2)\n",
    "plt.plot(val_accs, label='val acc')\n",
    "plt.xlabel('epoch'); plt.ylabel('accuracy'); plt.title('Validation accuracy'); plt.legend()\n",
    "plt.subplot(1,3,3)\n",
    "plt.plot(val_aucs, label='val AUC')\n",
    "plt.xlabel('epoch'); plt.ylabel('ROC-AUC'); plt.title('Validation AUC'); plt.legend()\n",
    "plt.tight_layout(); plt.show()\n"
   ]
  },
  {
   "cell_type": "markdown",
   "id": "10b1ba8b",
   "metadata": {},
   "source": [
    "## 8) Reload best checkpoint and evaluate on validation"
   ]
  },
  {
   "cell_type": "code",
   "execution_count": 31,
   "id": "f9c24154",
   "metadata": {},
   "outputs": [
    {
     "name": "stdout",
     "output_type": "stream",
     "text": [
      "Loaded best checkpoint from epoch 68, val_acc=0.8828\n"
     ]
    },
    {
     "name": "stderr",
     "output_type": "stream",
     "text": [
      "Eval best [val]:   0%|          | 0/14 [00:00<?, ?it/s]"
     ]
    },
    {
     "name": "stderr",
     "output_type": "stream",
     "text": [
      "/tmp/ipykernel_3879844/2812230969.py:12: FutureWarning: `torch.cuda.amp.autocast(args...)` is deprecated. Please use `torch.amp.autocast('cuda', args...)` instead.\n",
      "  with torch.cuda.amp.autocast(enabled=USE_AMP):\n",
      "Eval best [val]: 100%|██████████| 14/14 [00:07<00:00,  1.94it/s]"
     ]
    },
    {
     "name": "stdout",
     "output_type": "stream",
     "text": [
      "              precision    recall  f1-score   support\n",
      "\n",
      "           0       0.89      0.95      0.92      1216\n",
      "           1       0.86      0.75      0.80       558\n",
      "\n",
      "    accuracy                           0.88      1774\n",
      "   macro avg       0.88      0.85      0.86      1774\n",
      "weighted avg       0.88      0.88      0.88      1774\n",
      "\n"
     ]
    },
    {
     "name": "stderr",
     "output_type": "stream",
     "text": [
      "\n"
     ]
    }
   ],
   "source": [
    "if best_path.exists():\n",
    "    ckpt = torch.load(best_path, map_location=DEVICE)\n",
    "    model.load_state_dict(ckpt['model_state'])\n",
    "    print(f'Loaded best checkpoint from epoch {ckpt.get(\"epoch\")}, val_acc={ckpt.get(\"acc\"):.4f}')\n",
    "\n",
    "model.eval()\n",
    "y_true, y_pred = [], []\n",
    "with torch.no_grad():\n",
    "    for batch in tqdm(val_loader, desc='Eval best [val]'):\n",
    "        xb = batch['pixel_values'].to(DEVICE)\n",
    "        yb = batch['label']\n",
    "        with torch.cuda.amp.autocast(enabled=USE_AMP):\n",
    "            logits = model(xb)\n",
    "        pr = logits.argmax(1).cpu()\n",
    "        y_true += yb.numpy().tolist()\n",
    "        y_pred += pr.numpy().tolist()\n",
    "\n",
    "from sklearn.metrics import classification_report\n",
    "print(classification_report(y_true, y_pred))\n"
   ]
  },
  {
   "cell_type": "code",
   "execution_count": 32,
   "id": "2e11ce34",
   "metadata": {},
   "outputs": [],
   "source": [
    "## 9) Confusion matrix"
   ]
  },
  {
   "cell_type": "code",
   "execution_count": 33,
   "id": "c9b4d451",
   "metadata": {},
   "outputs": [
    {
     "data": {
      "image/png": "[encoded data removed]",
      "text/plain": [
       "<Figure size 600x600 with 2 Axes>"
      ]
     },
     "metadata": {},
     "output_type": "display_data"
    }
   ],
   "source": [
    "from sklearn.metrics import confusion_matrix\n",
    "import numpy as np, matplotlib.pyplot as plt\n",
    "cm = confusion_matrix(y_true, y_pred)\n",
    "fig, ax = plt.subplots(figsize=(6,6))\n",
    "im = ax.imshow(cm, interpolation='nearest')\n",
    "ax.figure.colorbar(im, ax=ax)\n",
    "ax.set(xticks=np.arange(cm.shape[1]), yticks=np.arange(cm.shape[0]),\n",
    "       xlabel='Predicted', ylabel='True', title='Confusion Matrix')\n",
    "plt.setp(ax.get_xticklabels(), rotation=45, ha='right', rotation_mode='anchor')\n",
    "thresh = cm.max() / 2.\n",
    "for i in range(cm.shape[0]):\n",
    "    for j in range(cm.shape[1]):\n",
    "        ax.text(j, i, format(cm[i, j], 'd'), ha='center', va='center',\n",
    "                color='white' if cm[i, j] > thresh else 'black')\n",
    "fig.tight_layout(); plt.show()\n"
   ]
  }
 ],
 "metadata": {
  "kernelspec": {
   "display_name": "ml",
   "language": "python",
   "name": "python3"
  },
  "language_info": {
   "codemirror_mode": {
    "name": "ipython",
    "version": 3
   },
   "file_extension": ".py",
   "mimetype": "text/x-python",
   "name": "python",
   "nbconvert_exporter": "python",
   "pygments_lexer": "ipython3",
   "version": "3.12.0"
  }
 },
 "nbformat": 4,
 "nbformat_minor": 5
}
