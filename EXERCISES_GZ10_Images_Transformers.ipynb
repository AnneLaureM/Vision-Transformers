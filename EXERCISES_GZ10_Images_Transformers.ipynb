{
  "cells": [
    {
      "cell_type": "markdown",
      "metadata": {},
      "source": "# EXERCISES \u2014 GZ10 Galaxy Morphology with Vision Transformers (Binary & Multiclass)\nGenerated on 2025-10-28T18:01:56.091558Z\n\n> Exercises-only notebook. Read the guidance, then complete the TODO blocks. No solutions are included."
    },
    {
      "cell_type": "markdown",
      "metadata": {},
      "source": "\n## Objective\n\nYou will classify **GZ10 galaxy images** with **Transformers** (ViT). Two tasks:\n- Binary: Spiral vs Elliptical\n- Multiclass: Elliptical / Spiral / Edge-on / Merger\n\nThis is an **exercise notebook** with guidance only. Add your code in the TODO blocks.\n"
    },
    {
      "cell_type": "markdown",
      "metadata": {},
      "source": "\n### Data Assumptions\n\nPlace your prepared data locally:\n\n```\ndata/\n  gz10/\n    train/\n      images/    # PNG/JPG\n      labels.csv # columns: filename, label (or label_binary)\n    val/\n      images/\n      labels.csv\n    test/\n      images/\n      labels.csv\n```\n\nLabel notes:\n- For **binary**, use `label_binary` in {0,1}.\n- For **multiclass**, use `label` as strings or ints. If strings, map to ids.\n"
    },
    {
      "cell_type": "code",
      "execution_count": null,
      "metadata": {},
      "outputs": [],
      "source": "\n# Imports\nimport os, math, json, random\nimport numpy as np\nimport pandas as pd\nimport torch\nimport torch.nn as nn\nfrom torch.utils.data import Dataset, DataLoader\nfrom torchvision import transforms\nfrom PIL import Image\nimport matplotlib.pyplot as plt\n\ntry:\n    import timm  # Vision models incl. ViT\nexcept ImportError:\n    timm = None\n    print(\"WARNING: `timm` not found. Install with: pip install timm\")\n\nSEED = 42\nrandom.seed(SEED); np.random.seed(SEED); torch.manual_seed(SEED)\n\nDATA_ROOT = \"data/gz10\"\nIMG_SIZE = 224\nBATCH_SIZE = 32\nNUM_WORKERS = 2\n\n# Multiclass canonical order (edit if needed)\nMULTI_CLASSES = [\"Elliptical\", \"Spiral\", \"EdgeOn\", \"Merger\"]\nCLASS_TO_ID = {c:i for i,c in enumerate(MULTI_CLASSES)}\nID_TO_CLASS = {i:c for c,i in CLASS_TO_ID.items()}\n"
    },
    {
      "cell_type": "code",
      "execution_count": null,
      "metadata": {},
      "outputs": [],
      "source": "\n# TODO: Define transforms (augmentation for train, eval transforms for val/test)\n# Hint: rotations/flips okay; avoid heavy color jitter that could hurt morphology cues.\ntrain_tfms = None\neval_tfms = None\n"
    },
    {
      "cell_type": "code",
      "execution_count": null,
      "metadata": {},
      "outputs": [],
      "source": "\n# TODO: Implement GalaxyDataset that reads images and labels.csv\n# class GalaxyDataset(Dataset):\n#     def __init__(...):\n#         ...\n#     def __len__(...):\n#         ...\n#     def __getitem__(...):\n#         ...\npass\n"
    },
    {
      "cell_type": "code",
      "execution_count": null,
      "metadata": {},
      "outputs": [],
      "source": "\n# TODO: Build DataLoaders for binary and multiclass tasks\n# train_loader_bin, val_loader_bin, test_loader_bin = ...\n# train_loader_mc,  val_loader_mc,  test_loader_mc  = ...\npass\n"
    },
    {
      "cell_type": "markdown",
      "metadata": {},
      "source": "\n### Visualization & EDA (recommended)\n\n- Show a small grid of images with labels\n- Plot class distributions for train/val/test\n"
    },
    {
      "cell_type": "code",
      "execution_count": null,
      "metadata": {},
      "outputs": [],
      "source": "\n# TODO: Add EDA cells (plots, sample grids)\npass\n"
    },
    {
      "cell_type": "markdown",
      "metadata": {},
      "source": "\n### ViT Models\n\n- Binary head: single logit with `BCEWithLogitsLoss`\n- Multiclass head: `num_classes` logits with `CrossEntropyLoss`\n"
    },
    {
      "cell_type": "code",
      "execution_count": null,
      "metadata": {},
      "outputs": [],
      "source": "\n# TODO: Build ViT models using timm; replace heads appropriately\n# def build_vit_binary(...): ...\n# def build_vit_multiclass(...): ...\npass\n"
    },
    {
      "cell_type": "markdown",
      "metadata": {},
      "source": "\n### Training & Evaluation\n\nBinary:\n- Metrics: AUC, Average Precision, Accuracy, F1 at tuned threshold\n- Tune threshold on validation PR curve\n\nMulticlass:\n- Metrics: Macro-F1, Balanced Accuracy, Confusion Matrix\n"
    },
    {
      "cell_type": "code",
      "execution_count": null,
      "metadata": {},
      "outputs": [],
      "source": "\n# TODO: Training loops and evaluation functions\n# - train_one_epoch(...)\n# - eval_binary(...)\n# - eval_multiclass(...)\npass\n"
    },
    {
      "cell_type": "markdown",
      "metadata": {},
      "source": "\n### Explainability (optional)\n\nImplement attention rollout for ViT:\n- Capture attention weights from transformer blocks\n- Aggregate across layers for a saliency-like map\n- Overlay on input images for a few examples\n"
    }
  ],
  "metadata": {
    "kernelspec": {
      "display_name": "Python 3",
      "language": "python",
      "name": "python3"
    },
    "language_info": {
      "name": "python",
      "version": "3.x"
    }
  },
  "nbformat": 4,
  "nbformat_minor": 5
}