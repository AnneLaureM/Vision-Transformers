{
  "cells": [
    {
      "cell_type": "markdown",
      "metadata": {},
      "source": "# EXERCISES \u2014 Toy Astrophysics Image Segmentation with Transformers\nGenerated on 2025-10-28T18:01:56.092491Z\n\n> Exercises-only notebook. Read the guidance, then complete the TODO blocks. No solutions are included."
    },
    {
      "cell_type": "markdown",
      "metadata": {},
      "source": "\n## Objective\n\nYou will practice **image segmentation with Transformers** on a **toy astrophysics dataset**.\nThe goal is to segment synthetic \"galaxies\" (blobs/disks/spirals) from background.\n\nExercises only: You will implement data generation, a tiny segmentation Transformer, and evaluation.\n"
    },
    {
      "cell_type": "markdown",
      "metadata": {},
      "source": "\n### Dataset\n\nWe generate a small synthetic dataset of grayscale images with:\n- Elliptical blobs\n- Disk-like profiles\n- A few spiral-like arms drawn procedurally (very rough)\n\nYou may also replace with your own tiny labeled segmentation dataset.\n"
    },
    {
      "cell_type": "code",
      "execution_count": null,
      "metadata": {},
      "outputs": [],
      "source": "\n# Imports\nimport os, math, random\nimport numpy as np\nimport torch\nimport torch.nn as nn\nfrom torch.utils.data import Dataset, DataLoader\nimport matplotlib.pyplot as plt\n\nSEED = 123\nrandom.seed(SEED); np.random.seed(SEED); torch.manual_seed(SEED)\n\nH, W = 128, 128\nBATCH_SIZE = 16\n"
    },
    {
      "cell_type": "code",
      "execution_count": null,
      "metadata": {},
      "outputs": [],
      "source": "\n# TODO: Implement a generator that creates (image, mask) pairs\n# Guidelines:\n# - Use Gaussian blobs and simple geometric shapes to simulate galaxies\n# - Return float32 arrays normalized to [0,1]\n# - mask: 0 background, 1 galaxy\n#\n# def make_sample():\n#     img = np.zeros((H,W), dtype=np.float32)\n#     msk = np.zeros((H,W), dtype=np.float32)\n#     ... draw stuff ...\n#     return img, msk\npass\n"
    },
    {
      "cell_type": "code",
      "execution_count": null,
      "metadata": {},
      "outputs": [],
      "source": "\n# TODO: Create a PyTorch Dataset + DataLoader for train/val/test using the generator\n# class ToySegDataset(Dataset): ...\n# train_loader = ...\n# val_loader   = ...\n# test_loader  = ...\npass\n"
    },
    {
      "cell_type": "markdown",
      "metadata": {},
      "source": "\n### Model: Mini Segmentation Transformer (skeleton)\n\nDesign options:\n- Patchify input, add positional embeddings, run a few encoder layers, then upsample to dense mask.\n- Or: use a hybrid (CNN encoder \u2192 Transformer bottleneck \u2192 upsampling head).\n"
    },
    {
      "cell_type": "code",
      "execution_count": null,
      "metadata": {},
      "outputs": [],
      "source": "\n# TODO: Implement a tiny segmentation Transformer\n# class MiniSegFormer(nn.Module): ...\n# - Patch embedding (conv or unfold)\n# - Positional embeddings\n# - Transformer encoder layers\n# - Simple upsampling head to (H, W)\npass\n"
    },
    {
      "cell_type": "markdown",
      "metadata": {},
      "source": "\n### Training & Metrics\n\n- Loss: Dice loss + BCE (typical for segmentation)\n- Metrics: IoU (Jaccard), Dice coefficient\n"
    },
    {
      "cell_type": "code",
      "execution_count": null,
      "metadata": {},
      "outputs": [],
      "source": "\n# TODO: Implement training loop and metrics (IoU, Dice)\n# def dice_coeff(pred, targ): ...\n# def iou(pred, targ): ...\n# Train for a few epochs and evaluate on val/test\npass\n"
    },
    {
      "cell_type": "markdown",
      "metadata": {},
      "source": "\n### Visualization\n\nPlot a few predictions side-by-side with ground-truth masks.\n"
    },
    {
      "cell_type": "code",
      "execution_count": null,
      "metadata": {},
      "outputs": [],
      "source": "\n# TODO: Plot qualitative results for 4-8 samples\npass\n"
    }
  ],
  "metadata": {
    "kernelspec": {
      "display_name": "Python 3",
      "language": "python",
      "name": "python3"
    },
    "language_info": {
      "name": "python",
      "version": "3.x"
    }
  },
  "nbformat": 4,
  "nbformat_minor": 5
}