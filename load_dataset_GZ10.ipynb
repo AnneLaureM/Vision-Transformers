{
 "cells": [
  {
   "cell_type": "markdown",
   "id": "030bb2aa",
   "metadata": {},
   "source": [
    "\n",
    "# GZ10 dataset — quick downloader & inspector\n",
    "\n",
    "This notebook helps you:\n",
    "- Install dependencies\n",
    "- Discover available configs & splits\n",
    "- Download the dataset (optionally with streaming first)\n",
    "- Inspect schema & a few rows\n",
    "- Save each split to disk (`datasets` Arrow format) and optionally Parquet/CSV\n",
    "\n",
    "> Dataset: `MultimodalUniverse/gz10`\n"
   ]
  },
  {
   "cell_type": "code",
   "execution_count": 2,
   "id": "b31faaab",
   "metadata": {},
   "outputs": [],
   "source": [
    "\n",
    "# If running locally, uncomment the next line.\n",
    "# %pip install -U datasets huggingface_hub pandas pyarrow\n"
   ]
  },
  {
   "cell_type": "code",
   "execution_count": 3,
   "id": "80beb4a3",
   "metadata": {},
   "outputs": [
    {
     "name": "stdout",
     "output_type": "stream",
     "text": [
      "{'gz10_label': 0, 'redshift': 0.07258749008178711, 'object_id': '904', 'rgb_image': <PIL.PngImagePlugin.PngImageFile image mode=RGB size=256x256 at 0x7F5CA8A04D40>, 'rgb_pixel_scale': 0.2619999945163727}\n",
      "{'gz10_label': 1, 'redshift': 0.13457761704921722, 'object_id': '1558', 'rgb_image': <PIL.PngImagePlugin.PngImageFile image mode=RGB size=256x256 at 0x7F5CA8A906B0>, 'rgb_pixel_scale': 0.2619999945163727}\n",
      "{'gz10_label': 1, 'redshift': 0.12955686450004578, 'object_id': '1768', 'rgb_image': <PIL.PngImagePlugin.PngImageFile image mode=RGB size=256x256 at 0x7F5CA8A90710>, 'rgb_pixel_scale': 0.2619999945163727}\n",
      "Dataset({\n",
      "    features: ['gz10_label', 'redshift', 'object_id', 'rgb_image', 'rgb_pixel_scale'],\n",
      "    num_rows: 17736\n",
      "})\n",
      "Split 'validation' indisponible: Unknown split \"validation\". Should be one of ['train'].\n",
      "Split 'test' indisponible: Unknown split \"test\". Should be one of ['train'].\n"
     ]
    },
    {
     "name": "stderr",
     "output_type": "stream",
     "text": [
      "Saving the dataset (6/6 shards): 100%|██████████| 17736/17736 [00:11<00:00, 1606.19 examples/s]\n",
      "Creating parquet from Arrow format: 100%|██████████| 26/26 [00:06<00:00,  3.76ba/s]\n",
      "Creating CSV from Arrow format: 100%|██████████| 18/18 [02:36<00:00,  8.70s/ba]\n"
     ]
    }
   ],
   "source": [
    "# %pip install -U datasets huggingface_hub pyarrow pandas\n",
    "from datasets import load_dataset\n",
    "\n",
    "ds_name = \"MultimodalUniverse/gz10\"\n",
    "\n",
    "# 1) Short streaming preview (optional)\n",
    "try:\n",
    "    stream = load_dataset(ds_name, split=\"train\", streaming=True)\n",
    "    for i, row in enumerate(stream):\n",
    "        print(row)\n",
    "        if i == 2:\n",
    "            break\n",
    "except Exception as e:\n",
    "    print(\"Streaming non dispo:\", e)\n",
    "\n",
    "# 2) Full download of current splits\n",
    "splits = [\"train\", \"validation\", \"test\"]\n",
    "loaded = {}\n",
    "for sp in splits:\n",
    "    try:\n",
    "        loaded[sp] = load_dataset(ds_name, split=sp)  # mis en cache automatiquement\n",
    "        print(loaded[sp])\n",
    "    except Exception as e:\n",
    "        print(f\"Split '{sp}' indisponible:\", e)\n",
    "\n",
    "# 3) Local backup (Arrow Datasets format)\n",
    "from pathlib import Path\n",
    "base = Path(\"data_gz10\")\n",
    "base.mkdir(exist_ok=True, parents=True)\n",
    "for sp, d in loaded.items():\n",
    "    d.save_to_disk(str(base / f\"{sp}_arrow\"))\n",
    "    try:\n",
    "        d.to_parquet(str(base / f\"{sp}.parquet\"))\n",
    "        d.to_csv(str(base / f\"{sp}.csv\"))\n",
    "    except Exception as e:\n",
    "        print(\"parquet/csv export not available in your 'datasets' version\", e)\n"
   ]
  },
  {
   "cell_type": "markdown",
   "id": "550500c1",
   "metadata": {},
   "source": []
  },
  {
   "cell_type": "markdown",
   "id": "6be67885",
   "metadata": {},
   "source": []
  }
 ],
 "metadata": {
  "kernelspec": {
   "display_name": "ml",
   "language": "python",
   "name": "python3"
  },
  "language_info": {
   "codemirror_mode": {
    "name": "ipython",
    "version": 3
   },
   "file_extension": ".py",
   "mimetype": "text/x-python",
   "name": "python",
   "nbconvert_exporter": "python",
   "pygments_lexer": "ipython3",
   "version": "3.12.0"
  }
 },
 "nbformat": 4,
 "nbformat_minor": 5
}
